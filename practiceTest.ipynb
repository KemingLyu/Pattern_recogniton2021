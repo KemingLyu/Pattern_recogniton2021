{
 "cells": [
  {
   "cell_type": "markdown",
   "id": "ca097e42-112d-4f98-aa04-0425a5ebb53a",
   "metadata": {
    "heading_collapsed": "true",
    "tags": []
   },
   "source": [
    "## 第二題"
   ]
  },
  {
   "cell_type": "markdown",
   "id": "6588e0d9-0308-49e5-82e3-81e8f70d86ca",
   "metadata": {
    "tags": []
   },
   "source": [
    "#### (2.1) 針對$f(x)$作出 1次以及2次微分函數，分別命名為$f_1(x)$ 以及$f_2(x)$\n",
    " "
   ]
  },
  {
   "cell_type": "code",
   "execution_count": 60,
   "id": "e8c49b0c-7fe7-4ba1-87bd-e83f9f352601",
   "metadata": {},
   "outputs": [
    {
     "data": {
      "text/latex": [
       "$\\displaystyle x^{4} + 4 x^{3} - 79 x^{2} - 226 x + 720$"
      ],
      "text/plain": [
       "x**4 + 4*x**3 - 79*x**2 - 226*x + 720"
      ]
     },
     "execution_count": 60,
     "metadata": {},
     "output_type": "execute_result"
    }
   ],
   "source": [
    "import sympy as sp\n",
    "import IPython.display\n",
    "x = sp.symbols('x')\n",
    "f = x**4 + 4*x**3 - 79*x**2 - 226*x + 720\n",
    "f"
   ]
  },
  {
   "cell_type": "code",
   "execution_count": 107,
   "id": "bd6a77db-d823-4992-8aee-b1dd86652ceb",
   "metadata": {},
   "outputs": [
    {
     "data": {
      "text/latex": [
       "$\\displaystyle 4 x^{3} + 12 x^{2} - 158 x - 226$"
      ],
      "text/plain": [
       "4*x**3 + 12*x**2 - 158*x - 226"
      ]
     },
     "metadata": {},
     "output_type": "display_data"
    },
    {
     "data": {
      "text/latex": [
       "$\\displaystyle 12 x^{2} + 24 x - 158$"
      ],
      "text/plain": [
       "12*x**2 + 24*x - 158"
      ]
     },
     "metadata": {},
     "output_type": "display_data"
    },
    {
     "data": {
      "text/latex": [
       "$\\displaystyle 24 x + 24$"
      ],
      "text/plain": [
       "24*x + 24"
      ]
     },
     "metadata": {},
     "output_type": "display_data"
    }
   ],
   "source": [
    "f1 = f.diff(x)\n",
    "f2 = f.diff(x).diff(x)\n",
    "f3 = f2.diff(x)\n",
    "display(f1, f2, f3)"
   ]
  },
  {
   "cell_type": "markdown",
   "id": "1a8909b5-96a3-42c4-8c23-343bf202967d",
   "metadata": {
    "tags": []
   },
   "source": [
    "#### (2.2) 找出$f(x)$的區域最小值 (local minimum)，即該點低於其左右的點。 "
   ]
  },
  {
   "cell_type": "code",
   "execution_count": 90,
   "id": "484825da-2dc3-44d3-9cee-7313cfdd2955",
   "metadata": {},
   "outputs": [
    {
     "data": {
      "text/latex": [
       "$\\displaystyle -1.35398$"
      ],
      "text/plain": [
       "-1.35398"
      ]
     },
     "metadata": {},
     "output_type": "display_data"
    },
    {
     "data": {
      "text/latex": [
       "$\\displaystyle -7.335$"
      ],
      "text/plain": [
       "-7.33500"
      ]
     },
     "metadata": {},
     "output_type": "display_data"
    },
    {
     "data": {
      "text/latex": [
       "$\\displaystyle 5.68898$"
      ],
      "text/plain": [
       "5.68898"
      ]
     },
     "metadata": {},
     "output_type": "display_data"
    }
   ],
   "source": [
    "a = sp.solve(f1,x)\n",
    "display(a[0].evalf().round(5), a[1].evalf().round(5), a[2].evalf().round(5))"
   ]
  },
  {
   "cell_type": "code",
   "execution_count": 92,
   "id": "b3edca65-dfec-463b-8221-48d3f7b93375",
   "metadata": {},
   "outputs": [
    {
     "data": {
      "text/latex": [
       "$\\displaystyle 874.6038$"
      ],
      "text/plain": [
       "874.6038"
      ]
     },
     "metadata": {},
     "output_type": "display_data"
    },
    {
     "data": {
      "text/latex": [
       "$\\displaystyle -556.543641549918 - 3.0 \\cdot 10^{-20} i$"
      ],
      "text/plain": [
       "-556.543641549918 - 0.e-20*I"
      ]
     },
     "metadata": {},
     "output_type": "display_data"
    },
    {
     "data": {
      "text/latex": [
       "$\\displaystyle -1338.56020256927 - 3.0 \\cdot 10^{-23} i$"
      ],
      "text/plain": [
       "-1338.56020256927 - 0.e-23*I"
      ]
     },
     "metadata": {},
     "output_type": "display_data"
    }
   ],
   "source": [
    "y1 = f.subs(x, a[0]).evalf()\n",
    "y2 = f.subs(x, a[1]).evalf()\n",
    "y3 = f.subs(x, a[2]).evalf()\n",
    "display(y1.round(4), y2, y3)"
   ]
  },
  {
   "cell_type": "markdown",
   "id": "a55eabac-02db-49b3-bb91-3b6e0b62cb55",
   "metadata": {
    "tags": []
   },
   "source": [
    "#### (2.3) 針對$f(x), f_1(x)$以及$f_2(x)$，把函數圖形畫出來，分別以 青(cyan), 黃(yellow), 洋紅(magenta), 或 黑(black)、灰(gray)等 5種顏色中任取3種畫出來，本題不能使用紅綠藍三種顏色中的任一色！ "
   ]
  },
  {
   "cell_type": "code",
   "execution_count": 109,
   "id": "b96cae78-506e-4c09-8d56-ef6298c0d9d5",
   "metadata": {},
   "outputs": [],
   "source": [
    "%matplotlib qt\n",
    "\n",
    "fg = sp.plotting.plot(f, f1, f2, f3)\n",
    "fg[0].line_color = 'cyan'\n",
    "fg[1].line_color = 'magenta'\n",
    "fg[2].line_color = 'black'\n",
    "fg[3].line_color = 'gray'\n",
    "\n",
    "fg.show()"
   ]
  },
  {
   "cell_type": "markdown",
   "id": "d5198b54-1d62-4b06-b8ce-b2de901d32b4",
   "metadata": {
    "tags": []
   },
   "source": [
    "## 第三題"
   ]
  },
  {
   "cell_type": "markdown",
   "id": "0575fd22-913e-468a-bab9-fd38f6791b1a",
   "metadata": {
    "tags": []
   },
   "source": [
    "#### (3.1)"
   ]
  },
  {
   "cell_type": "code",
   "execution_count": 112,
   "id": "b40e8398-e763-4b17-b462-fc201d541ceb",
   "metadata": {},
   "outputs": [
    {
     "data": {
      "text/latex": [
       "$\\displaystyle \\left(x - 10\\right) \\left(x - 1\\right) \\left(x + 12\\right) \\left(y - 10\\right) \\left(y - 1\\right) \\left(y + 12\\right)$"
      ],
      "text/plain": [
       "(x - 10)*(x - 1)*(x + 12)*(y - 10)*(y - 1)*(y + 12)"
      ]
     },
     "execution_count": 112,
     "metadata": {},
     "output_type": "execute_result"
    }
   ],
   "source": [
    "from sympy import * \n",
    "x, y = symbols('x, y')\n",
    "f = (x-10)*(x-1)*(x+12)*(y-10)*(y-1)*(y+12) \n",
    "f"
   ]
  },
  {
   "cell_type": "code",
   "execution_count": 114,
   "id": "581a8fe2-121c-45e4-b5a5-9e2361e8f77a",
   "metadata": {},
   "outputs": [
    {
     "data": {
      "text/latex": [
       "$\\displaystyle 3 x^{2} y^{3} + 3 x^{2} y^{2} - 366 x^{2} y + 360 x^{2} + 2 x y^{3} + 2 x y^{2} - 244 x y + 240 x - 122 y^{3} - 122 y^{2} + 14884 y - 14640$"
      ],
      "text/plain": [
       "3*x**2*y**3 + 3*x**2*y**2 - 366*x**2*y + 360*x**2 + 2*x*y**3 + 2*x*y**2 - 244*x*y + 240*x - 122*y**3 - 122*y**2 + 14884*y - 14640"
      ]
     },
     "metadata": {},
     "output_type": "display_data"
    },
    {
     "data": {
      "text/latex": [
       "$\\displaystyle 3 x^{3} y^{2} + 2 x^{3} y - 122 x^{3} + 3 x^{2} y^{2} + 2 x^{2} y - 122 x^{2} - 366 x y^{2} - 244 x y + 14884 x + 360 y^{2} + 240 y - 14640$"
      ],
      "text/plain": [
       "3*x**3*y**2 + 2*x**3*y - 122*x**3 + 3*x**2*y**2 + 2*x**2*y - 122*x**2 - 366*x*y**2 - 244*x*y + 14884*x + 360*y**2 + 240*y - 14640"
      ]
     },
     "metadata": {},
     "output_type": "display_data"
    }
   ],
   "source": [
    "fdx = f.diff(x).expand()\n",
    "fdy = f.diff(y).expand()\n",
    "display(fdx, fdy)"
   ]
  },
  {
   "cell_type": "markdown",
   "id": "c7033bfd-9e5b-49c0-8417-96e8bf882294",
   "metadata": {},
   "source": [
    "#### (3.2)"
   ]
  },
  {
   "cell_type": "code",
   "execution_count": 190,
   "id": "f5615049-82ac-4398-a6b2-1e7176faabe3",
   "metadata": {
    "collapsed": true,
    "jupyter": {
     "outputs_hidden": true
    },
    "tags": []
   },
   "outputs": [
    {
     "name": "stdout",
     "output_type": "stream",
     "text": [
      "第00組答案：x = -12.000000, y = -12.000000 z = 0\n",
      "第01組答案：x = -12.000000, y =   1.000000 z = 0\n",
      "第02組答案：x = -12.000000, y =  10.000000 z = 0\n",
      "第03組答案：x =   1.000000, y = -12.000000 z = 0\n",
      "第04組答案：x =   1.000000, y =   1.000000 z = 0\n",
      "第05組答案：x =   1.000000, y =  10.000000 z = 0\n",
      "第06組答案：x =  10.000000, y = -12.000000 z = 0\n",
      "第07組答案：x =  10.000000, y =   1.000000 z = 0\n",
      "第08組答案：x =  10.000000, y =  10.000000 z = 0\n",
      "第09組答案：x =   6.052415, y =   6.052415 z = 129637.793168994\n",
      "第10組答案：x =   6.052415, y =  -6.719081 z = -245388.000000000\n",
      "第11組答案：x =  -6.719081, y =   6.052415 z = -245388.000000000\n",
      "第12組答案：x =  -6.719081, y =  -6.719081 z = 464488.549766534\n"
     ]
    }
   ],
   "source": [
    "from IPython import display\n",
    "ans = solve((fdx, fdy))\n",
    "\n",
    "count=0\n",
    "for i in ans:\n",
    "    print('第%02d組答案：x = %10f, y = %10f' %(count, i[x].evalf(), i[y].evalf()), end = ' ')\n",
    "    print('z =', f.subs(x, i[x]).subs(y, i[y]).evalf())\n",
    "    count += 1"
   ]
  },
  {
   "cell_type": "markdown",
   "id": "6bd82197-121a-453e-aefa-5fbccb2bceed",
   "metadata": {
    "tags": []
   },
   "source": [
    "$\n",
    "當 x =  -6.719081, y =  -6.719081 有極大值 z = 464488.549766534 \\\\\n",
    "當 x =   6.052415, y =  -6.719081 或 x =  -6.719081, y =   6.052415 有極小值 z = -245388\n",
    "$"
   ]
  },
  {
   "cell_type": "markdown",
   "id": "7f22661b-52e3-4114-ade8-2d5ef644bae8",
   "metadata": {
    "tags": []
   },
   "source": [
    "#### (3.3)"
   ]
  },
  {
   "cell_type": "code",
   "execution_count": 188,
   "id": "0a537f5d-9687-406d-a108-d72f6cfcb5fa",
   "metadata": {},
   "outputs": [
    {
     "data": {
      "text/plain": [
       "<sympy.plotting.plot.Plot at 0x2ba8cc99fa0>"
      ]
     },
     "execution_count": 188,
     "metadata": {},
     "output_type": "execute_result"
    }
   ],
   "source": [
    "%matplotlib qt\n",
    "sp.plotting.plot3d(f)"
   ]
  },
  {
   "cell_type": "code",
   "execution_count": null,
   "id": "c78552e9-24e1-40c6-b300-1b41c5d3b300",
   "metadata": {},
   "outputs": [],
   "source": []
  }
 ],
 "metadata": {
  "kernelspec": {
   "display_name": "Python 3",
   "language": "python",
   "name": "python3"
  },
  "language_info": {
   "codemirror_mode": {
    "name": "ipython",
    "version": 3
   },
   "file_extension": ".py",
   "mimetype": "text/x-python",
   "name": "python",
   "nbconvert_exporter": "python",
   "pygments_lexer": "ipython3",
   "version": "3.8.8"
  }
 },
 "nbformat": 4,
 "nbformat_minor": 5
}
