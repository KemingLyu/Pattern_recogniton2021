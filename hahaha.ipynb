{
 "cells": [
  {
   "cell_type": "code",
   "execution_count": 530,
   "id": "dbcf34d2-13da-45ff-9593-1cbf928506ea",
   "metadata": {
    "tags": []
   },
   "outputs": [
    {
     "data": {
      "text/plain": [
       "(300, 3)"
      ]
     },
     "execution_count": 530,
     "metadata": {},
     "output_type": "execute_result"
    }
   ],
   "source": [
    "import numpy as np\n",
    "import sympy as sp\n",
    "import pandas as pd\n",
    "n = 300\n",
    "np.random.seed(0)\n",
    "x = np.random.uniform(-5, 5, [n,2])\n",
    "x = np.insert(x, 0, 1, axis=1)\n",
    "x.shape"
   ]
  },
  {
   "cell_type": "code",
   "execution_count": 531,
   "id": "2248a07f-f835-4d02-9c05-5a2df9e12dd3",
   "metadata": {
    "tags": []
   },
   "outputs": [
    {
     "data": {
      "text/html": [
       "<div>\n",
       "<style scoped>\n",
       "    .dataframe tbody tr th:only-of-type {\n",
       "        vertical-align: middle;\n",
       "    }\n",
       "\n",
       "    .dataframe tbody tr th {\n",
       "        vertical-align: top;\n",
       "    }\n",
       "\n",
       "    .dataframe thead th {\n",
       "        text-align: right;\n",
       "    }\n",
       "</style>\n",
       "<table border=\"1\" class=\"dataframe\">\n",
       "  <thead>\n",
       "    <tr style=\"text-align: right;\">\n",
       "      <th></th>\n",
       "      <th>x1</th>\n",
       "      <th>x2</th>\n",
       "      <th>y</th>\n",
       "    </tr>\n",
       "  </thead>\n",
       "  <tbody>\n",
       "    <tr>\n",
       "      <th>0</th>\n",
       "      <td>0.488135</td>\n",
       "      <td>2.151894</td>\n",
       "      <td>4.868922</td>\n",
       "    </tr>\n",
       "    <tr>\n",
       "      <th>1</th>\n",
       "      <td>1.027634</td>\n",
       "      <td>0.448832</td>\n",
       "      <td>1.257481</td>\n",
       "    </tr>\n",
       "    <tr>\n",
       "      <th>2</th>\n",
       "      <td>-0.763452</td>\n",
       "      <td>1.458941</td>\n",
       "      <td>2.711368</td>\n",
       "    </tr>\n",
       "    <tr>\n",
       "      <th>3</th>\n",
       "      <td>-0.624128</td>\n",
       "      <td>3.917730</td>\n",
       "      <td>15.738144</td>\n",
       "    </tr>\n",
       "    <tr>\n",
       "      <th>4</th>\n",
       "      <td>4.636628</td>\n",
       "      <td>-1.165585</td>\n",
       "      <td>22.856904</td>\n",
       "    </tr>\n",
       "  </tbody>\n",
       "</table>\n",
       "</div>"
      ],
      "text/plain": [
       "         x1        x2          y\n",
       "0  0.488135  2.151894   4.868922\n",
       "1  1.027634  0.448832   1.257481\n",
       "2 -0.763452  1.458941   2.711368\n",
       "3 -0.624128  3.917730  15.738144\n",
       "4  4.636628 -1.165585  22.856904"
      ]
     },
     "execution_count": 531,
     "metadata": {},
     "output_type": "execute_result"
    }
   ],
   "source": [
    "y = x[:,1]**2 + x[:,2]**2\n",
    "training_data = pd.DataFrame({'x1':x[:,1], 'x2':x[:,2], 'y':y})\n",
    "training_data.head()"
   ]
  },
  {
   "cell_type": "code",
   "execution_count": 532,
   "id": "ee013235-14c5-4990-acd4-4d663cf86418",
   "metadata": {},
   "outputs": [
    {
     "data": {
      "text/plain": [
       "<mpl_toolkits.mplot3d.art3d.Path3DCollection at 0x1631f243220>"
      ]
     },
     "execution_count": 532,
     "metadata": {},
     "output_type": "execute_result"
    }
   ],
   "source": [
    "%matplotlib qt\n",
    "import matplotlib.pyplot as plt\n",
    "#fig = plt.figure()\n",
    "ax = plt.axes(projection='3d')\n",
    "ax.scatter3D(x[:,1],x[:,2],y)"
   ]
  },
  {
   "cell_type": "code",
   "execution_count": 533,
   "id": "1b778e7d-aba5-44f0-b9bc-31f16aee4520",
   "metadata": {
    "tags": []
   },
   "outputs": [],
   "source": [
    "# w = [bias, w1, w2]\n",
    "# v = bias*x0 + w1*x1 + w2*x2\n",
    "v = x@w"
   ]
  },
  {
   "cell_type": "code",
   "execution_count": 578,
   "id": "290d5884-dddc-454a-a4c8-5be55803f8c4",
   "metadata": {},
   "outputs": [],
   "source": [
    "M = x.shape[0] # 300筆訓練資料\n",
    "D = x.shape[1] # =3 個未知 bias, w1, w2\n",
    "\n",
    "iters = 10000 # 訓練(迭帶)次數\n",
    "rate = 0.001   #學習率\n",
    "w = np.array([1 ,-0.3, 0.3]) # w初始值 = [bias, w1, w2]\n",
    "\n",
    "history = np.zeros((0,2)) #看訓練結果用"
   ]
  },
  {
   "cell_type": "code",
   "execution_count": 579,
   "id": "7868d7e1-f433-43c7-8d83-a31379623a02",
   "metadata": {
    "tags": []
   },
   "outputs": [],
   "source": [
    "#yd = ((v-y)**2).sum()\n",
    "#yd"
   ]
  },
  {
   "cell_type": "code",
   "execution_count": 580,
   "id": "a3e6b0a3-e782-4ff4-9e83-64a59821188c",
   "metadata": {
    "tags": []
   },
   "outputs": [],
   "source": [
    "#開始訓練\n",
    "\n",
    "for k in range(iters):\n",
    "    \n",
    "    #計算預測值 v\n",
    "    v = x@w\n",
    "    \n",
    "    #計算誤差 yd\n",
    "    yd = v-y\n",
    "    \n",
    "    #梯度下降法\n",
    "    w = w - rate * (x.T @ yd) / M\n",
    "    \n",
    "    #損失函數\n",
    "    loss = np.mean(yd**2)/2\n",
    "    \n",
    "    #紀錄訓練\n",
    "    history = np.vstack((history, np.array([k, loss])))\n",
    "    #print(\"iter = %d loss = %f\" % (k, loss))\n",
    "    "
   ]
  },
  {
   "cell_type": "code",
   "execution_count": 583,
   "id": "366bf11c-85ac-4f9f-8e48-7312444a4aa2",
   "metadata": {},
   "outputs": [
    {
     "data": {
      "text/plain": [
       "array([17.19019356,  0.1395305 ,  0.18512365])"
      ]
     },
     "execution_count": 583,
     "metadata": {},
     "output_type": "execute_result"
    }
   ],
   "source": [
    "w #bias, w1, w2"
   ]
  },
  {
   "cell_type": "code",
   "execution_count": 587,
   "id": "e9412a69-0f16-4ddf-ae00-d747ef944332",
   "metadata": {},
   "outputs": [],
   "source": [
    "# 訓練曲線\n",
    "plt.plot(history[1:,0], history[1:,1])\n",
    "plt.show()"
   ]
  },
  {
   "cell_type": "code",
   "execution_count": 585,
   "id": "fb7c1102-de27-4f90-a407-0a59c545cbf5",
   "metadata": {},
   "outputs": [
    {
     "data": {
      "text/plain": [
       "<mpl_toolkits.mplot3d.art3d.Path3DCollection at 0x1631d6552e0>"
      ]
     },
     "execution_count": 585,
     "metadata": {},
     "output_type": "execute_result"
    }
   ],
   "source": [
    "# 3D圖\n",
    "v = x@w\n",
    "ax = plt.axes(projection='3d')\n",
    "ax.scatter3D(x[:,1], x[:,2], v, color='r') # 訓練完的 v\n",
    "ax.scatter3D(x[:,1], x[:,2], y, color='g') # 原本的 y\n",
    "# 差好多"
   ]
  },
  {
   "cell_type": "code",
   "execution_count": 556,
   "id": "dbc04502-96b9-4628-895f-b23b2bc8b797",
   "metadata": {},
   "outputs": [],
   "source": [
    "t = np.arange(y.size)\n",
    "plt.plot(t,y,t,v)\n",
    "plt.grid()"
   ]
  },
  {
   "cell_type": "code",
   "execution_count": 557,
   "id": "f6762225-c33f-4ec5-8a1b-977e4327a778",
   "metadata": {},
   "outputs": [],
   "source": [
    "plt.figure()\n",
    "plt.scatter(y,v)\n",
    "plt.grid()"
   ]
  },
  {
   "cell_type": "code",
   "execution_count": 586,
   "id": "9da0437f-6250-444b-a76c-fdd22a3231a9",
   "metadata": {},
   "outputs": [
    {
     "data": {
      "text/plain": [
       "<mpl_toolkits.mplot3d.art3d.Path3DCollection at 0x1631e388460>"
      ]
     },
     "execution_count": 586,
     "metadata": {},
     "output_type": "execute_result"
    }
   ],
   "source": [
    "# 100筆測試資料\n",
    "m = 100\n",
    "np.random.seed(1)\n",
    "test_x = np.random.uniform(-5, 5, [n,2])\n",
    "test_x = np.insert(test_x, 0, 1, axis=1)\n",
    "test_y = test_x[:,1]**2 + test_x[:,2]**2\n",
    "test_v = test_x@w \n",
    "\n",
    "ax = plt.axes(projection='3d')\n",
    "ax.scatter3D(test_x[:,1], test_x[:,2], test_v, color='r')\n",
    "ax.scatter3D(test_x[:,1], test_x[:,2], test_y, color='g')\n",
    "# 差好多"
   ]
  },
  {
   "cell_type": "code",
   "execution_count": null,
   "id": "3423d96b-664e-4d10-8793-eff56dcebdbe",
   "metadata": {},
   "outputs": [],
   "source": []
  }
 ],
 "metadata": {
  "kernelspec": {
   "display_name": "Python 3",
   "language": "python",
   "name": "python3"
  },
  "language_info": {
   "codemirror_mode": {
    "name": "ipython",
    "version": 3
   },
   "file_extension": ".py",
   "mimetype": "text/x-python",
   "name": "python",
   "nbconvert_exporter": "python",
   "pygments_lexer": "ipython3",
   "version": "3.8.8"
  }
 },
 "nbformat": 4,
 "nbformat_minor": 5
}
