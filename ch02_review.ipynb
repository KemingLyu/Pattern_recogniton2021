{
 "cells": [
  {
   "cell_type": "markdown",
   "id": "a1938bb2-2ca1-4429-a3ee-d552b52ccc34",
   "metadata": {
    "tags": []
   },
   "source": [
    "### Summary "
   ]
  },
  {
   "cell_type": "markdown",
   "id": "67335929-4afd-4d0c-aa7f-4ad6fd4d3d2b",
   "metadata": {
    "tags": []
   },
   "source": [
    "   1. Single variable calculus \n",
    "        - Derivatives \n",
    "        - Sum rule \n",
    "        - Power rule \n",
    "        - Trigonometric functions \n",
    "        - First and second derivatives \n",
    "        - Product rule \n",
    "        - Quotient rule \n",
    "        - Chain rule \n",
    "        - Antiderivative \n",
    "        - Integrals \n",
    "        - The fundamental theorem of calculus \n",
    "        - Substitution rule \n",
    "        - Areas between curves \n",
    "        - Integration by parts \n",
    "\n",
    "   2. Multivariable calculus\n",
    "        - Partial derivatives \n",
    "        - Chain rule \n",
    "        - Integrals \n",
    "   \n",
    "   3. Vector calculus\n",
    "        - Derivatives \n",
    "        - Vector fields \n",
    "        - Inverse functions \n",
    "\n",
    " "
   ]
  },
  {
   "cell_type": "markdown",
   "id": "115c8088-1bdc-4d1e-b794-e680a22fc55d",
   "metadata": {
    "tags": []
   },
   "source": [
    "### Numerical computation"
   ]
  },
  {
   "cell_type": "markdown",
   "id": "ea7cb5de-b8a8-46e2-9402-3f24da745c4e",
   "metadata": {
    "tags": []
   },
   "source": [
    "#### ex01"
   ]
  },
  {
   "cell_type": "code",
   "execution_count": 1,
   "id": "92354cfc-4f7d-46ec-96ad-708396e951e3",
   "metadata": {},
   "outputs": [
    {
     "data": {
      "text/plain": [
       "(0.3333333333333333, 0.6666666666666666, 1.0, 0.33333333333333337)"
      ]
     },
     "execution_count": 1,
     "metadata": {},
     "output_type": "execute_result"
    }
   ],
   "source": [
    "a = 1/3\n",
    "b = 2/3\n",
    "a, b, a+b, (a+b-b)"
   ]
  },
  {
   "cell_type": "code",
   "execution_count": 2,
   "id": "7dd985c6-a5ee-473d-a988-465890c5658d",
   "metadata": {},
   "outputs": [],
   "source": [
    "import math"
   ]
  },
  {
   "cell_type": "code",
   "execution_count": 3,
   "id": "9269523a-2f74-4b09-a114-b18b11fbcb78",
   "metadata": {},
   "outputs": [
    {
     "data": {
      "text/plain": [
       "(False, True)"
      ]
     },
     "execution_count": 3,
     "metadata": {},
     "output_type": "execute_result"
    }
   ],
   "source": [
    "(a+b-b)==a, math.isclose((a+b-b), a)"
   ]
  },
  {
   "cell_type": "markdown",
   "id": "a86821cc-a442-4990-8327-69890c10079c",
   "metadata": {
    "tags": []
   },
   "source": [
    "#### ex02"
   ]
  },
  {
   "cell_type": "code",
   "execution_count": 5,
   "id": "8328129b-32cf-4bb7-9bba-691a4b3a5657",
   "metadata": {},
   "outputs": [
    {
     "data": {
      "text/plain": [
       "(0.8164965809277261, 0.816496580927726, False, -0.18350341907227374)"
      ]
     },
     "execution_count": 5,
     "metadata": {},
     "output_type": "execute_result"
    }
   ],
   "source": [
    "a = 2\n",
    "b = 3\n",
    "c = (a**0.5)/(b**0.5)\n",
    "d = (a/b)**0.5\n",
    "#誤差\n",
    "c, d, c==d, (c-d/c)"
   ]
  },
  {
   "cell_type": "markdown",
   "id": "d4e3152e-5445-4302-b17b-e4347884cc15",
   "metadata": {
    "tags": []
   },
   "source": [
    "#### 使用IPython.display.display()輸出\n",
    "\n",
    "- IPython.display.display(*objs, include=None, exclude=None, metadata=None, transient=None, display_id=None, **kwargs)"
   ]
  },
  {
   "cell_type": "code",
   "execution_count": 40,
   "id": "c3990764-c0ac-4804-8353-b2728d13986e",
   "metadata": {},
   "outputs": [],
   "source": [
    "import sympy\n",
    "from IPython.display import display\n",
    "import IPython as ip"
   ]
  },
  {
   "cell_type": "code",
   "execution_count": 51,
   "id": "b8970dc7-5e25-469e-83dd-eaa04b086f53",
   "metadata": {
    "tags": []
   },
   "outputs": [
    {
     "data": {
      "text/latex": [
       "$\\displaystyle 2$"
      ],
      "text/plain": [
       "2"
      ]
     },
     "metadata": {},
     "output_type": "display_data"
    },
    {
     "data": {
      "text/latex": [
       "$\\displaystyle x$"
      ],
      "text/plain": [
       "x"
      ]
     },
     "metadata": {},
     "output_type": "display_data"
    },
    {
     "data": {
      "text/latex": [
       "$\\displaystyle y$"
      ],
      "text/plain": [
       "y"
      ]
     },
     "metadata": {},
     "output_type": "display_data"
    },
    {
     "data": {
      "text/latex": [
       "$\\displaystyle z$"
      ],
      "text/plain": [
       "z"
      ]
     },
     "metadata": {},
     "output_type": "display_data"
    },
    {
     "data": {
      "text/latex": [
       "$\\displaystyle x + y$"
      ],
      "text/plain": [
       "x + y"
      ]
     },
     "metadata": {},
     "output_type": "display_data"
    },
    {
     "data": {
      "text/plain": [
       "{'1': 2, '3': 4}"
      ]
     },
     "metadata": {},
     "output_type": "display_data"
    }
   ],
   "source": [
    "a = sympy.Integer(2)\n",
    "x, y, z = sympy.symbols(\"x, y, z\")\n",
    "display(a, x, y, z)\n",
    "display(x+y)\n",
    "display({\"1\":2, \"3\":4})"
   ]
  },
  {
   "cell_type": "code",
   "execution_count": 79,
   "id": "cc7028ce-5c22-4531-bed2-cd2d80984c7c",
   "metadata": {
    "tags": []
   },
   "outputs": [
    {
     "data": {
      "text/html": [
       "<div>\n",
       "<style scoped>\n",
       "    .dataframe tbody tr th:only-of-type {\n",
       "        vertical-align: middle;\n",
       "    }\n",
       "\n",
       "    .dataframe tbody tr th {\n",
       "        vertical-align: top;\n",
       "    }\n",
       "\n",
       "    .dataframe thead th {\n",
       "        text-align: right;\n",
       "    }\n",
       "</style>\n",
       "<table border=\"1\" class=\"dataframe\">\n",
       "  <thead>\n",
       "    <tr style=\"text-align: right;\">\n",
       "      <th></th>\n",
       "      <th>a</th>\n",
       "      <th>b</th>\n",
       "      <th>c</th>\n",
       "    </tr>\n",
       "  </thead>\n",
       "  <tbody>\n",
       "    <tr>\n",
       "      <th>0</th>\n",
       "      <td>1</td>\n",
       "      <td>2</td>\n",
       "      <td>3</td>\n",
       "    </tr>\n",
       "    <tr>\n",
       "      <th>1</th>\n",
       "      <td>2</td>\n",
       "      <td>3</td>\n",
       "      <td>4</td>\n",
       "    </tr>\n",
       "    <tr>\n",
       "      <th>2</th>\n",
       "      <td>3</td>\n",
       "      <td>4</td>\n",
       "      <td>5</td>\n",
       "    </tr>\n",
       "  </tbody>\n",
       "</table>\n",
       "</div>"
      ],
      "text/plain": [
       "   a  b  c\n",
       "0  1  2  3\n",
       "1  2  3  4\n",
       "2  3  4  5"
      ]
     },
     "metadata": {},
     "output_type": "display_data"
    },
    {
     "data": {
      "text/html": [
       "<div>\n",
       "<style scoped>\n",
       "    .dataframe tbody tr th:only-of-type {\n",
       "        vertical-align: middle;\n",
       "    }\n",
       "\n",
       "    .dataframe tbody tr th {\n",
       "        vertical-align: top;\n",
       "    }\n",
       "\n",
       "    .dataframe thead th {\n",
       "        text-align: right;\n",
       "    }\n",
       "</style>\n",
       "<table border=\"1\" class=\"dataframe\">\n",
       "  <thead>\n",
       "    <tr style=\"text-align: right;\">\n",
       "      <th></th>\n",
       "      <th>x</th>\n",
       "      <th>y</th>\n",
       "    </tr>\n",
       "  </thead>\n",
       "  <tbody>\n",
       "    <tr>\n",
       "      <th>0</th>\n",
       "      <td>1</td>\n",
       "      <td>2</td>\n",
       "    </tr>\n",
       "    <tr>\n",
       "      <th>1</th>\n",
       "      <td>2</td>\n",
       "      <td>3</td>\n",
       "    </tr>\n",
       "    <tr>\n",
       "      <th>2</th>\n",
       "      <td>3</td>\n",
       "      <td>4</td>\n",
       "    </tr>\n",
       "  </tbody>\n",
       "</table>\n",
       "</div>"
      ],
      "text/plain": [
       "   x  y\n",
       "0  1  2\n",
       "1  2  3\n",
       "2  3  4"
      ]
     },
     "metadata": {},
     "output_type": "display_data"
    },
    {
     "data": {
      "text/html": [
       "<div>\n",
       "<style scoped>\n",
       "    .dataframe tbody tr th:only-of-type {\n",
       "        vertical-align: middle;\n",
       "    }\n",
       "\n",
       "    .dataframe tbody tr th {\n",
       "        vertical-align: top;\n",
       "    }\n",
       "\n",
       "    .dataframe thead th {\n",
       "        text-align: right;\n",
       "    }\n",
       "</style>\n",
       "<table border=\"1\" class=\"dataframe\">\n",
       "  <thead>\n",
       "    <tr style=\"text-align: right;\">\n",
       "      <th></th>\n",
       "      <th>x</th>\n",
       "    </tr>\n",
       "  </thead>\n",
       "  <tbody>\n",
       "    <tr>\n",
       "      <th>0</th>\n",
       "      <td>1</td>\n",
       "    </tr>\n",
       "    <tr>\n",
       "      <th>1</th>\n",
       "      <td>2</td>\n",
       "    </tr>\n",
       "    <tr>\n",
       "      <th>2</th>\n",
       "      <td>3</td>\n",
       "    </tr>\n",
       "  </tbody>\n",
       "</table>\n",
       "</div>"
      ],
      "text/plain": [
       "   x\n",
       "0  1\n",
       "1  2\n",
       "2  3"
      ]
     },
     "metadata": {},
     "output_type": "display_data"
    }
   ],
   "source": [
    "# 試一下 display dataframe\n",
    "import pandas as pd\n",
    "df = pd.DataFrame({\"a\":[1,2,3], \"b\":[2,3,4], \"c\":[3,4,5]})\n",
    "df2 = pd.DataFrame({x:[1,2,3], y:[2,3,4]})\n",
    "display(df, df2, df2[[x]])"
   ]
  },
  {
   "cell_type": "markdown",
   "id": "190db987-63a3-454d-b779-a56a1cdcd23c",
   "metadata": {
    "tags": []
   },
   "source": [
    "#### sympy.symbols() 練習"
   ]
  },
  {
   "cell_type": "code",
   "execution_count": 86,
   "id": "3e2feaae-ca1a-470d-9f97-6e48299b39e5",
   "metadata": {},
   "outputs": [
    {
     "data": {
      "text/latex": [
       "$\\displaystyle x$"
      ],
      "text/plain": [
       "x"
      ]
     },
     "metadata": {},
     "output_type": "display_data"
    },
    {
     "data": {
      "text/latex": [
       "$\\displaystyle y$"
      ],
      "text/plain": [
       "y"
      ]
     },
     "metadata": {},
     "output_type": "display_data"
    },
    {
     "data": {
      "text/latex": [
       "$\\displaystyle z$"
      ],
      "text/plain": [
       "z"
      ]
     },
     "metadata": {},
     "output_type": "display_data"
    }
   ],
   "source": [
    "x, y, z = sympy.symbols('x, y, z')\n",
    "display(x, y, z)"
   ]
  },
  {
   "cell_type": "code",
   "execution_count": 90,
   "id": "3a76743b-97f3-41d8-b945-106248c9db20",
   "metadata": {},
   "outputs": [
    {
     "data": {
      "text/latex": [
       "$\\displaystyle x^{2} + x + 1$"
      ],
      "text/plain": [
       "x**2 + x + 1"
      ]
     },
     "metadata": {},
     "output_type": "display_data"
    },
    {
     "data": {
      "text/latex": [
       "$\\displaystyle 2 x^{2} + 2 x + 2$"
      ],
      "text/plain": [
       "2*x**2 + 2*x + 2"
      ]
     },
     "metadata": {},
     "output_type": "display_data"
    },
    {
     "data": {
      "text/latex": [
       "$\\displaystyle \\left(x^{2} + x + 1\\right)^{2}$"
      ],
      "text/plain": [
       "(x**2 + x + 1)**2"
      ]
     },
     "metadata": {},
     "output_type": "display_data"
    },
    {
     "data": {
      "text/latex": [
       "$\\displaystyle \\left(x^{2} + x + 1\\right)^{3}$"
      ],
      "text/plain": [
       "(x**2 + x + 1)**3"
      ]
     },
     "metadata": {},
     "output_type": "display_data"
    },
    {
     "data": {
      "text/latex": [
       "$\\displaystyle x^{6} + 3 x^{5} + 6 x^{4} + 7 x^{3} + 6 x^{2} + 3 x + 1$"
      ],
      "text/plain": [
       "x**6 + 3*x**5 + 6*x**4 + 7*x**3 + 6*x**2 + 3*x + 1"
      ]
     },
     "metadata": {},
     "output_type": "display_data"
    }
   ],
   "source": [
    "f = 1+x+x**2\n",
    "display(f, f+f, f*f, f**3, (f**3).expand())"
   ]
  },
  {
   "cell_type": "code",
   "execution_count": 92,
   "id": "4f5b9f3b-3fae-4811-b987-e099e53caa0d",
   "metadata": {},
   "outputs": [
    {
     "data": {
      "text/latex": [
       "$\\displaystyle \\left(x^{2} + x + 1\\right)^{3}$"
      ],
      "text/plain": [
       "(x**2 + x + 1)**3"
      ]
     },
     "execution_count": 92,
     "metadata": {},
     "output_type": "execute_result"
    }
   ],
   "source": [
    "g = (f**3).expand()\n",
    "g.factor() #因式分解"
   ]
  },
  {
   "cell_type": "code",
   "execution_count": 100,
   "id": "51132ce5-5066-4745-96e7-f89d5b754bb3",
   "metadata": {},
   "outputs": [
    {
     "data": {
      "text/latex": [
       "$\\displaystyle 2 x + 1$"
      ],
      "text/plain": [
       "2*x + 1"
      ]
     },
     "metadata": {},
     "output_type": "display_data"
    },
    {
     "data": {
      "text/latex": [
       "$\\displaystyle \\frac{x^{3}}{3} + \\frac{x^{2}}{2} + x$"
      ],
      "text/plain": [
       "x**3/3 + x**2/2 + x"
      ]
     },
     "metadata": {},
     "output_type": "display_data"
    },
    {
     "data": {
      "text/latex": [
       "$\\displaystyle \\frac{1180}{3}$"
      ],
      "text/plain": [
       "1180/3"
      ]
     },
     "metadata": {},
     "output_type": "display_data"
    }
   ],
   "source": [
    "display(f.diff(x), f.integrate(), f.integrate((x,0,10))) #微分,積分,定積分"
   ]
  },
  {
   "cell_type": "code",
   "execution_count": 101,
   "id": "1a44a564-84d3-4225-a3a9-e941f251909f",
   "metadata": {},
   "outputs": [
    {
     "data": {
      "text/latex": [
       "$\\displaystyle 111$"
      ],
      "text/plain": [
       "111"
      ]
     },
     "execution_count": 101,
     "metadata": {},
     "output_type": "execute_result"
    }
   ],
   "source": [
    "f.subs(x, 10)"
   ]
  },
  {
   "cell_type": "code",
   "execution_count": 102,
   "id": "2d738a79-0adb-4218-9b00-406387a1fba8",
   "metadata": {},
   "outputs": [
    {
     "data": {
      "text/latex": [
       "$\\displaystyle \\frac{1180}{3}$"
      ],
      "text/plain": [
       "1180/3"
      ]
     },
     "execution_count": 102,
     "metadata": {},
     "output_type": "execute_result"
    }
   ],
   "source": [
    "F = f.integrate(x)\n",
    "F.subs(x, 10) - F.subs(x, 0)"
   ]
  },
  {
   "cell_type": "code",
   "execution_count": 103,
   "id": "d5b3acf8-6d78-4e64-ac5e-eb071047c42f",
   "metadata": {},
   "outputs": [
    {
     "data": {
      "text/plain": [
       "True"
      ]
     },
     "execution_count": 103,
     "metadata": {},
     "output_type": "execute_result"
    }
   ],
   "source": [
    "F.subs(x,10) - F.subs(x,0) == f.integrate((x,0,10))"
   ]
  },
  {
   "cell_type": "markdown",
   "id": "c91032b0-d65d-4007-9714-f3b77c60a4d7",
   "metadata": {
    "heading_collapsed": "true",
    "tags": []
   },
   "source": [
    "#### 極限運算"
   ]
  },
  {
   "cell_type": "code",
   "execution_count": 113,
   "id": "1ee21eb6-0fa0-4462-a7ed-cdc713aa2818",
   "metadata": {},
   "outputs": [
    {
     "data": {
      "text/latex": [
       "$\\displaystyle \\frac{x^{2} - x - 2}{x + 1}$"
      ],
      "text/plain": [
       "(x**2 - x - 2)/(x + 1)"
      ]
     },
     "metadata": {},
     "output_type": "display_data"
    },
    {
     "data": {
      "text/latex": [
       "$\\displaystyle \\text{NaN}$"
      ],
      "text/plain": [
       "nan"
      ]
     },
     "metadata": {},
     "output_type": "display_data"
    },
    {
     "data": {
      "text/latex": [
       "$\\displaystyle x - 2$"
      ],
      "text/plain": [
       "x - 2"
      ]
     },
     "metadata": {},
     "output_type": "display_data"
    },
    {
     "data": {
      "text/latex": [
       "$\\displaystyle -3$"
      ],
      "text/plain": [
       "-3"
      ]
     },
     "metadata": {},
     "output_type": "display_data"
    },
    {
     "data": {
      "text/latex": [
       "$\\displaystyle -3$"
      ],
      "text/plain": [
       "-3"
      ]
     },
     "metadata": {},
     "output_type": "display_data"
    }
   ],
   "source": [
    "display(sympy.limit(f, x, 10), sympy.limit(f, x, sympy.oo))\n",
    "\n",
    "f1= (x**2 -x -2)/(x+1)\n",
    "f2 = f1.simplify()\n",
    "display(f1, f1.subs(x, -1))\n",
    "display(f2, f2.subs(x, -1))\n",
    "display(sympy.limit(f1, x, -1))"
   ]
  },
  {
   "cell_type": "markdown",
   "id": "0b0e448d-f390-4f61-b679-ccbe2a6f50d9",
   "metadata": {
    "heading_collapsed": "true",
    "tags": []
   },
   "source": [
    "#### ex03"
   ]
  },
  {
   "cell_type": "code",
   "execution_count": 114,
   "id": "0168f959-8382-47e9-8e01-063bb61a9285",
   "metadata": {},
   "outputs": [
    {
     "data": {
      "text/latex": [
       "$\\displaystyle \\left(1 + \\frac{x}{n}\\right)^{n}$"
      ],
      "text/plain": [
       "(1 + x/n)**n"
      ]
     },
     "execution_count": 114,
     "metadata": {},
     "output_type": "execute_result"
    }
   ],
   "source": [
    "x, n = sympy.symbols('x, n')\n",
    "f3 = (1+x/n)**n\n",
    "f3"
   ]
  },
  {
   "cell_type": "code",
   "execution_count": 115,
   "id": "21bf1482-1b83-4cf3-8643-d162f1c0559d",
   "metadata": {},
   "outputs": [
    {
     "data": {
      "text/latex": [
       "$\\displaystyle e^{x}$"
      ],
      "text/plain": [
       "exp(x)"
      ]
     },
     "execution_count": 115,
     "metadata": {},
     "output_type": "execute_result"
    }
   ],
   "source": [
    "sympy.limit(f3, n, sympy.oo)"
   ]
  },
  {
   "cell_type": "markdown",
   "id": "066df8ec-cc36-4b1d-bee8-9c4383f10dea",
   "metadata": {},
   "source": [
    "proof 1:\n",
    "$$\n",
    "    \\left(1+\\frac{x}{n}\\right)^n = e^{n\\log\\left(1+\\dfrac{x}{n}\\right)}\\\\\n",
    "    x \\to 0: \\log(1+x) = x + O(x^2)\\\\\n",
    "    n\\to +\\infty:  n\\log(1 + \\frac{x}{n}) = x + O(\\frac{x^2}{n})\n",
    "$$"
   ]
  },
  {
   "cell_type": "markdown",
   "id": "f1ea28dc-44b9-4aad-92f2-29ccf2abfc74",
   "metadata": {},
   "source": [
    "\n",
    "\n",
    "proof 2:\n",
    "\n",
    "You can use the binomial series expansion. For example:\n",
    "$$\n",
    "\\left(1+\\frac{x}{n}\\right)^n =1+ \\frac{n}{1!}\\left(\\frac{x}{n}\\right)^1+\\frac{n(n-1)}{2!}\\left(\\frac{x}{n}\\right)^2+\\frac{n(n-1)(n-2)}{3!}\\left(\\frac{x}{n}\\right)^3+\\cdots\n",
    "$$\n",
    "\n",
    "As $n\\to\\infty$ the coefficients in n all tend to 1. Hence:\n",
    "\n",
    "$$\n",
    "\\lim_{n \\to \\infty}\\left(1+\\frac{x}{n}\\right)^n = 1+x+\\frac{x^2}{2!}+\\frac{x^3}{3!}+\\cdots\n",
    "$$\n",
    "\n",
    "You'll recognise this last power series as the Taylor series for $\\mathrm{e}^x$\n",
    "\n",
    "reference: https://math.stackexchange.com/questions/882741/limit-of-1-x-nn-when-n-tends-to-infinity"
   ]
  },
  {
   "cell_type": "markdown",
   "id": "ae15d2e6-c492-421b-ad64-613414d36d72",
   "metadata": {
    "heading_collapsed": "true",
    "tags": []
   },
   "source": [
    "#### ex04"
   ]
  },
  {
   "cell_type": "code",
   "execution_count": 118,
   "id": "8fa97f7a-be87-4790-80d2-9a01a3b1deb8",
   "metadata": {},
   "outputs": [
    {
     "data": {
      "text/latex": [
       "$\\displaystyle \\frac{\\sin{\\left(θ \\right)}}{θ}$"
      ],
      "text/plain": [
       "sin(θ)/θ"
      ]
     },
     "metadata": {},
     "output_type": "display_data"
    },
    {
     "data": {
      "text/latex": [
       "$\\displaystyle 1$"
      ],
      "text/plain": [
       "1"
      ]
     },
     "metadata": {},
     "output_type": "display_data"
    }
   ],
   "source": [
    "θ= sympy.symbols('θ')\n",
    "f4= sympy.sin(θ) / θ\n",
    "display(f4, sympy.limit(f4, θ, 0))"
   ]
  },
  {
   "cell_type": "markdown",
   "id": "8eb1191b-036f-43a8-9f0e-50f4c1b2a689",
   "metadata": {
    "heading_collapsed": "true",
    "tags": []
   },
   "source": [
    "#### ex05"
   ]
  },
  {
   "cell_type": "code",
   "execution_count": 119,
   "id": "0ff5f7cf-9e92-41a9-b7ea-641da87b7017",
   "metadata": {},
   "outputs": [
    {
     "data": {
      "text/latex": [
       "$\\displaystyle \\left. \\frac{d}{d \\xi_{1}} f{\\left(\\xi_{1} \\right)} \\right|_{\\substack{ \\xi_{1}=x }}$"
      ],
      "text/plain": [
       "Subs(Derivative(f(_xi_1), _xi_1), _xi_1, x)"
      ]
     },
     "execution_count": 119,
     "metadata": {},
     "output_type": "execute_result"
    }
   ],
   "source": [
    "x, dx= sympy.symbols('x, dx')\n",
    "f= sympy.Function('f')\n",
    "\n",
    "q= sympy.limit((f(x+dx)-f(x))/dx, dx,0)\n",
    "q"
   ]
  },
  {
   "cell_type": "markdown",
   "id": "30cb2ad9-9f10-46c8-a3f7-a76821f340db",
   "metadata": {
    "heading_collapsed": "true",
    "tags": []
   },
   "source": [
    "#### ex06"
   ]
  },
  {
   "cell_type": "code",
   "execution_count": 126,
   "id": "f4205be1-8c94-4033-a9df-10eb1a890005",
   "metadata": {},
   "outputs": [
    {
     "data": {
      "text/latex": [
       "$\\displaystyle x^{2} + x + 1$"
      ],
      "text/plain": [
       "x**2 + x + 1"
      ]
     },
     "metadata": {},
     "output_type": "display_data"
    },
    {
     "data": {
      "text/latex": [
       "$\\displaystyle dx + x + \\left(dx + x\\right)^{2} + 1$"
      ],
      "text/plain": [
       "dx + x + (dx + x)**2 + 1"
      ]
     },
     "metadata": {},
     "output_type": "display_data"
    },
    {
     "data": {
      "text/latex": [
       "$\\displaystyle \\frac{dx - x^{2} + \\left(dx + x\\right)^{2}}{dx}$"
      ],
      "text/plain": [
       "(dx - x**2 + (dx + x)**2)/dx"
      ]
     },
     "metadata": {},
     "output_type": "display_data"
    },
    {
     "data": {
      "text/latex": [
       "$\\displaystyle 2 x + 1$"
      ],
      "text/plain": [
       "2*x + 1"
      ]
     },
     "metadata": {},
     "output_type": "display_data"
    },
    {
     "data": {
      "text/latex": [
       "$\\displaystyle 2 x + 1$"
      ],
      "text/plain": [
       "2*x + 1"
      ]
     },
     "metadata": {},
     "output_type": "display_data"
    },
    {
     "data": {
      "text/plain": [
       "True"
      ]
     },
     "metadata": {},
     "output_type": "display_data"
    }
   ],
   "source": [
    "def h(x):\n",
    "    y = 1 + x + x**2\n",
    "    return y\n",
    "display(h(x),\n",
    "        h(x+dx),\n",
    "        (h(x+dx) - h(x))/dx,\n",
    "        sympy.limit((h(x+dx)-h(x))/dx, dx, 0),\n",
    "        h(x).diff(x),\n",
    "        sympy.limit((h(x+dx) - h(x))/dx, dx, 0) == h(x).diff(x))"
   ]
  },
  {
   "cell_type": "markdown",
   "id": "52ea3f85-b555-4e52-a459-701cc58df7fb",
   "metadata": {
    "heading_collapsed": "true",
    "tags": []
   },
   "source": [
    "#### ex07"
   ]
  },
  {
   "cell_type": "code",
   "execution_count": 128,
   "id": "1a4bdf2e-38fb-48f3-9471-59470ee76938",
   "metadata": {},
   "outputs": [
    {
     "data": {
      "text/latex": [
       "$\\displaystyle \\sin{\\left(x \\right)}$"
      ],
      "text/plain": [
       "sin(x)"
      ]
     },
     "metadata": {},
     "output_type": "display_data"
    },
    {
     "data": {
      "text/latex": [
       "$\\displaystyle \\sin{\\left(dx + x \\right)}$"
      ],
      "text/plain": [
       "sin(dx + x)"
      ]
     },
     "metadata": {},
     "output_type": "display_data"
    },
    {
     "data": {
      "text/latex": [
       "$\\displaystyle \\cos{\\left(x \\right)}$"
      ],
      "text/plain": [
       "cos(x)"
      ]
     },
     "metadata": {},
     "output_type": "display_data"
    },
    {
     "data": {
      "text/latex": [
       "$\\displaystyle \\cos{\\left(x \\right)}$"
      ],
      "text/plain": [
       "cos(x)"
      ]
     },
     "metadata": {},
     "output_type": "display_data"
    }
   ],
   "source": [
    "def mySin(x):\n",
    "    y= sympy.sin(x)\n",
    "    return y\n",
    "display(mySin(x),\n",
    "       mySin(x+dx),\n",
    "       sympy.limit((mySin(x+dx)-mySin(x))/dx, dx, 0),\n",
    "       mySin(x).diff(x))\n"
   ]
  },
  {
   "cell_type": "markdown",
   "id": "43c77425-f89a-4de5-a5f2-6ab5db5ae0e6",
   "metadata": {
    "heading_collapsed": "true",
    "tags": []
   },
   "source": [
    "#### 解方程式"
   ]
  },
  {
   "cell_type": "code",
   "execution_count": 162,
   "id": "fab60d6e-b2da-4b88-af8f-70da660c8980",
   "metadata": {},
   "outputs": [
    {
     "data": {
      "text/plain": [
       "[-2, 1]"
      ]
     },
     "execution_count": 162,
     "metadata": {},
     "output_type": "execute_result"
    }
   ],
   "source": [
    "eq= x**2 + x - 2\n",
    "ans = sympy.solve(eq, x)\n",
    "ans"
   ]
  },
  {
   "cell_type": "code",
   "execution_count": 163,
   "id": "973ee6ad-2630-41ef-b091-54df8f50d9d6",
   "metadata": {},
   "outputs": [
    {
     "name": "stdout",
     "output_type": "stream",
     "text": [
      "True\n",
      "True\n"
     ]
    }
   ],
   "source": [
    "#驗算\n",
    "print(eq.subs(x, ans[0]) == 0)\n",
    "print(eq.subs(x, ans[1]) == 0)"
   ]
  },
  {
   "cell_type": "markdown",
   "id": "2c2533cb-482b-43b0-ab5f-20600289ea7e",
   "metadata": {
    "heading_collapsed": "true",
    "tags": []
   },
   "source": [
    "#### 矩陣運算"
   ]
  },
  {
   "cell_type": "code",
   "execution_count": 144,
   "id": "a0b930f3-b73a-462d-b83d-2317ee2217ab",
   "metadata": {},
   "outputs": [
    {
     "data": {
      "text/latex": [
       "$\\displaystyle \\left[\\begin{matrix}2 & 1\\\\1 & 3\\end{matrix}\\right]$"
      ],
      "text/plain": [
       "Matrix([\n",
       "[2, 1],\n",
       "[1, 3]])"
      ]
     },
     "metadata": {},
     "output_type": "display_data"
    },
    {
     "data": {
      "text/latex": [
       "$\\displaystyle \\left[\\begin{matrix}4 & 2\\\\2 & 6\\end{matrix}\\right]$"
      ],
      "text/plain": [
       "Matrix([\n",
       "[4, 2],\n",
       "[2, 6]])"
      ]
     },
     "metadata": {},
     "output_type": "display_data"
    },
    {
     "data": {
      "text/latex": [
       "$\\displaystyle \\left[\\begin{matrix}20 & 10\\\\10 & 30\\end{matrix}\\right]$"
      ],
      "text/plain": [
       "Matrix([\n",
       "[20, 10],\n",
       "[10, 30]])"
      ]
     },
     "metadata": {},
     "output_type": "display_data"
    },
    {
     "data": {
      "text/latex": [
       "$\\displaystyle \\left[\\begin{matrix}5 & 5\\\\5 & 10\\end{matrix}\\right]$"
      ],
      "text/plain": [
       "Matrix([\n",
       "[5,  5],\n",
       "[5, 10]])"
      ]
     },
     "metadata": {},
     "output_type": "display_data"
    },
    {
     "data": {
      "text/latex": [
       "$\\displaystyle 5$"
      ],
      "text/plain": [
       "5"
      ]
     },
     "metadata": {},
     "output_type": "display_data"
    },
    {
     "data": {
      "text/latex": [
       "$\\displaystyle \\left[\\begin{matrix}\\frac{3}{5} & - \\frac{1}{5}\\\\- \\frac{1}{5} & \\frac{2}{5}\\end{matrix}\\right]$"
      ],
      "text/plain": [
       "Matrix([\n",
       "[ 3/5, -1/5],\n",
       "[-1/5,  2/5]])"
      ]
     },
     "metadata": {},
     "output_type": "display_data"
    },
    {
     "data": {
      "text/latex": [
       "$\\displaystyle \\left[\\begin{matrix}\\frac{3}{5} & - \\frac{1}{5}\\\\- \\frac{1}{5} & \\frac{2}{5}\\end{matrix}\\right]$"
      ],
      "text/plain": [
       "Matrix([\n",
       "[ 3/5, -1/5],\n",
       "[-1/5,  2/5]])"
      ]
     },
     "metadata": {},
     "output_type": "display_data"
    },
    {
     "data": {
      "text/latex": [
       "$\\displaystyle \\left[\\begin{matrix}1 & 0\\\\0 & 1\\end{matrix}\\right]$"
      ],
      "text/plain": [
       "Matrix([\n",
       "[1, 0],\n",
       "[0, 1]])"
      ]
     },
     "metadata": {},
     "output_type": "display_data"
    },
    {
     "data": {
      "text/plain": [
       "{5/2 - sqrt(5)/2: 1, sqrt(5)/2 + 5/2: 1}"
      ]
     },
     "metadata": {},
     "output_type": "display_data"
    },
    {
     "data": {
      "text/plain": [
       "[(5/2 - sqrt(5)/2,\n",
       "  1,\n",
       "  [Matrix([\n",
       "   [-sqrt(5)/2 - 1/2],\n",
       "   [               1]])]),\n",
       " (sqrt(5)/2 + 5/2,\n",
       "  1,\n",
       "  [Matrix([\n",
       "   [-1/2 + sqrt(5)/2],\n",
       "   [               1]])])]"
      ]
     },
     "metadata": {},
     "output_type": "display_data"
    }
   ],
   "source": [
    "A= [[2,1], [1,3]]\n",
    "A= sympy.Matrix(A)\n",
    "display(A, A+A, A*10, A*A, \n",
    "        A.det(), A.inv(), A**-1, A**(-1)*A, \n",
    "        A.eigenvals(), A.eigenvects())"
   ]
  },
  {
   "cell_type": "code",
   "execution_count": 145,
   "id": "e97612e9-174d-4dc2-9c0a-8d3d46bda233",
   "metadata": {},
   "outputs": [
    {
     "data": {
      "text/latex": [
       "$\\displaystyle \\left[\\begin{matrix}- \\frac{\\sqrt{5}}{2} - \\frac{1}{2} & - \\frac{1}{2} + \\frac{\\sqrt{5}}{2}\\\\1 & 1\\end{matrix}\\right]$"
      ],
      "text/plain": [
       "Matrix([\n",
       "[-sqrt(5)/2 - 1/2, -1/2 + sqrt(5)/2],\n",
       "[               1,                1]])"
      ]
     },
     "metadata": {},
     "output_type": "display_data"
    },
    {
     "data": {
      "text/latex": [
       "$\\displaystyle \\left[\\begin{matrix}\\frac{5}{2} - \\frac{\\sqrt{5}}{2} & 0\\\\0 & \\frac{\\sqrt{5}}{2} + \\frac{5}{2}\\end{matrix}\\right]$"
      ],
      "text/plain": [
       "Matrix([\n",
       "[5/2 - sqrt(5)/2,               0],\n",
       "[              0, sqrt(5)/2 + 5/2]])"
      ]
     },
     "metadata": {},
     "output_type": "display_data"
    },
    {
     "data": {
      "text/latex": [
       "$\\displaystyle \\left[\\begin{matrix}\\frac{\\left(\\frac{5}{2} - \\frac{\\sqrt{5}}{2}\\right) \\left(- \\sqrt{5} - 1\\right) \\left(- \\frac{\\sqrt{5}}{2} - \\frac{1}{2}\\right)}{\\sqrt{5} + 5} + \\frac{\\sqrt{5} \\left(- \\frac{1}{2} + \\frac{\\sqrt{5}}{2}\\right) \\left(\\frac{\\sqrt{5}}{2} + \\frac{5}{2}\\right)}{5} & \\frac{\\left(\\frac{5}{2} - \\frac{\\sqrt{5}}{2}\\right) \\left(- \\frac{\\sqrt{5}}{2} - \\frac{1}{2}\\right)}{\\frac{\\sqrt{5}}{2} + \\frac{5}{2}} + \\left(- \\frac{1}{2} + \\frac{\\sqrt{5}}{2}\\right) \\left(\\frac{\\sqrt{5}}{10} + \\frac{1}{2}\\right) \\left(\\frac{\\sqrt{5}}{2} + \\frac{5}{2}\\right)\\\\\\frac{\\left(\\frac{5}{2} - \\frac{\\sqrt{5}}{2}\\right) \\left(- \\sqrt{5} - 1\\right)}{\\sqrt{5} + 5} + \\frac{\\sqrt{5} \\left(\\frac{\\sqrt{5}}{2} + \\frac{5}{2}\\right)}{5} & \\frac{\\frac{5}{2} - \\frac{\\sqrt{5}}{2}}{\\frac{\\sqrt{5}}{2} + \\frac{5}{2}} + \\left(\\frac{\\sqrt{5}}{10} + \\frac{1}{2}\\right) \\left(\\frac{\\sqrt{5}}{2} + \\frac{5}{2}\\right)\\end{matrix}\\right]$"
      ],
      "text/plain": [
       "Matrix([\n",
       "[(5/2 - sqrt(5)/2)*(-sqrt(5) - 1)*(-sqrt(5)/2 - 1/2)/(sqrt(5) + 5) + sqrt(5)*(-1/2 + sqrt(5)/2)*(sqrt(5)/2 + 5/2)/5, (5/2 - sqrt(5)/2)*(-sqrt(5)/2 - 1/2)/(sqrt(5)/2 + 5/2) + (-1/2 + sqrt(5)/2)*(sqrt(5)/10 + 1/2)*(sqrt(5)/2 + 5/2)],\n",
       "[                                      (5/2 - sqrt(5)/2)*(-sqrt(5) - 1)/(sqrt(5) + 5) + sqrt(5)*(sqrt(5)/2 + 5/2)/5,                                       (5/2 - sqrt(5)/2)/(sqrt(5)/2 + 5/2) + (sqrt(5)/10 + 1/2)*(sqrt(5)/2 + 5/2)]])"
      ]
     },
     "metadata": {},
     "output_type": "display_data"
    },
    {
     "data": {
      "text/latex": [
       "$\\displaystyle \\left[\\begin{matrix}2.0 & 1.0\\\\1.0 & 3.0\\end{matrix}\\right]$"
      ],
      "text/plain": [
       "Matrix([\n",
       "[2.0, 1.0],\n",
       "[1.0, 3.0]])"
      ]
     },
     "metadata": {},
     "output_type": "display_data"
    },
    {
     "data": {
      "text/plain": [
       "True"
      ]
     },
     "metadata": {},
     "output_type": "display_data"
    }
   ],
   "source": [
    "P, D = A.diagonalize()\n",
    "display(P, D,\n",
    "        P*D*P**(-1),\n",
    "        (P*D*P**(-1)).evalf(),\n",
    "        (P*D*P**(-1)).evalf() == A)"
   ]
  },
  {
   "cell_type": "markdown",
   "id": "5ba23749-c645-4aac-80c7-5581059b9ba3",
   "metadata": {
    "heading_collapsed": "true",
    "tags": []
   },
   "source": [
    "#### 解微分方程式"
   ]
  },
  {
   "cell_type": "code",
   "execution_count": 164,
   "id": "4a24eea3-1141-477a-8446-78024d686630",
   "metadata": {},
   "outputs": [
    {
     "data": {
      "text/latex": [
       "$\\displaystyle - f{\\left(x \\right)} + \\frac{d^{2}}{d x^{2}} f{\\left(x \\right)} = e^{x}$"
      ],
      "text/plain": [
       "Eq(-f(x) + Derivative(f(x), (x, 2)), exp(x))"
      ]
     },
     "execution_count": 164,
     "metadata": {},
     "output_type": "execute_result"
    }
   ],
   "source": [
    "f = sympy.Function('f')\n",
    "eq = sympy.Eq(f(x).diff(x).diff(x)-f(x), sympy.exp(x))\n",
    "eq"
   ]
  },
  {
   "cell_type": "code",
   "execution_count": 165,
   "id": "3f26c230-4978-442a-bd4a-7839c6fe3d00",
   "metadata": {},
   "outputs": [
    {
     "data": {
      "text/latex": [
       "$\\displaystyle f{\\left(x \\right)} = C_{2} e^{- x} + \\left(C_{1} + \\frac{x}{2}\\right) e^{x}$"
      ],
      "text/plain": [
       "Eq(f(x), C2*exp(-x) + (C1 + x/2)*exp(x))"
      ]
     },
     "execution_count": 165,
     "metadata": {},
     "output_type": "execute_result"
    }
   ],
   "source": [
    "ans = sympy.dsolve(eq, f(x))\n",
    "ans"
   ]
  },
  {
   "cell_type": "code",
   "execution_count": 149,
   "id": "acf96667-4aba-46d9-8467-d7ca063a2eeb",
   "metadata": {},
   "outputs": [
    {
     "data": {
      "text/plain": [
       "True"
      ]
     },
     "execution_count": 149,
     "metadata": {},
     "output_type": "execute_result"
    }
   ],
   "source": [
    "#驗算\n",
    "c1, c2, x = sympy.symbols('c1, c2, x')\n",
    "fans = c2 * sympy.exp(-x) + (c1+x/2) * sympy.exp(x)\n",
    "left = fans.diff(x).diff(x)-fans\n",
    "right = sympy.exp(x)\n",
    "left == right"
   ]
  },
  {
   "cell_type": "code",
   "execution_count": 150,
   "id": "2bfa4033-e3d9-4d71-bddb-e78ccf2c742e",
   "metadata": {},
   "outputs": [
    {
     "data": {
      "text/latex": [
       "$\\displaystyle C_{2} e^{- x} + \\left(C_{1} + \\frac{x}{2}\\right) e^{x}$"
      ],
      "text/plain": [
       "C2*exp(-x) + (C1 + x/2)*exp(x)"
      ]
     },
     "execution_count": 150,
     "metadata": {},
     "output_type": "execute_result"
    }
   ],
   "source": [
    "ans.rhs"
   ]
  },
  {
   "cell_type": "code",
   "execution_count": 170,
   "id": "1691efb9-b3f6-4d93-b389-304cf9a682db",
   "metadata": {},
   "outputs": [
    {
     "data": {
      "text/latex": [
       "$\\displaystyle - C_{2} e^{- x} + \\left(C_{1} + \\frac{x}{2}\\right) e^{x} + \\frac{e^{x}}{2}$"
      ],
      "text/plain": [
       "-C2*exp(-x) + (C1 + x/2)*exp(x) + exp(x)/2"
      ]
     },
     "execution_count": 170,
     "metadata": {},
     "output_type": "execute_result"
    }
   ],
   "source": [
    "ans.rhs.diff(x)"
   ]
  },
  {
   "cell_type": "code",
   "execution_count": 178,
   "id": "25047fba-c09b-4dd2-94fe-5d5f579aa029",
   "metadata": {},
   "outputs": [
    {
     "data": {
      "text/latex": [
       "$\\displaystyle e^{x}$"
      ],
      "text/plain": [
       "exp(x)"
      ]
     },
     "execution_count": 178,
     "metadata": {},
     "output_type": "execute_result"
    }
   ],
   "source": [
    "ans.rhs.diff(x).diff(x) - ans.rhs"
   ]
  },
  {
   "cell_type": "markdown",
   "id": "a6ef58bc-0e66-48d2-b6bb-c6dc5d907000",
   "metadata": {
    "heading_collapsed": "true",
    "tags": []
   },
   "source": [
    "#### 牛頓運動方程式"
   ]
  },
  {
   "cell_type": "markdown",
   "id": "5e3a64ed-7289-40c3-a3d0-6682fd38e0f2",
   "metadata": {},
   "source": [
    "    a(t)  == -9.8\n",
    "\n",
    "    v'(t) == -9.8\n",
    "\n",
    "    s\"(t) == -9.8\n",
    "\n",
    "    s\"(t) + 9.8 == 0\n",
    "\n",
    "    s(t) == ?"
   ]
  },
  {
   "cell_type": "code",
   "execution_count": 152,
   "id": "64204cef-beb7-4995-afd2-97cc2596bd45",
   "metadata": {},
   "outputs": [
    {
     "data": {
      "text/latex": [
       "$\\displaystyle s{\\left(t \\right)} = C_{1} + C_{2} t - \\frac{49 t^{2}}{10}$"
      ],
      "text/plain": [
       "Eq(s(t), C1 + C2*t - 49*t**2/10)"
      ]
     },
     "metadata": {},
     "output_type": "display_data"
    },
    {
     "data": {
      "text/latex": [
       "$\\displaystyle C_{1} + C_{2} t - \\frac{49 t^{2}}{10}$"
      ],
      "text/plain": [
       "C1 + C2*t - 49*t**2/10"
      ]
     },
     "metadata": {},
     "output_type": "display_data"
    }
   ],
   "source": [
    "t = sympy.symbols('t')\n",
    "s = sympy.Function('s')\n",
    "s0, v0 = sympy.symbols('s0, v0')\n",
    "\n",
    "eq = s(t).diff(t).diff(t) + 9.8\n",
    "\n",
    "ans = sympy.dsolve(eq, s(t))\n",
    "display(ans, ans.rhs)"
   ]
  },
  {
   "cell_type": "markdown",
   "id": "6a15b0fc-df54-4c57-9b17-2912f9a4251d",
   "metadata": {},
   "source": [
    "增加初始條件 at t=0, s= s0, v= s'= v0"
   ]
  },
  {
   "cell_type": "code",
   "execution_count": 155,
   "id": "9155ff0a-b46d-4062-b16c-3b9e50231c01",
   "metadata": {},
   "outputs": [
    {
     "data": {
      "text/latex": [
       "$\\displaystyle C_{1} + C_{2} t - \\frac{49 t^{2}}{10}$"
      ],
      "text/plain": [
       "C1 + C2*t - 49*t**2/10"
      ]
     },
     "metadata": {},
     "output_type": "display_data"
    },
    {
     "data": {
      "text/latex": [
       "$\\displaystyle C_{2} - \\frac{49 t}{5}$"
      ],
      "text/plain": [
       "C2 - 49*t/5"
      ]
     },
     "metadata": {},
     "output_type": "display_data"
    }
   ],
   "source": [
    "s= ans.rhs\n",
    "v= s.diff(t)\n",
    "display(s, v)"
   ]
  },
  {
   "cell_type": "code",
   "execution_count": 156,
   "id": "51f781de-0306-4a7f-ba1e-c23a45cbb13c",
   "metadata": {},
   "outputs": [],
   "source": [
    "C1, C2 = sympy.symbols('C1, C2')"
   ]
  },
  {
   "cell_type": "code",
   "execution_count": 157,
   "id": "25d610de-96ce-477e-b1f8-dcf2963b8f77",
   "metadata": {},
   "outputs": [
    {
     "data": {
      "text/latex": [
       "$\\displaystyle v_{0}$"
      ],
      "text/plain": [
       "v0"
      ]
     },
     "execution_count": 157,
     "metadata": {},
     "output_type": "execute_result"
    }
   ],
   "source": [
    "# 運用 v== v0 at t=0 來解 C2\n",
    "\n",
    "c2= sympy.solve(\n",
    "    v.subs(t,0)-v0, \n",
    "    C2)\n",
    "c2= c2[0]\n",
    "c2"
   ]
  },
  {
   "cell_type": "code",
   "execution_count": 158,
   "id": "db57dc8a-374a-4947-afdd-b879234752af",
   "metadata": {},
   "outputs": [
    {
     "data": {
      "text/latex": [
       "$\\displaystyle s_{0}$"
      ],
      "text/plain": [
       "s0"
      ]
     },
     "execution_count": 158,
     "metadata": {},
     "output_type": "execute_result"
    }
   ],
   "source": [
    "# 運用 s== s0 at t=0 來解 C1\n",
    "c1= sympy.solve(\n",
    "    s.subs(t,0).subs(C2,c2)-s0, \n",
    "    C1)\n",
    "c1= c1[0]\n",
    "c1"
   ]
  },
  {
   "cell_type": "code",
   "execution_count": 160,
   "id": "d4f69f98-4603-44f1-a572-7932597d41d8",
   "metadata": {},
   "outputs": [
    {
     "data": {
      "text/latex": [
       "$\\displaystyle s_{0} - \\frac{49 t^{2}}{10} + t v_{0}$"
      ],
      "text/plain": [
       "s0 - 49*t**2/10 + t*v0"
      ]
     },
     "execution_count": 160,
     "metadata": {},
     "output_type": "execute_result"
    }
   ],
   "source": [
    "sFinal= s.subs(C1,c1).subs(C2,c2)\n",
    "sFinal"
   ]
  },
  {
   "cell_type": "markdown",
   "id": "d3784ddd-1a16-429e-a403-972a3b18d361",
   "metadata": {
    "heading_collapsed": "true",
    "tags": []
   },
   "source": [
    "#### ex10: 運用積分計算圓形面積"
   ]
  },
  {
   "cell_type": "code",
   "execution_count": 189,
   "id": "fb1c4444-b6fd-4ab4-9fdb-050025594266",
   "metadata": {},
   "outputs": [],
   "source": [
    "import sympy as sm\n",
    "def f(x,y): \n",
    "\n",
    "    z= x \n",
    "    #z= x + y \n",
    "    #z= x * y \n",
    "    #z= sm.sin(x) * sm.sin(y) \n",
    "    return z \n",
    "\n",
    "x,y = sm.symbols('x,y') \n",
    "π = sm.pi\n",
    "z= f(x,y) \n",
    "\n",
    "%matplotlib qt \n",
    "\n",
    "q= sm.plotting.plot3d( \n",
    "\n",
    "   z, \n",
    "\n",
    "   (x,0,π*4),  \n",
    "\n",
    "   (y,0,π*4), \n",
    "\n",
    "   xlabel= 'x', \n",
    "\n",
    "   ylabel= 'y', \n",
    "\n",
    "   title= f'z= f(x,y)= {z}', \n",
    "\n",
    "   show=False) \n",
    "\n",
    "q.show()"
   ]
  },
  {
   "cell_type": "code",
   "execution_count": 228,
   "id": "202e3665-52b3-48e8-bbfd-964b0e9717b7",
   "metadata": {},
   "outputs": [
    {
     "data": {
      "text/latex": [
       "$\\displaystyle \\pi^{x} \\log{\\left(\\pi \\right)}$"
      ],
      "text/plain": [
       "pi**x*log(pi)"
      ]
     },
     "execution_count": 228,
     "metadata": {},
     "output_type": "execute_result"
    }
   ],
   "source": [
    "f = π**x\n",
    "f.diff()"
   ]
  },
  {
   "cell_type": "code",
   "execution_count": 229,
   "id": "bfe946c9-101f-4c63-883a-9d39d25f4ac3",
   "metadata": {},
   "outputs": [],
   "source": [
    "%matplotlib qt\n",
    "fg = sm.plotting.plot(f, f.diff())\n",
    "fg[0].line_color = 'red'\n",
    "fg[1].line_color = 'green'\n",
    "fg.show()"
   ]
  },
  {
   "cell_type": "code",
   "execution_count": 231,
   "id": "be3cf1a0-cf72-4b02-98dd-7152935e4473",
   "metadata": {},
   "outputs": [
    {
     "data": {
      "text/latex": [
       "$\\displaystyle \\sqrt{1 - x^{2}}$"
      ],
      "text/plain": [
       "sqrt(1 - x**2)"
      ]
     },
     "metadata": {},
     "output_type": "display_data"
    },
    {
     "data": {
      "text/latex": [
       "$\\displaystyle - \\sqrt{1 - x^{2}}$"
      ],
      "text/plain": [
       "-sqrt(1 - x**2)"
      ]
     },
     "metadata": {},
     "output_type": "display_data"
    }
   ],
   "source": [
    "x,y = sympy.symbols('x,y')\n",
    "y1= sympy.sqrt(1-x**2)\n",
    "y2= -y1\n",
    "display(y1, y2)"
   ]
  },
  {
   "cell_type": "code",
   "execution_count": 232,
   "id": "fb7522dc-bc7c-4344-8578-35c5bb6ea59a",
   "metadata": {},
   "outputs": [],
   "source": [
    "import seaborn as sb\n",
    "sb.set_style('whitegrid')\n",
    "p= sympy.plotting.plot(y1,y2,(x,-1,1), show=False)\n",
    "p[0].line_color='red'\n",
    "p[1].line_color='green'\n",
    "p.legend=True\n",
    "p.show()"
   ]
  },
  {
   "cell_type": "code",
   "execution_count": 235,
   "id": "d389e8e7-dfb6-4808-be70-e88726e2a2ef",
   "metadata": {},
   "outputs": [
    {
     "data": {
      "text/latex": [
       "$\\displaystyle \\frac{\\pi}{2}$"
      ],
      "text/plain": [
       "pi/2"
      ]
     },
     "metadata": {},
     "output_type": "display_data"
    },
    {
     "data": {
      "text/latex": [
       "$\\displaystyle - \\frac{\\pi}{2}$"
      ],
      "text/plain": [
       "-pi/2"
      ]
     },
     "metadata": {},
     "output_type": "display_data"
    },
    {
     "data": {
      "text/latex": [
       "$\\displaystyle \\pi$"
      ],
      "text/plain": [
       "pi"
      ]
     },
     "metadata": {},
     "output_type": "display_data"
    }
   ],
   "source": [
    "display(y1.integrate((x,-1,1)),  # 上半圓\n",
    "        y2.integrate((x,-1,1)))  # 下半圓 \n",
    "area = y1.integrate((x,-1,1))*2\n",
    "display(area)"
   ]
  },
  {
   "cell_type": "code",
   "execution_count": 239,
   "id": "866e0b8d-aca9-4287-953f-b523dda2804d",
   "metadata": {},
   "outputs": [
    {
     "data": {
      "text/plain": [
       "157.5"
      ]
     },
     "execution_count": 239,
     "metadata": {},
     "output_type": "execute_result"
    }
   ],
   "source": [
    "350*0.45"
   ]
  },
  {
   "cell_type": "code",
   "execution_count": null,
   "id": "5011f7e0-7afc-49dd-8b18-e99a45b8a799",
   "metadata": {},
   "outputs": [],
   "source": []
  }
 ],
 "metadata": {
  "kernelspec": {
   "display_name": "Python 3",
   "language": "python",
   "name": "python3"
  },
  "language_info": {
   "codemirror_mode": {
    "name": "ipython",
    "version": 3
   },
   "file_extension": ".py",
   "mimetype": "text/x-python",
   "name": "python",
   "nbconvert_exporter": "python",
   "pygments_lexer": "ipython3",
   "version": "3.8.8"
  }
 },
 "nbformat": 4,
 "nbformat_minor": 5
}
