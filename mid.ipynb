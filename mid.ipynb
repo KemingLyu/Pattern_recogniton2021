{
 "cells": [
  {
   "cell_type": "code",
   "execution_count": 1,
   "id": "d906e313-de8a-47c3-a8cb-39cbe497dcac",
   "metadata": {},
   "outputs": [],
   "source": [
    "from sympy import *"
   ]
  },
  {
   "cell_type": "markdown",
   "id": "4bf748a8-15f5-4380-9b54-88f06130449f",
   "metadata": {},
   "source": [
    "# 1"
   ]
  },
  {
   "cell_type": "code",
   "execution_count": 2,
   "id": "ec4d82ed-04d0-4528-ab6c-6e030e7f1766",
   "metadata": {},
   "outputs": [],
   "source": [
    "x, n = symbols('x, n')"
   ]
  },
  {
   "cell_type": "code",
   "execution_count": 3,
   "id": "aca023f8-efe6-42be-917b-daae3de19d2c",
   "metadata": {},
   "outputs": [
    {
     "data": {
      "text/latex": [
       "$\\displaystyle \\frac{n^{11}}{11}$"
      ],
      "text/plain": [
       "n**11/11"
      ]
     },
     "execution_count": 3,
     "metadata": {},
     "output_type": "execute_result"
    }
   ],
   "source": [
    "f = x**10\n",
    "f.integrate((x,0,n))"
   ]
  },
  {
   "cell_type": "code",
   "execution_count": 4,
   "id": "3440b8e2-61b9-4030-9a67-6519b5bff228",
   "metadata": {},
   "outputs": [
    {
     "data": {
      "text/latex": [
       "$\\displaystyle \\frac{n^{2}}{2} + \\frac{n}{2}$"
      ],
      "text/plain": [
       "n**2/2 + n/2"
      ]
     },
     "execution_count": 4,
     "metadata": {},
     "output_type": "execute_result"
    }
   ],
   "source": [
    "f = x\n",
    "Sum(f, (x, 0, n)).doit()"
   ]
  },
  {
   "cell_type": "code",
   "execution_count": 5,
   "id": "15e51d31-1660-4881-a07b-cff3b73cb8d0",
   "metadata": {},
   "outputs": [
    {
     "data": {
      "text/latex": [
       "$\\displaystyle \\frac{n^{2}}{2} + \\frac{n}{2}$"
      ],
      "text/plain": [
       "n**2/2 + n/2"
      ]
     },
     "execution_count": 5,
     "metadata": {},
     "output_type": "execute_result"
    }
   ],
   "source": [
    "Sum(f, (x, 0, n)).doit()"
   ]
  },
  {
   "cell_type": "code",
   "execution_count": 6,
   "id": "e3ce7d2d-162c-4525-989f-b9130fb8ad98",
   "metadata": {},
   "outputs": [
    {
     "data": {
      "text/latex": [
       "$\\displaystyle \\frac{n^{11}}{11} - \\frac{n^{10}}{2} + \\frac{5 n^{9}}{6} - n^{7} + n^{5} - \\frac{n^{3}}{2} + \\frac{5 n}{66} + 1$"
      ],
      "text/plain": [
       "n**11/11 - n**10/2 + 5*n**9/6 - n**7 + n**5 - n**3/2 + 5*n/66 + 1"
      ]
     },
     "execution_count": 6,
     "metadata": {},
     "output_type": "execute_result"
    }
   ],
   "source": [
    "f = (x-1)**10\n",
    "Sum(f, (x, 0, n)).doit()"
   ]
  },
  {
   "cell_type": "code",
   "execution_count": 7,
   "id": "05877c90-ad15-49b8-8ef7-48ac7e219e18",
   "metadata": {},
   "outputs": [
    {
     "ename": "NameError",
     "evalue": "name 'sp' is not defined",
     "output_type": "error",
     "traceback": [
      "\u001b[1;31m---------------------------------------------------------------------------\u001b[0m",
      "\u001b[1;31mNameError\u001b[0m                                 Traceback (most recent call last)",
      "\u001b[1;32m<ipython-input-7-618b5ccb7563>\u001b[0m in \u001b[0;36m<module>\u001b[1;34m\u001b[0m\n\u001b[1;32m----> 1\u001b[1;33m \u001b[0mf\u001b[0m \u001b[1;33m=\u001b[0m \u001b[0mx\u001b[0m\u001b[1;33m**\u001b[0m\u001b[1;36m10\u001b[0m\u001b[1;33m*\u001b[0m\u001b[0msp\u001b[0m\u001b[1;33m.\u001b[0m\u001b[0mexp\u001b[0m\u001b[1;33m(\u001b[0m\u001b[1;33m-\u001b[0m\u001b[0mx\u001b[0m\u001b[1;33m)\u001b[0m\u001b[1;33m\u001b[0m\u001b[1;33m\u001b[0m\u001b[0m\n\u001b[0m\u001b[0;32m      2\u001b[0m \u001b[0mf\u001b[0m\u001b[1;33m.\u001b[0m\u001b[0mintegrate\u001b[0m\u001b[1;33m(\u001b[0m\u001b[0mx\u001b[0m\u001b[1;33m)\u001b[0m\u001b[1;33m.\u001b[0m\u001b[0msimplify\u001b[0m\u001b[1;33m(\u001b[0m\u001b[1;33m)\u001b[0m\u001b[1;33m\u001b[0m\u001b[1;33m\u001b[0m\u001b[0m\n",
      "\u001b[1;31mNameError\u001b[0m: name 'sp' is not defined"
     ]
    }
   ],
   "source": [
    "f = x**10*sp.exp(-x)\n",
    "f.integrate(x).simplify()"
   ]
  },
  {
   "cell_type": "code",
   "execution_count": null,
   "id": "b5fea766-a678-457a-86ed-1fc3c6f4a1ca",
   "metadata": {},
   "outputs": [],
   "source": [
    "x, y = sp.symbols('x y')\n",
    "f = sp.exp(-((x-1)**2) + (y+1)**2)\n",
    "f.diff(x)"
   ]
  },
  {
   "cell_type": "code",
   "execution_count": null,
   "id": "bd843b39-1233-41e4-962c-c0a9f4c48634",
   "metadata": {},
   "outputs": [],
   "source": [
    "f.diff(y)"
   ]
  },
  {
   "cell_type": "code",
   "execution_count": null,
   "id": "4868a949-899f-4c7b-92b8-609beda08722",
   "metadata": {},
   "outputs": [],
   "source": [
    "f.diff(x).diff(y)"
   ]
  },
  {
   "cell_type": "code",
   "execution_count": null,
   "id": "452cc528-6433-4acc-8a0d-f6a581290dc5",
   "metadata": {},
   "outputs": [],
   "source": [
    "fx = f.diff(x)\n",
    "fy = f.diff(y)\n",
    "sp.solve((fx, fy))"
   ]
  },
  {
   "cell_type": "code",
   "execution_count": null,
   "id": "a7fb2544-cd53-4c63-81fd-f6dcc4f9b458",
   "metadata": {},
   "outputs": [],
   "source": [
    "f.subs(x, 1).subs(y, -1)"
   ]
  },
  {
   "cell_type": "code",
   "execution_count": null,
   "id": "e4232efa-5993-4b5d-bc0d-721c859fc15e",
   "metadata": {},
   "outputs": [],
   "source": [
    "%matplotlib qt\n",
    "q = sp.plotting.plot3d(f, xlabel='x', ylabel='y', title=f'z = f(x,y) = {f}', show = False)\n",
    "q.show()"
   ]
  },
  {
   "cell_type": "code",
   "execution_count": null,
   "id": "dae9bd54-6de2-427a-a001-28d3e0687b0a",
   "metadata": {},
   "outputs": [],
   "source": [
    "j = sp.I\n",
    "j**j.evalf()\n",
    "## 參考資料 j 的 j次方 https://kknews.cc/zh-tw/education/z6vpk6g.html"
   ]
  },
  {
   "cell_type": "markdown",
   "id": "cc8a74d4-e4e4-4e63-bb22-7b9e2360658b",
   "metadata": {},
   "source": [
    "# 2"
   ]
  },
  {
   "cell_type": "code",
   "execution_count": null,
   "id": "fc518300-b5ff-4ccc-b0c1-329b4f5c8333",
   "metadata": {},
   "outputs": [],
   "source": [
    "from numpy import *"
   ]
  },
  {
   "cell_type": "code",
   "execution_count": null,
   "id": "85c44283-bad5-4932-918f-ae9e36e77a13",
   "metadata": {},
   "outputs": [],
   "source": [
    "A = array([[5,1],[1,5]])\n",
    "linalg.inv(A)"
   ]
  },
  {
   "cell_type": "code",
   "execution_count": null,
   "id": "07d2da2a-671c-4c60-b153-8e16ae84d712",
   "metadata": {},
   "outputs": [],
   "source": [
    "b = array([10,20])\n",
    "A@b"
   ]
  },
  {
   "cell_type": "code",
   "execution_count": null,
   "id": "250fe52c-1e1b-4f77-a9e1-80bbd1dbac64",
   "metadata": {},
   "outputs": [],
   "source": [
    "b@A"
   ]
  },
  {
   "cell_type": "code",
   "execution_count": null,
   "id": "92ffdc24-e973-47dc-b7f9-e8bffc0afc0f",
   "metadata": {},
   "outputs": [],
   "source": [
    "transpose(b)@A"
   ]
  },
  {
   "cell_type": "code",
   "execution_count": null,
   "id": "007d76e6-c37d-450c-b4a1-1befcfae9220",
   "metadata": {},
   "outputs": [],
   "source": [
    "e_vals,e_vecs = linalg.eig(A)\n",
    "e_vecs"
   ]
  },
  {
   "cell_type": "code",
   "execution_count": null,
   "id": "6ab2f55e-64f4-4d7d-b634-9da98c8b4e82",
   "metadata": {},
   "outputs": [],
   "source": [
    "A*transpose(b)"
   ]
  },
  {
   "cell_type": "code",
   "execution_count": null,
   "id": "8530a656-9fb7-4d4a-a994-d62013f0aa56",
   "metadata": {},
   "outputs": [],
   "source": [
    "f = A*x - b\n",
    "f"
   ]
  },
  {
   "cell_type": "code",
   "execution_count": null,
   "id": "f14d2bb1-dff1-40ce-87c7-0095b9f25b70",
   "metadata": {},
   "outputs": [],
   "source": [
    "c = array([5/4, 15/4])\n",
    "A@c == b"
   ]
  },
  {
   "cell_type": "markdown",
   "id": "7b566d1b-11b9-4705-b298-497f12ecd836",
   "metadata": {},
   "source": [
    "# 3"
   ]
  },
  {
   "cell_type": "markdown",
   "id": "a8920c99-a077-4ce1-8605-f32e8e23ffb8",
   "metadata": {
    "tags": []
   },
   "source": [
    "### 01~07"
   ]
  },
  {
   "cell_type": "code",
   "execution_count": null,
   "id": "4a6da504-bac6-45a3-9848-e85c7157404f",
   "metadata": {},
   "outputs": [],
   "source": [
    "import scipy.stats as st\n",
    "import matplotlib.pyplot as plt\n",
    "import sympy as sp"
   ]
  },
  {
   "cell_type": "code",
   "execution_count": null,
   "id": "5057b738-3020-41b2-b340-484dd8d1a57d",
   "metadata": {},
   "outputs": [],
   "source": [
    "π = sp.pi\n",
    "ϕ = sp.exp(-x**2/2) / sp.sqrt(2*π)\n",
    "ϕ"
   ]
  },
  {
   "cell_type": "code",
   "execution_count": null,
   "id": "e0f7c89c-875e-4e39-b8ff-9d20c526e46b",
   "metadata": {},
   "outputs": [],
   "source": [
    "ϕ.integrate((x, -2, 2))"
   ]
  },
  {
   "cell_type": "code",
   "execution_count": null,
   "id": "d60a0bc0-9375-4bfe-bf9c-3d065c249ebc",
   "metadata": {},
   "outputs": [],
   "source": [
    "ϕ.integrate(x)"
   ]
  },
  {
   "cell_type": "code",
   "execution_count": null,
   "id": "66262410-d45c-41df-8470-7891f020b728",
   "metadata": {},
   "outputs": [],
   "source": [
    "m = x*ϕ\n",
    "m"
   ]
  },
  {
   "cell_type": "code",
   "execution_count": null,
   "id": "2906e422-b3c7-445d-b1dd-c3bc8d4fbc92",
   "metadata": {},
   "outputs": [],
   "source": [
    "#μ = x*ϕ.integrate(x)\n",
    "\n",
    "integrate(m, x)\n",
    "#μ.evalf()"
   ]
  },
  {
   "cell_type": "code",
   "execution_count": null,
   "id": "a36b40ae-2499-4c8f-a5b4-b1678a004884",
   "metadata": {},
   "outputs": [],
   "source": [
    "sp.limit"
   ]
  },
  {
   "cell_type": "code",
   "execution_count": null,
   "id": "c13c2ef5-c9d2-4c2a-97dc-cb51484cb410",
   "metadata": {},
   "outputs": [],
   "source": [
    "ϕ"
   ]
  },
  {
   "cell_type": "code",
   "execution_count": null,
   "id": "f72f40e5-e0a0-4eb4-bda1-cc03dcdfd413",
   "metadata": {
    "tags": []
   },
   "outputs": [],
   "source": [
    "var = ((x-μ)**2*ϕ).integrate(x)"
   ]
  },
  {
   "cell_type": "code",
   "execution_count": null,
   "id": "2f99196a-571d-4703-ae0b-1f91d38dbee9",
   "metadata": {},
   "outputs": [],
   "source": [
    "var.evalf()"
   ]
  },
  {
   "cell_type": "code",
   "execution_count": null,
   "id": "90e29512-b92b-44d7-9874-04b7dfd80028",
   "metadata": {},
   "outputs": [],
   "source": [
    "f = (((x-0)/1)**3 * ϕ).integrate(x)\n",
    "#integrate(x**3*ϕ, x)\n",
    "f"
   ]
  },
  {
   "cell_type": "code",
   "execution_count": null,
   "id": "828c20e7-da3d-4135-98bf-644f4323cc2d",
   "metadata": {},
   "outputs": [],
   "source": [
    "(x**4*ϕ).integrate(x).simplify()"
   ]
  },
  {
   "cell_type": "code",
   "execution_count": null,
   "id": "36b95617-2c63-43ff-bbc3-4747c1bc6b4b",
   "metadata": {
    "tags": []
   },
   "outputs": [],
   "source": [
    "entropy = (sp.log(1/ϕ, sp.E)*ϕ).integrate(x)"
   ]
  },
  {
   "cell_type": "markdown",
   "id": "fc21d592-ec6a-4a3e-86c8-17302df90568",
   "metadata": {},
   "source": [
    "### 08"
   ]
  },
  {
   "cell_type": "code",
   "execution_count": 86,
   "id": "a4efd8f1-3ae2-4abc-9d49-09e8446c27cb",
   "metadata": {
    "tags": []
   },
   "outputs": [
    {
     "data": {
      "text/plain": [
       "[<matplotlib.lines.Line2D at 0x1a0e1a46340>]"
      ]
     },
     "execution_count": 86,
     "metadata": {},
     "output_type": "execute_result"
    }
   ],
   "source": [
    "## (08)\n",
    "X = np.random.normal(size=1000)\n",
    "plt.plot(X)\n",
    "#X"
   ]
  },
  {
   "cell_type": "markdown",
   "id": "521859b0-c32f-4565-ad4f-cd9c7dd32cba",
   "metadata": {},
   "source": [
    "### (09)"
   ]
  },
  {
   "cell_type": "code",
   "execution_count": 89,
   "id": "d300e047-ea0b-44fc-84b1-4e09010a4885",
   "metadata": {},
   "outputs": [],
   "source": [
    "plt.figure()\n",
    "dx = .1\n",
    "xrange = np.arange(-3, 3, dx)\n",
    "#print('xrange=',xrange)\n",
    "ff = []\n",
    "#q1 = X_sort[X_sort<-3].size\n",
    "#q2 = X_sort[(X_sort>=-3)&(X_sort<-2)].size\n",
    "#ff += [(x,q1)]\n",
    "#ff += [(x,q2)]\n",
    "for x in xrange:\n",
    "    q = X[(X>=x)&(X<x+dx)].size\n",
    "    #print(q)\n",
    "    ff += [(x,q)]\n",
    "\n",
    "ff = np.array(ff)\n",
    "xx = ff[:,0]\n",
    "yy = ff[:,1]\n",
    "\n",
    "plt.bar(xx,yy)\n",
    "plt.xlabel('x')\n",
    "plt.ylabel('f(x)')\n",
    "plt.grid()"
   ]
  },
  {
   "cell_type": "markdown",
   "id": "18749acf-0649-4780-b25a-760f4aeee569",
   "metadata": {},
   "source": [
    "### (10)"
   ]
  },
  {
   "cell_type": "code",
   "execution_count": 79,
   "id": "5fc3889a-70cd-402d-bf91-09b532d84d73",
   "metadata": {},
   "outputs": [
    {
     "data": {
      "text/plain": [
       "0.001396311622439507"
      ]
     },
     "execution_count": 79,
     "metadata": {},
     "output_type": "execute_result"
    }
   ],
   "source": [
    "mean = np.mean(X)\n",
    "mean"
   ]
  },
  {
   "cell_type": "code",
   "execution_count": 81,
   "id": "5a876b19-3b57-44e9-ad66-cad642d1049d",
   "metadata": {},
   "outputs": [
    {
     "data": {
      "text/plain": [
       "0.9406033615747975"
      ]
     },
     "execution_count": 81,
     "metadata": {},
     "output_type": "execute_result"
    }
   ],
   "source": [
    "var = np.var(X)\n",
    "var"
   ]
  },
  {
   "cell_type": "markdown",
   "id": "c5748cb1-bcab-4c1a-b460-37c46b3565fd",
   "metadata": {},
   "source": [
    "### (11)"
   ]
  },
  {
   "cell_type": "code",
   "execution_count": 102,
   "id": "954eb96b-756b-46ce-994f-f934997e1ee6",
   "metadata": {},
   "outputs": [
    {
     "name": "stdout",
     "output_type": "stream",
     "text": [
      "1000\n"
     ]
    },
    {
     "data": {
      "text/plain": [
       "[<matplotlib.lines.Line2D at 0x1a0e15013d0>]"
      ]
     },
     "execution_count": 102,
     "metadata": {},
     "output_type": "execute_result"
    }
   ],
   "source": [
    "X = np.random.normal(size=1000)\n",
    "#x = np.linspace(-3, 3, num = 1000)\n",
    "X_sort = np.sort(X)\n",
    "print(X_sort.size)\n",
    "x = 100\n",
    "#print(X_sort < x)\n",
    "plt.plot(X_sort)"
   ]
  },
  {
   "cell_type": "markdown",
   "id": "6c4c020c-c223-49eb-a00f-e32b0db67319",
   "metadata": {},
   "source": [
    "### (12)"
   ]
  },
  {
   "cell_type": "code",
   "execution_count": 104,
   "id": "1ecad1e1-91e8-45a4-bbab-6bfbdc49227f",
   "metadata": {},
   "outputs": [
    {
     "name": "stdout",
     "output_type": "stream",
     "text": [
      "[-3.29061044 -3.03369825] [3.16538009 3.41813075]\n"
     ]
    }
   ],
   "source": [
    "plt.figure()\n",
    "dx = .1\n",
    "xrange = np.arange(-3, 3, dx)\n",
    "#print('xrange=',xrange)\n",
    "ff = []\n",
    "q1 = X_sort[X_sort<-3]\n",
    "#q2 = X_sort[(X_sort>=-3)&(X_sort<-2)].size\n",
    "q2 = X_sort[X_sort>3]\n",
    "print(q1, q2)\n",
    "#ff += [(-4,q1)]\n",
    "#ff += [(4,q2)]\n",
    "for x in xrange:\n",
    "    q = X_sort[(X_sort>=x)&(X_sort<x+dx)].size\n",
    "    #print(q)\n",
    "    #if x<-3:\n",
    "    #    ff += [(x,q1)]\n",
    "    #elif x>3:\n",
    "    #    ff += [(x,q2)]\n",
    "    #else:\n",
    "    ff += [(x,q)]\n",
    "\n",
    "ff = np.array(ff)\n",
    "#print(ff)\n",
    "xx = ff[:,0]\n",
    "yy = ff[:,1]\n",
    "#plt.plot(xx,yy)\n",
    "plt.stem(xx,yy)\n",
    "plt.xlabel('x')\n",
    "plt.ylabel('f(x)')\n",
    "plt.grid()"
   ]
  },
  {
   "cell_type": "code",
   "execution_count": 125,
   "id": "2f757e27-a900-4089-973c-ad8d7fdc686a",
   "metadata": {},
   "outputs": [
    {
     "data": {
      "text/plain": [
       "array([-3.00000000e+00, -2.90000000e+00, -2.80000000e+00, -2.70000000e+00,\n",
       "       -2.60000000e+00, -2.50000000e+00, -2.40000000e+00, -2.30000000e+00,\n",
       "       -2.20000000e+00, -2.10000000e+00, -2.00000000e+00, -1.90000000e+00,\n",
       "       -1.80000000e+00, -1.70000000e+00, -1.60000000e+00, -1.50000000e+00,\n",
       "       -1.40000000e+00, -1.30000000e+00, -1.20000000e+00, -1.10000000e+00,\n",
       "       -1.00000000e+00, -9.00000000e-01, -8.00000000e-01, -7.00000000e-01,\n",
       "       -6.00000000e-01, -5.00000000e-01, -4.00000000e-01, -3.00000000e-01,\n",
       "       -2.00000000e-01, -1.00000000e-01,  2.66453526e-15,  1.00000000e-01,\n",
       "        2.00000000e-01,  3.00000000e-01,  4.00000000e-01,  5.00000000e-01,\n",
       "        6.00000000e-01,  7.00000000e-01,  8.00000000e-01,  9.00000000e-01,\n",
       "        1.00000000e+00,  1.10000000e+00,  1.20000000e+00,  1.30000000e+00,\n",
       "        1.40000000e+00,  1.50000000e+00,  1.60000000e+00,  1.70000000e+00,\n",
       "        1.80000000e+00,  1.90000000e+00,  2.00000000e+00,  2.10000000e+00,\n",
       "        2.20000000e+00,  2.30000000e+00,  2.40000000e+00,  2.50000000e+00,\n",
       "        2.60000000e+00,  2.70000000e+00,  2.80000000e+00,  2.90000000e+00])"
      ]
     },
     "execution_count": 125,
     "metadata": {},
     "output_type": "execute_result"
    }
   ],
   "source": [
    "np.arange(-3, 3, 0.1)"
   ]
  },
  {
   "cell_type": "code",
   "execution_count": null,
   "id": "7445579e-c3f9-4760-aa18-672584f1c850",
   "metadata": {},
   "outputs": [],
   "source": []
  },
  {
   "cell_type": "code",
   "execution_count": null,
   "id": "56e0b52b-bb29-44bd-9515-ba3ccf90818a",
   "metadata": {},
   "outputs": [],
   "source": []
  }
 ],
 "metadata": {
  "kernelspec": {
   "display_name": "Python 3",
   "language": "python",
   "name": "python3"
  },
  "language_info": {
   "codemirror_mode": {
    "name": "ipython",
    "version": 3
   },
   "file_extension": ".py",
   "mimetype": "text/x-python",
   "name": "python",
   "nbconvert_exporter": "python",
   "pygments_lexer": "ipython3",
   "version": "3.8.8"
  }
 },
 "nbformat": 4,
 "nbformat_minor": 5
}
