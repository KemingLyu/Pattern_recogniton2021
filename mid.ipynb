{
 "cells": [
  {
   "cell_type": "code",
   "execution_count": 1,
   "id": "d906e313-de8a-47c3-a8cb-39cbe497dcac",
   "metadata": {},
   "outputs": [],
   "source": [
    "from sympy import *"
   ]
  },
  {
   "cell_type": "markdown",
   "id": "4bf748a8-15f5-4380-9b54-88f06130449f",
   "metadata": {},
   "source": [
    "# 1"
   ]
  },
  {
   "cell_type": "code",
   "execution_count": 2,
   "id": "ec4d82ed-04d0-4528-ab6c-6e030e7f1766",
   "metadata": {},
   "outputs": [],
   "source": [
    "x, n = symbols('x, n')"
   ]
  },
  {
   "cell_type": "code",
   "execution_count": 56,
   "id": "aca023f8-efe6-42be-917b-daae3de19d2c",
   "metadata": {},
   "outputs": [
    {
     "data": {
      "text/latex": [
       "$\\displaystyle \\frac{n^{11}}{11}$"
      ],
      "text/plain": [
       "n**11/11"
      ]
     },
     "execution_count": 56,
     "metadata": {},
     "output_type": "execute_result"
    }
   ],
   "source": [
    "f = x**10\n",
    "f.integrate((x,0,n))"
   ]
  },
  {
   "cell_type": "code",
   "execution_count": 54,
   "id": "3440b8e2-61b9-4030-9a67-6519b5bff228",
   "metadata": {},
   "outputs": [
    {
     "data": {
      "text/latex": [
       "$\\displaystyle \\frac{n^{2}}{2} + \\frac{n}{2}$"
      ],
      "text/plain": [
       "n**2/2 + n/2"
      ]
     },
     "execution_count": 54,
     "metadata": {},
     "output_type": "execute_result"
    }
   ],
   "source": [
    "f = x\n",
    "Sum(f, (x, 0, n)).doit()"
   ]
  },
  {
   "cell_type": "code",
   "execution_count": 57,
   "id": "15e51d31-1660-4881-a07b-cff3b73cb8d0",
   "metadata": {},
   "outputs": [
    {
     "data": {
      "text/latex": [
       "$\\displaystyle \\frac{n^{11}}{11} + \\frac{n^{10}}{2} + \\frac{5 n^{9}}{6} - n^{7} + n^{5} - \\frac{n^{3}}{2} + \\frac{5 n}{66}$"
      ],
      "text/plain": [
       "n**11/11 + n**10/2 + 5*n**9/6 - n**7 + n**5 - n**3/2 + 5*n/66"
      ]
     },
     "execution_count": 57,
     "metadata": {},
     "output_type": "execute_result"
    }
   ],
   "source": [
    "Sum(f, (x, 0, n)).doit()"
   ]
  },
  {
   "cell_type": "code",
   "execution_count": 58,
   "id": "e3ce7d2d-162c-4525-989f-b9130fb8ad98",
   "metadata": {},
   "outputs": [
    {
     "data": {
      "text/latex": [
       "$\\displaystyle \\frac{n^{11}}{11} - \\frac{n^{10}}{2} + \\frac{5 n^{9}}{6} - n^{7} + n^{5} - \\frac{n^{3}}{2} + \\frac{5 n}{66} + 1$"
      ],
      "text/plain": [
       "n**11/11 - n**10/2 + 5*n**9/6 - n**7 + n**5 - n**3/2 + 5*n/66 + 1"
      ]
     },
     "execution_count": 58,
     "metadata": {},
     "output_type": "execute_result"
    }
   ],
   "source": [
    "f = (x-1)**10\n",
    "Sum(f, (x, 0, n)).doit()"
   ]
  },
  {
   "cell_type": "code",
   "execution_count": 61,
   "id": "05877c90-ad15-49b8-8ef7-48ac7e219e18",
   "metadata": {},
   "outputs": [
    {
     "data": {
      "text/latex": [
       "$\\displaystyle - \\left(x^{10} + 10 x^{9} + 90 x^{8} + 720 x^{7} + 5040 x^{6} + 30240 x^{5} + 151200 x^{4} + 604800 x^{3} + 1814400 x^{2} + 3628800 x + 3628800\\right) e^{- x}$"
      ],
      "text/plain": [
       "-(x**10 + 10*x**9 + 90*x**8 + 720*x**7 + 5040*x**6 + 30240*x**5 + 151200*x**4 + 604800*x**3 + 1814400*x**2 + 3628800*x + 3628800)*exp(-x)"
      ]
     },
     "execution_count": 61,
     "metadata": {},
     "output_type": "execute_result"
    }
   ],
   "source": [
    "f = x**10*sp.exp(-x)\n",
    "f.integrate(x).simplify()"
   ]
  },
  {
   "cell_type": "code",
   "execution_count": 69,
   "id": "b5fea766-a678-457a-86ed-1fc3c6f4a1ca",
   "metadata": {},
   "outputs": [
    {
     "data": {
      "text/latex": [
       "$\\displaystyle \\left(2 - 2 x\\right) e^{- \\left(x - 1\\right)^{2} + \\left(y + 1\\right)^{2}}$"
      ],
      "text/plain": [
       "(2 - 2*x)*exp(-(x - 1)**2 + (y + 1)**2)"
      ]
     },
     "execution_count": 69,
     "metadata": {},
     "output_type": "execute_result"
    }
   ],
   "source": [
    "x, y = sp.symbols('x y')\n",
    "f = sp.exp(-((x-1)**2) + (y+1)**2)\n",
    "f.diff(x)"
   ]
  },
  {
   "cell_type": "code",
   "execution_count": 70,
   "id": "bd843b39-1233-41e4-962c-c0a9f4c48634",
   "metadata": {},
   "outputs": [
    {
     "data": {
      "text/latex": [
       "$\\displaystyle \\left(2 y + 2\\right) e^{- \\left(x - 1\\right)^{2} + \\left(y + 1\\right)^{2}}$"
      ],
      "text/plain": [
       "(2*y + 2)*exp(-(x - 1)**2 + (y + 1)**2)"
      ]
     },
     "execution_count": 70,
     "metadata": {},
     "output_type": "execute_result"
    }
   ],
   "source": [
    "f.diff(y)"
   ]
  },
  {
   "cell_type": "code",
   "execution_count": 75,
   "id": "4868a949-899f-4c7b-92b8-609beda08722",
   "metadata": {},
   "outputs": [
    {
     "data": {
      "text/latex": [
       "$\\displaystyle \\left(2 - 2 x\\right) \\left(2 y + 2\\right) e^{- \\left(x - 1\\right)^{2} + \\left(y + 1\\right)^{2}}$"
      ],
      "text/plain": [
       "(2 - 2*x)*(2*y + 2)*exp(-(x - 1)**2 + (y + 1)**2)"
      ]
     },
     "execution_count": 75,
     "metadata": {},
     "output_type": "execute_result"
    }
   ],
   "source": [
    "f.diff(x).diff(y)"
   ]
  },
  {
   "cell_type": "code",
   "execution_count": 74,
   "id": "452cc528-6433-4acc-8a0d-f6a581290dc5",
   "metadata": {},
   "outputs": [
    {
     "data": {
      "text/plain": [
       "[{x: 1, y: -1}]"
      ]
     },
     "execution_count": 74,
     "metadata": {},
     "output_type": "execute_result"
    }
   ],
   "source": [
    "fx = f.diff(x)\n",
    "fy = f.diff(y)\n",
    "sp.solve((fx, fy))"
   ]
  },
  {
   "cell_type": "code",
   "execution_count": 78,
   "id": "a7fb2544-cd53-4c63-81fd-f6dcc4f9b458",
   "metadata": {},
   "outputs": [
    {
     "data": {
      "text/latex": [
       "$\\displaystyle 1$"
      ],
      "text/plain": [
       "1"
      ]
     },
     "execution_count": 78,
     "metadata": {},
     "output_type": "execute_result"
    }
   ],
   "source": [
    "f.subs(x, 1).subs(y, -1)"
   ]
  },
  {
   "cell_type": "code",
   "execution_count": 81,
   "id": "e4232efa-5993-4b5d-bc0d-721c859fc15e",
   "metadata": {},
   "outputs": [],
   "source": [
    "%matplotlib qt\n",
    "q = sp.plotting.plot3d(f, xlabel='x', ylabel='y', title=f'z = f(x,y) = {f}', show = False)\n",
    "q.show()"
   ]
  },
  {
   "cell_type": "code",
   "execution_count": 88,
   "id": "dae9bd54-6de2-427a-a001-28d3e0687b0a",
   "metadata": {},
   "outputs": [
    {
     "data": {
      "text/latex": [
       "$\\displaystyle i^{1.0 i}$"
      ],
      "text/plain": [
       "I**(1.0*I)"
      ]
     },
     "execution_count": 88,
     "metadata": {},
     "output_type": "execute_result"
    }
   ],
   "source": [
    "j = sp.I\n",
    "j**j.evalf()\n",
    "## 參考資料 j 的 j次方 https://kknews.cc/zh-tw/education/z6vpk6g.html"
   ]
  },
  {
   "cell_type": "markdown",
   "id": "cc8a74d4-e4e4-4e63-bb22-7b9e2360658b",
   "metadata": {},
   "source": [
    "# 2"
   ]
  },
  {
   "cell_type": "code",
   "execution_count": 4,
   "id": "fc518300-b5ff-4ccc-b0c1-329b4f5c8333",
   "metadata": {},
   "outputs": [],
   "source": [
    "from numpy import *"
   ]
  },
  {
   "cell_type": "code",
   "execution_count": 5,
   "id": "85c44283-bad5-4932-918f-ae9e36e77a13",
   "metadata": {},
   "outputs": [
    {
     "data": {
      "text/plain": [
       "array([[ 0.20833333, -0.04166667],\n",
       "       [-0.04166667,  0.20833333]])"
      ]
     },
     "execution_count": 5,
     "metadata": {},
     "output_type": "execute_result"
    }
   ],
   "source": [
    "A = array([[5,1],[1,5]])\n",
    "linalg.inv(A)"
   ]
  },
  {
   "cell_type": "code",
   "execution_count": 6,
   "id": "07d2da2a-671c-4c60-b153-8e16ae84d712",
   "metadata": {},
   "outputs": [
    {
     "data": {
      "text/plain": [
       "array([ 70, 110])"
      ]
     },
     "execution_count": 6,
     "metadata": {},
     "output_type": "execute_result"
    }
   ],
   "source": [
    "b = array([10,20])\n",
    "A@b"
   ]
  },
  {
   "cell_type": "code",
   "execution_count": 7,
   "id": "250fe52c-1e1b-4f77-a9e1-80bbd1dbac64",
   "metadata": {},
   "outputs": [
    {
     "data": {
      "text/plain": [
       "array([ 70, 110])"
      ]
     },
     "execution_count": 7,
     "metadata": {},
     "output_type": "execute_result"
    }
   ],
   "source": [
    "b@A"
   ]
  },
  {
   "cell_type": "code",
   "execution_count": 8,
   "id": "92ffdc24-e973-47dc-b7f9-e8bffc0afc0f",
   "metadata": {},
   "outputs": [
    {
     "data": {
      "text/plain": [
       "array([ 70, 110])"
      ]
     },
     "execution_count": 8,
     "metadata": {},
     "output_type": "execute_result"
    }
   ],
   "source": [
    "transpose(b)@A"
   ]
  },
  {
   "cell_type": "code",
   "execution_count": 9,
   "id": "007d76e6-c37d-450c-b4a1-1befcfae9220",
   "metadata": {},
   "outputs": [
    {
     "data": {
      "text/plain": [
       "array([[ 0.70710678, -0.70710678],\n",
       "       [ 0.70710678,  0.70710678]])"
      ]
     },
     "execution_count": 9,
     "metadata": {},
     "output_type": "execute_result"
    }
   ],
   "source": [
    "e_vals,e_vecs = linalg.eig(A)\n",
    "e_vecs"
   ]
  },
  {
   "cell_type": "code",
   "execution_count": 10,
   "id": "6ab2f55e-64f4-4d7d-b634-9da98c8b4e82",
   "metadata": {},
   "outputs": [
    {
     "data": {
      "text/plain": [
       "array([[ 50,  20],\n",
       "       [ 10, 100]])"
      ]
     },
     "execution_count": 10,
     "metadata": {},
     "output_type": "execute_result"
    }
   ],
   "source": [
    "A*transpose(b)"
   ]
  },
  {
   "cell_type": "code",
   "execution_count": 11,
   "id": "8530a656-9fb7-4d4a-a994-d62013f0aa56",
   "metadata": {},
   "outputs": [
    {
     "data": {
      "text/plain": [
       "array([[5*x - 10, x - 20],\n",
       "       [x - 10, 5*x - 20]], dtype=object)"
      ]
     },
     "execution_count": 11,
     "metadata": {},
     "output_type": "execute_result"
    }
   ],
   "source": [
    "f = A*x - b\n",
    "f"
   ]
  },
  {
   "cell_type": "code",
   "execution_count": 12,
   "id": "f14d2bb1-dff1-40ce-87c7-0095b9f25b70",
   "metadata": {},
   "outputs": [
    {
     "data": {
      "text/plain": [
       "array([ True,  True])"
      ]
     },
     "execution_count": 12,
     "metadata": {},
     "output_type": "execute_result"
    }
   ],
   "source": [
    "c = array([5/4, 15/4])\n",
    "A@c == b"
   ]
  },
  {
   "cell_type": "markdown",
   "id": "7b566d1b-11b9-4705-b298-497f12ecd836",
   "metadata": {},
   "source": [
    "# 3"
   ]
  },
  {
   "cell_type": "code",
   "execution_count": 13,
   "id": "4a6da504-bac6-45a3-9848-e85c7157404f",
   "metadata": {},
   "outputs": [],
   "source": [
    "import scipy.stats as st\n",
    "import matplotlib.pyplot as plt\n",
    "import sympy as sp"
   ]
  },
  {
   "cell_type": "code",
   "execution_count": 14,
   "id": "5057b738-3020-41b2-b340-484dd8d1a57d",
   "metadata": {},
   "outputs": [
    {
     "data": {
      "text/latex": [
       "$\\displaystyle \\frac{\\sqrt{2} e^{- \\frac{x^{2}}{2}}}{2 \\sqrt{\\pi}}$"
      ],
      "text/plain": [
       "sqrt(2)*exp(-x**2/2)/(2*sqrt(pi))"
      ]
     },
     "execution_count": 14,
     "metadata": {},
     "output_type": "execute_result"
    }
   ],
   "source": [
    "π = sp.pi\n",
    "ϕ = sp.exp(-x**2/2) / sp.sqrt(2*π)\n",
    "ϕ"
   ]
  },
  {
   "cell_type": "code",
   "execution_count": 15,
   "id": "e0f7c89c-875e-4e39-b8ff-9d20c526e46b",
   "metadata": {},
   "outputs": [
    {
     "data": {
      "text/latex": [
       "$\\displaystyle \\operatorname{erf}{\\left(\\sqrt{2} \\right)}$"
      ],
      "text/plain": [
       "erf(sqrt(2))"
      ]
     },
     "execution_count": 15,
     "metadata": {},
     "output_type": "execute_result"
    }
   ],
   "source": [
    "ϕ.integrate((x, -2, 2))"
   ]
  },
  {
   "cell_type": "code",
   "execution_count": 16,
   "id": "d60a0bc0-9375-4bfe-bf9c-3d065c249ebc",
   "metadata": {},
   "outputs": [
    {
     "data": {
      "text/latex": [
       "$\\displaystyle \\frac{\\operatorname{erf}{\\left(\\frac{\\sqrt{2} x}{2} \\right)}}{2}$"
      ],
      "text/plain": [
       "erf(sqrt(2)*x/2)/2"
      ]
     },
     "execution_count": 16,
     "metadata": {},
     "output_type": "execute_result"
    }
   ],
   "source": [
    "ϕ.integrate(x)"
   ]
  },
  {
   "cell_type": "code",
   "execution_count": 17,
   "id": "66262410-d45c-41df-8470-7891f020b728",
   "metadata": {},
   "outputs": [
    {
     "data": {
      "text/latex": [
       "$\\displaystyle \\frac{\\sqrt{2} x e^{- \\frac{x^{2}}{2}}}{2 \\sqrt{\\pi}}$"
      ],
      "text/plain": [
       "sqrt(2)*x*exp(-x**2/2)/(2*sqrt(pi))"
      ]
     },
     "execution_count": 17,
     "metadata": {},
     "output_type": "execute_result"
    }
   ],
   "source": [
    "m = x*ϕ\n",
    "m"
   ]
  },
  {
   "cell_type": "code",
   "execution_count": 32,
   "id": "2906e422-b3c7-445d-b1dd-c3bc8d4fbc92",
   "metadata": {},
   "outputs": [
    {
     "data": {
      "text/latex": [
       "$\\displaystyle - \\frac{\\sqrt{2} e^{- \\frac{x^{2}}{2}}}{2 \\sqrt{\\pi}}$"
      ],
      "text/plain": [
       "-sqrt(2)*exp(-x**2/2)/(2*sqrt(pi))"
      ]
     },
     "execution_count": 32,
     "metadata": {},
     "output_type": "execute_result"
    }
   ],
   "source": [
    "#μ = x*ϕ.integrate(x)\n",
    "\n",
    "integrate(m, x)\n",
    "#μ.evalf()"
   ]
  },
  {
   "cell_type": "code",
   "execution_count": 19,
   "id": "a36b40ae-2499-4c8f-a5b4-b1678a004884",
   "metadata": {},
   "outputs": [
    {
     "data": {
      "text/plain": [
       "<function sympy.series.limits.limit(e, z, z0, dir='+')>"
      ]
     },
     "execution_count": 19,
     "metadata": {},
     "output_type": "execute_result"
    }
   ],
   "source": [
    "sp.limit"
   ]
  },
  {
   "cell_type": "code",
   "execution_count": 20,
   "id": "c13c2ef5-c9d2-4c2a-97dc-cb51484cb410",
   "metadata": {},
   "outputs": [
    {
     "data": {
      "text/latex": [
       "$\\displaystyle \\frac{\\sqrt{2} e^{- \\frac{x^{2}}{2}}}{2 \\sqrt{\\pi}}$"
      ],
      "text/plain": [
       "sqrt(2)*exp(-x**2/2)/(2*sqrt(pi))"
      ]
     },
     "execution_count": 20,
     "metadata": {},
     "output_type": "execute_result"
    }
   ],
   "source": [
    "ϕ"
   ]
  },
  {
   "cell_type": "code",
   "execution_count": 24,
   "id": "f72f40e5-e0a0-4eb4-bda1-cc03dcdfd413",
   "metadata": {
    "collapsed": true,
    "jupyter": {
     "outputs_hidden": true
    },
    "tags": []
   },
   "outputs": [
    {
     "ename": "KeyboardInterrupt",
     "evalue": "",
     "output_type": "error",
     "traceback": [
      "\u001b[1;31m---------------------------------------------------------------------------\u001b[0m",
      "\u001b[1;31mKeyboardInterrupt\u001b[0m                         Traceback (most recent call last)",
      "\u001b[1;32m<ipython-input-24-ce8387a60520>\u001b[0m in \u001b[0;36m<module>\u001b[1;34m\u001b[0m\n\u001b[1;32m----> 1\u001b[1;33m \u001b[0mvar\u001b[0m \u001b[1;33m=\u001b[0m \u001b[1;33m(\u001b[0m\u001b[1;33m(\u001b[0m\u001b[0mx\u001b[0m\u001b[1;33m-\u001b[0m\u001b[0mμ\u001b[0m\u001b[1;33m)\u001b[0m\u001b[1;33m**\u001b[0m\u001b[1;36m2\u001b[0m\u001b[1;33m*\u001b[0m\u001b[0mϕ\u001b[0m\u001b[1;33m)\u001b[0m\u001b[1;33m.\u001b[0m\u001b[0mintegrate\u001b[0m\u001b[1;33m(\u001b[0m\u001b[0mx\u001b[0m\u001b[1;33m)\u001b[0m\u001b[1;33m\u001b[0m\u001b[1;33m\u001b[0m\u001b[0m\n\u001b[0m",
      "\u001b[1;32m~\\anaconda3\\lib\\site-packages\\sympy\\core\\expr.py\u001b[0m in \u001b[0;36mintegrate\u001b[1;34m(self, *args, **kwargs)\u001b[0m\n\u001b[0;32m   3640\u001b[0m         \u001b[1;34m\"\"\"See the integrate function in sympy.integrals\"\"\"\u001b[0m\u001b[1;33m\u001b[0m\u001b[1;33m\u001b[0m\u001b[0m\n\u001b[0;32m   3641\u001b[0m         \u001b[1;32mfrom\u001b[0m \u001b[0msympy\u001b[0m\u001b[1;33m.\u001b[0m\u001b[0mintegrals\u001b[0m \u001b[1;32mimport\u001b[0m \u001b[0mintegrate\u001b[0m\u001b[1;33m\u001b[0m\u001b[1;33m\u001b[0m\u001b[0m\n\u001b[1;32m-> 3642\u001b[1;33m         \u001b[1;32mreturn\u001b[0m \u001b[0mintegrate\u001b[0m\u001b[1;33m(\u001b[0m\u001b[0mself\u001b[0m\u001b[1;33m,\u001b[0m \u001b[1;33m*\u001b[0m\u001b[0margs\u001b[0m\u001b[1;33m,\u001b[0m \u001b[1;33m**\u001b[0m\u001b[0mkwargs\u001b[0m\u001b[1;33m)\u001b[0m\u001b[1;33m\u001b[0m\u001b[1;33m\u001b[0m\u001b[0m\n\u001b[0m\u001b[0;32m   3643\u001b[0m \u001b[1;33m\u001b[0m\u001b[0m\n\u001b[0;32m   3644\u001b[0m     \u001b[1;32mdef\u001b[0m \u001b[0mnsimplify\u001b[0m\u001b[1;33m(\u001b[0m\u001b[0mself\u001b[0m\u001b[1;33m,\u001b[0m \u001b[0mconstants\u001b[0m\u001b[1;33m=\u001b[0m\u001b[1;33m[\u001b[0m\u001b[1;33m]\u001b[0m\u001b[1;33m,\u001b[0m \u001b[0mtolerance\u001b[0m\u001b[1;33m=\u001b[0m\u001b[1;32mNone\u001b[0m\u001b[1;33m,\u001b[0m \u001b[0mfull\u001b[0m\u001b[1;33m=\u001b[0m\u001b[1;32mFalse\u001b[0m\u001b[1;33m)\u001b[0m\u001b[1;33m:\u001b[0m\u001b[1;33m\u001b[0m\u001b[1;33m\u001b[0m\u001b[0m\n",
      "\u001b[1;32m~\\anaconda3\\lib\\site-packages\\sympy\\integrals\\integrals.py\u001b[0m in \u001b[0;36mintegrate\u001b[1;34m(meijerg, conds, risch, heurisch, manual, *args, **kwargs)\u001b[0m\n\u001b[0;32m   1569\u001b[0m \u001b[1;33m\u001b[0m\u001b[0m\n\u001b[0;32m   1570\u001b[0m     \u001b[1;32mif\u001b[0m \u001b[0misinstance\u001b[0m\u001b[1;33m(\u001b[0m\u001b[0mintegral\u001b[0m\u001b[1;33m,\u001b[0m \u001b[0mIntegral\u001b[0m\u001b[1;33m)\u001b[0m\u001b[1;33m:\u001b[0m\u001b[1;33m\u001b[0m\u001b[1;33m\u001b[0m\u001b[0m\n\u001b[1;32m-> 1571\u001b[1;33m         \u001b[1;32mreturn\u001b[0m \u001b[0mintegral\u001b[0m\u001b[1;33m.\u001b[0m\u001b[0mdoit\u001b[0m\u001b[1;33m(\u001b[0m\u001b[1;33m**\u001b[0m\u001b[0mdoit_flags\u001b[0m\u001b[1;33m)\u001b[0m\u001b[1;33m\u001b[0m\u001b[1;33m\u001b[0m\u001b[0m\n\u001b[0m\u001b[0;32m   1572\u001b[0m     \u001b[1;32melse\u001b[0m\u001b[1;33m:\u001b[0m\u001b[1;33m\u001b[0m\u001b[1;33m\u001b[0m\u001b[0m\n\u001b[0;32m   1573\u001b[0m         new_args = [a.doit(**doit_flags) if isinstance(a, Integral) else a\n",
      "\u001b[1;32m~\\anaconda3\\lib\\site-packages\\sympy\\integrals\\integrals.py\u001b[0m in \u001b[0;36mdoit\u001b[1;34m(self, **hints)\u001b[0m\n\u001b[0;32m    595\u001b[0m                     \u001b[0mantideriv\u001b[0m \u001b[1;33m=\u001b[0m \u001b[1;32mNone\u001b[0m\u001b[1;33m\u001b[0m\u001b[1;33m\u001b[0m\u001b[0m\n\u001b[0;32m    596\u001b[0m                 \u001b[1;32melse\u001b[0m\u001b[1;33m:\u001b[0m\u001b[1;33m\u001b[0m\u001b[1;33m\u001b[0m\u001b[0m\n\u001b[1;32m--> 597\u001b[1;33m                     antideriv = self._eval_integral(\n\u001b[0m\u001b[0;32m    598\u001b[0m                         function, xab[0], **eval_kwargs)\n\u001b[0;32m    599\u001b[0m                     \u001b[1;32mif\u001b[0m \u001b[0mantideriv\u001b[0m \u001b[1;32mis\u001b[0m \u001b[1;32mNone\u001b[0m \u001b[1;32mand\u001b[0m \u001b[0mmeijerg\u001b[0m \u001b[1;32mis\u001b[0m \u001b[1;32mTrue\u001b[0m\u001b[1;33m:\u001b[0m\u001b[1;33m\u001b[0m\u001b[1;33m\u001b[0m\u001b[0m\n",
      "\u001b[1;32m~\\anaconda3\\lib\\site-packages\\sympy\\integrals\\integrals.py\u001b[0m in \u001b[0;36m_eval_integral\u001b[1;34m(self, f, x, meijerg, risch, manual, heurisch, conds)\u001b[0m\n\u001b[0;32m    954\u001b[0m                         \u001b[1;32mreturn\u001b[0m \u001b[0mNonElementaryIntegral\u001b[0m\u001b[1;33m(\u001b[0m\u001b[0mf\u001b[0m\u001b[1;33m,\u001b[0m \u001b[0mx\u001b[0m\u001b[1;33m)\u001b[0m\u001b[1;33m.\u001b[0m\u001b[0mdoit\u001b[0m\u001b[1;33m(\u001b[0m\u001b[0mrisch\u001b[0m\u001b[1;33m=\u001b[0m\u001b[1;32mFalse\u001b[0m\u001b[1;33m)\u001b[0m\u001b[1;33m\u001b[0m\u001b[1;33m\u001b[0m\u001b[0m\n\u001b[0;32m    955\u001b[0m                     \u001b[1;32melse\u001b[0m\u001b[1;33m:\u001b[0m\u001b[1;33m\u001b[0m\u001b[1;33m\u001b[0m\u001b[0m\n\u001b[1;32m--> 956\u001b[1;33m                         \u001b[1;32mreturn\u001b[0m \u001b[0mresult\u001b[0m \u001b[1;33m+\u001b[0m \u001b[0mi\u001b[0m\u001b[1;33m.\u001b[0m\u001b[0mdoit\u001b[0m\u001b[1;33m(\u001b[0m\u001b[0mrisch\u001b[0m\u001b[1;33m=\u001b[0m\u001b[1;32mFalse\u001b[0m\u001b[1;33m)\u001b[0m\u001b[1;33m\u001b[0m\u001b[1;33m\u001b[0m\u001b[0m\n\u001b[0m\u001b[0;32m    957\u001b[0m                 \u001b[1;32melse\u001b[0m\u001b[1;33m:\u001b[0m\u001b[1;33m\u001b[0m\u001b[1;33m\u001b[0m\u001b[0m\n\u001b[0;32m    958\u001b[0m                     \u001b[1;32mreturn\u001b[0m \u001b[0mresult\u001b[0m\u001b[1;33m\u001b[0m\u001b[1;33m\u001b[0m\u001b[0m\n",
      "\u001b[1;32m~\\anaconda3\\lib\\site-packages\\sympy\\integrals\\integrals.py\u001b[0m in \u001b[0;36mdoit\u001b[1;34m(self, **hints)\u001b[0m\n\u001b[0;32m    595\u001b[0m                     \u001b[0mantideriv\u001b[0m \u001b[1;33m=\u001b[0m \u001b[1;32mNone\u001b[0m\u001b[1;33m\u001b[0m\u001b[1;33m\u001b[0m\u001b[0m\n\u001b[0;32m    596\u001b[0m                 \u001b[1;32melse\u001b[0m\u001b[1;33m:\u001b[0m\u001b[1;33m\u001b[0m\u001b[1;33m\u001b[0m\u001b[0m\n\u001b[1;32m--> 597\u001b[1;33m                     antideriv = self._eval_integral(\n\u001b[0m\u001b[0;32m    598\u001b[0m                         function, xab[0], **eval_kwargs)\n\u001b[0;32m    599\u001b[0m                     \u001b[1;32mif\u001b[0m \u001b[0mantideriv\u001b[0m \u001b[1;32mis\u001b[0m \u001b[1;32mNone\u001b[0m \u001b[1;32mand\u001b[0m \u001b[0mmeijerg\u001b[0m \u001b[1;32mis\u001b[0m \u001b[1;32mTrue\u001b[0m\u001b[1;33m:\u001b[0m\u001b[1;33m\u001b[0m\u001b[1;33m\u001b[0m\u001b[0m\n",
      "\u001b[1;32m~\\anaconda3\\lib\\site-packages\\sympy\\integrals\\integrals.py\u001b[0m in \u001b[0;36m_eval_integral\u001b[1;34m(self, f, x, meijerg, risch, manual, heurisch, conds)\u001b[0m\n\u001b[0;32m   1065\u001b[0m                     \u001b[1;32mtry\u001b[0m\u001b[1;33m:\u001b[0m\u001b[1;33m\u001b[0m\u001b[1;33m\u001b[0m\u001b[0m\n\u001b[0;32m   1066\u001b[0m                         \u001b[1;32mif\u001b[0m \u001b[0mconds\u001b[0m \u001b[1;33m==\u001b[0m \u001b[1;34m'piecewise'\u001b[0m\u001b[1;33m:\u001b[0m\u001b[1;33m\u001b[0m\u001b[1;33m\u001b[0m\u001b[0m\n\u001b[1;32m-> 1067\u001b[1;33m                             \u001b[0mh\u001b[0m \u001b[1;33m=\u001b[0m \u001b[0mheurisch_wrapper\u001b[0m\u001b[1;33m(\u001b[0m\u001b[0mg\u001b[0m\u001b[1;33m,\u001b[0m \u001b[0mx\u001b[0m\u001b[1;33m,\u001b[0m \u001b[0mhints\u001b[0m\u001b[1;33m=\u001b[0m\u001b[1;33m[\u001b[0m\u001b[1;33m]\u001b[0m\u001b[1;33m)\u001b[0m\u001b[1;33m\u001b[0m\u001b[1;33m\u001b[0m\u001b[0m\n\u001b[0m\u001b[0;32m   1068\u001b[0m                         \u001b[1;32melse\u001b[0m\u001b[1;33m:\u001b[0m\u001b[1;33m\u001b[0m\u001b[1;33m\u001b[0m\u001b[0m\n\u001b[0;32m   1069\u001b[0m                             \u001b[0mh\u001b[0m \u001b[1;33m=\u001b[0m \u001b[0mheurisch_\u001b[0m\u001b[1;33m(\u001b[0m\u001b[0mg\u001b[0m\u001b[1;33m,\u001b[0m \u001b[0mx\u001b[0m\u001b[1;33m,\u001b[0m \u001b[0mhints\u001b[0m\u001b[1;33m=\u001b[0m\u001b[1;33m[\u001b[0m\u001b[1;33m]\u001b[0m\u001b[1;33m)\u001b[0m\u001b[1;33m\u001b[0m\u001b[1;33m\u001b[0m\u001b[0m\n",
      "\u001b[1;32m~\\anaconda3\\lib\\site-packages\\sympy\\integrals\\heurisch.py\u001b[0m in \u001b[0;36mheurisch_wrapper\u001b[1;34m(f, x, rewrite, hints, mappings, retries, degree_offset, unnecessary_permutations, _try_heurisch)\u001b[0m\n\u001b[0;32m    141\u001b[0m         \u001b[1;32mreturn\u001b[0m \u001b[0mf\u001b[0m\u001b[1;33m*\u001b[0m\u001b[0mx\u001b[0m\u001b[1;33m\u001b[0m\u001b[1;33m\u001b[0m\u001b[0m\n\u001b[0;32m    142\u001b[0m \u001b[1;33m\u001b[0m\u001b[0m\n\u001b[1;32m--> 143\u001b[1;33m     res = heurisch(f, x, rewrite, hints, mappings, retries, degree_offset,\n\u001b[0m\u001b[0;32m    144\u001b[0m                    unnecessary_permutations, _try_heurisch)\n\u001b[0;32m    145\u001b[0m     \u001b[1;32mif\u001b[0m \u001b[1;32mnot\u001b[0m \u001b[0misinstance\u001b[0m\u001b[1;33m(\u001b[0m\u001b[0mres\u001b[0m\u001b[1;33m,\u001b[0m \u001b[0mBasic\u001b[0m\u001b[1;33m)\u001b[0m\u001b[1;33m:\u001b[0m\u001b[1;33m\u001b[0m\u001b[1;33m\u001b[0m\u001b[0m\n",
      "\u001b[1;32m~\\anaconda3\\lib\\site-packages\\sympy\\integrals\\heurisch.py\u001b[0m in \u001b[0;36mheurisch\u001b[1;34m(f, x, rewrite, hints, mappings, retries, degree_offset, unnecessary_permutations, _try_heurisch)\u001b[0m\n\u001b[0;32m    735\u001b[0m \u001b[1;33m\u001b[0m\u001b[0m\n\u001b[0;32m    736\u001b[0m     \u001b[1;32mif\u001b[0m \u001b[1;32mnot\u001b[0m \u001b[1;33m(\u001b[0m\u001b[0mF\u001b[0m\u001b[1;33m.\u001b[0m\u001b[0mfree_symbols\u001b[0m \u001b[1;33m-\u001b[0m \u001b[0mset\u001b[0m\u001b[1;33m(\u001b[0m\u001b[0mV\u001b[0m\u001b[1;33m)\u001b[0m\u001b[1;33m)\u001b[0m\u001b[1;33m:\u001b[0m\u001b[1;33m\u001b[0m\u001b[1;33m\u001b[0m\u001b[0m\n\u001b[1;32m--> 737\u001b[1;33m         \u001b[0msolution\u001b[0m \u001b[1;33m=\u001b[0m \u001b[0m_integrate\u001b[0m\u001b[1;33m(\u001b[0m\u001b[1;34m'Q'\u001b[0m\u001b[1;33m)\u001b[0m\u001b[1;33m\u001b[0m\u001b[1;33m\u001b[0m\u001b[0m\n\u001b[0m\u001b[0;32m    738\u001b[0m \u001b[1;33m\u001b[0m\u001b[0m\n\u001b[0;32m    739\u001b[0m         \u001b[1;32mif\u001b[0m \u001b[0msolution\u001b[0m \u001b[1;32mis\u001b[0m \u001b[1;32mNone\u001b[0m\u001b[1;33m:\u001b[0m\u001b[1;33m\u001b[0m\u001b[1;33m\u001b[0m\u001b[0m\n",
      "\u001b[1;32m~\\anaconda3\\lib\\site-packages\\sympy\\integrals\\heurisch.py\u001b[0m in \u001b[0;36m_integrate\u001b[1;34m(field)\u001b[0m\n\u001b[0;32m    689\u001b[0m         \u001b[1;31m# revise this code.\u001b[0m\u001b[1;33m\u001b[0m\u001b[1;33m\u001b[0m\u001b[1;33m\u001b[0m\u001b[0m\n\u001b[0;32m    690\u001b[0m         \u001b[0mcandidate\u001b[0m \u001b[1;33m=\u001b[0m \u001b[0mpoly_part\u001b[0m\u001b[1;33m/\u001b[0m\u001b[0mpoly_denom\u001b[0m \u001b[1;33m+\u001b[0m \u001b[0mAdd\u001b[0m\u001b[1;33m(\u001b[0m\u001b[1;33m*\u001b[0m\u001b[0mlog_part\u001b[0m\u001b[1;33m)\u001b[0m \u001b[1;33m+\u001b[0m \u001b[0mAdd\u001b[0m\u001b[1;33m(\u001b[0m\u001b[1;33m*\u001b[0m\u001b[0matan_part\u001b[0m\u001b[1;33m)\u001b[0m\u001b[1;33m\u001b[0m\u001b[1;33m\u001b[0m\u001b[0m\n\u001b[1;32m--> 691\u001b[1;33m         \u001b[0mh\u001b[0m \u001b[1;33m=\u001b[0m \u001b[0mF\u001b[0m \u001b[1;33m-\u001b[0m \u001b[0m_derivation\u001b[0m\u001b[1;33m(\u001b[0m\u001b[0mcandidate\u001b[0m\u001b[1;33m)\u001b[0m \u001b[1;33m/\u001b[0m \u001b[0mdenom\u001b[0m\u001b[1;33m\u001b[0m\u001b[1;33m\u001b[0m\u001b[0m\n\u001b[0m\u001b[0;32m    692\u001b[0m         \u001b[0mraw_numer\u001b[0m \u001b[1;33m=\u001b[0m \u001b[0mh\u001b[0m\u001b[1;33m.\u001b[0m\u001b[0mas_numer_denom\u001b[0m\u001b[1;33m(\u001b[0m\u001b[1;33m)\u001b[0m\u001b[1;33m[\u001b[0m\u001b[1;36m0\u001b[0m\u001b[1;33m]\u001b[0m\u001b[1;33m\u001b[0m\u001b[1;33m\u001b[0m\u001b[0m\n\u001b[0;32m    693\u001b[0m \u001b[1;33m\u001b[0m\u001b[0m\n",
      "\u001b[1;32m~\\anaconda3\\lib\\site-packages\\sympy\\integrals\\heurisch.py\u001b[0m in \u001b[0;36m_derivation\u001b[1;34m(h)\u001b[0m\n\u001b[0;32m    514\u001b[0m     \u001b[0mnumers\u001b[0m \u001b[1;33m=\u001b[0m \u001b[1;33m[\u001b[0m \u001b[0mcancel\u001b[0m\u001b[1;33m(\u001b[0m\u001b[0mdenom\u001b[0m\u001b[1;33m*\u001b[0m\u001b[0mg\u001b[0m\u001b[1;33m)\u001b[0m \u001b[1;32mfor\u001b[0m \u001b[0mg\u001b[0m \u001b[1;32min\u001b[0m \u001b[0mdiffs\u001b[0m \u001b[1;33m]\u001b[0m\u001b[1;33m\u001b[0m\u001b[1;33m\u001b[0m\u001b[0m\n\u001b[0;32m    515\u001b[0m     \u001b[1;32mdef\u001b[0m \u001b[0m_derivation\u001b[0m\u001b[1;33m(\u001b[0m\u001b[0mh\u001b[0m\u001b[1;33m)\u001b[0m\u001b[1;33m:\u001b[0m\u001b[1;33m\u001b[0m\u001b[1;33m\u001b[0m\u001b[0m\n\u001b[1;32m--> 516\u001b[1;33m         \u001b[1;32mreturn\u001b[0m \u001b[0mAdd\u001b[0m\u001b[1;33m(\u001b[0m\u001b[1;33m*\u001b[0m\u001b[1;33m[\u001b[0m \u001b[0md\u001b[0m \u001b[1;33m*\u001b[0m \u001b[0mh\u001b[0m\u001b[1;33m.\u001b[0m\u001b[0mdiff\u001b[0m\u001b[1;33m(\u001b[0m\u001b[0mv\u001b[0m\u001b[1;33m)\u001b[0m \u001b[1;32mfor\u001b[0m \u001b[0md\u001b[0m\u001b[1;33m,\u001b[0m \u001b[0mv\u001b[0m \u001b[1;32min\u001b[0m \u001b[0mzip\u001b[0m\u001b[1;33m(\u001b[0m\u001b[0mnumers\u001b[0m\u001b[1;33m,\u001b[0m \u001b[0mV\u001b[0m\u001b[1;33m)\u001b[0m \u001b[1;33m]\u001b[0m\u001b[1;33m)\u001b[0m\u001b[1;33m\u001b[0m\u001b[1;33m\u001b[0m\u001b[0m\n\u001b[0m\u001b[0;32m    517\u001b[0m \u001b[1;33m\u001b[0m\u001b[0m\n\u001b[0;32m    518\u001b[0m     \u001b[1;32mdef\u001b[0m \u001b[0m_deflation\u001b[0m\u001b[1;33m(\u001b[0m\u001b[0mp\u001b[0m\u001b[1;33m)\u001b[0m\u001b[1;33m:\u001b[0m\u001b[1;33m\u001b[0m\u001b[1;33m\u001b[0m\u001b[0m\n",
      "\u001b[1;32m~\\anaconda3\\lib\\site-packages\\sympy\\integrals\\heurisch.py\u001b[0m in \u001b[0;36m<listcomp>\u001b[1;34m(.0)\u001b[0m\n\u001b[0;32m    514\u001b[0m     \u001b[0mnumers\u001b[0m \u001b[1;33m=\u001b[0m \u001b[1;33m[\u001b[0m \u001b[0mcancel\u001b[0m\u001b[1;33m(\u001b[0m\u001b[0mdenom\u001b[0m\u001b[1;33m*\u001b[0m\u001b[0mg\u001b[0m\u001b[1;33m)\u001b[0m \u001b[1;32mfor\u001b[0m \u001b[0mg\u001b[0m \u001b[1;32min\u001b[0m \u001b[0mdiffs\u001b[0m \u001b[1;33m]\u001b[0m\u001b[1;33m\u001b[0m\u001b[1;33m\u001b[0m\u001b[0m\n\u001b[0;32m    515\u001b[0m     \u001b[1;32mdef\u001b[0m \u001b[0m_derivation\u001b[0m\u001b[1;33m(\u001b[0m\u001b[0mh\u001b[0m\u001b[1;33m)\u001b[0m\u001b[1;33m:\u001b[0m\u001b[1;33m\u001b[0m\u001b[1;33m\u001b[0m\u001b[0m\n\u001b[1;32m--> 516\u001b[1;33m         \u001b[1;32mreturn\u001b[0m \u001b[0mAdd\u001b[0m\u001b[1;33m(\u001b[0m\u001b[1;33m*\u001b[0m\u001b[1;33m[\u001b[0m \u001b[0md\u001b[0m \u001b[1;33m*\u001b[0m \u001b[0mh\u001b[0m\u001b[1;33m.\u001b[0m\u001b[0mdiff\u001b[0m\u001b[1;33m(\u001b[0m\u001b[0mv\u001b[0m\u001b[1;33m)\u001b[0m \u001b[1;32mfor\u001b[0m \u001b[0md\u001b[0m\u001b[1;33m,\u001b[0m \u001b[0mv\u001b[0m \u001b[1;32min\u001b[0m \u001b[0mzip\u001b[0m\u001b[1;33m(\u001b[0m\u001b[0mnumers\u001b[0m\u001b[1;33m,\u001b[0m \u001b[0mV\u001b[0m\u001b[1;33m)\u001b[0m \u001b[1;33m]\u001b[0m\u001b[1;33m)\u001b[0m\u001b[1;33m\u001b[0m\u001b[1;33m\u001b[0m\u001b[0m\n\u001b[0m\u001b[0;32m    517\u001b[0m \u001b[1;33m\u001b[0m\u001b[0m\n\u001b[0;32m    518\u001b[0m     \u001b[1;32mdef\u001b[0m \u001b[0m_deflation\u001b[0m\u001b[1;33m(\u001b[0m\u001b[0mp\u001b[0m\u001b[1;33m)\u001b[0m\u001b[1;33m:\u001b[0m\u001b[1;33m\u001b[0m\u001b[1;33m\u001b[0m\u001b[0m\n",
      "\u001b[1;32m~\\anaconda3\\lib\\site-packages\\sympy\\core\\expr.py\u001b[0m in \u001b[0;36mdiff\u001b[1;34m(self, *symbols, **assumptions)\u001b[0m\n\u001b[0;32m   3500\u001b[0m     \u001b[1;32mdef\u001b[0m \u001b[0mdiff\u001b[0m\u001b[1;33m(\u001b[0m\u001b[0mself\u001b[0m\u001b[1;33m,\u001b[0m \u001b[1;33m*\u001b[0m\u001b[0msymbols\u001b[0m\u001b[1;33m,\u001b[0m \u001b[1;33m**\u001b[0m\u001b[0massumptions\u001b[0m\u001b[1;33m)\u001b[0m\u001b[1;33m:\u001b[0m\u001b[1;33m\u001b[0m\u001b[1;33m\u001b[0m\u001b[0m\n\u001b[0;32m   3501\u001b[0m         \u001b[0massumptions\u001b[0m\u001b[1;33m.\u001b[0m\u001b[0msetdefault\u001b[0m\u001b[1;33m(\u001b[0m\u001b[1;34m\"evaluate\"\u001b[0m\u001b[1;33m,\u001b[0m \u001b[1;32mTrue\u001b[0m\u001b[1;33m)\u001b[0m\u001b[1;33m\u001b[0m\u001b[1;33m\u001b[0m\u001b[0m\n\u001b[1;32m-> 3502\u001b[1;33m         \u001b[1;32mreturn\u001b[0m \u001b[0m_derivative_dispatch\u001b[0m\u001b[1;33m(\u001b[0m\u001b[0mself\u001b[0m\u001b[1;33m,\u001b[0m \u001b[1;33m*\u001b[0m\u001b[0msymbols\u001b[0m\u001b[1;33m,\u001b[0m \u001b[1;33m**\u001b[0m\u001b[0massumptions\u001b[0m\u001b[1;33m)\u001b[0m\u001b[1;33m\u001b[0m\u001b[1;33m\u001b[0m\u001b[0m\n\u001b[0m\u001b[0;32m   3503\u001b[0m \u001b[1;33m\u001b[0m\u001b[0m\n\u001b[0;32m   3504\u001b[0m     \u001b[1;31m###########################################################################\u001b[0m\u001b[1;33m\u001b[0m\u001b[1;33m\u001b[0m\u001b[1;33m\u001b[0m\u001b[0m\n",
      "\u001b[1;32m~\\anaconda3\\lib\\site-packages\\sympy\\core\\function.py\u001b[0m in \u001b[0;36m_derivative_dispatch\u001b[1;34m(expr, *variables, **kwargs)\u001b[0m\n\u001b[0;32m   1945\u001b[0m         \u001b[1;32mfrom\u001b[0m \u001b[0msympy\u001b[0m\u001b[1;33m.\u001b[0m\u001b[0mtensor\u001b[0m\u001b[1;33m.\u001b[0m\u001b[0marray\u001b[0m\u001b[1;33m.\u001b[0m\u001b[0marray_derivatives\u001b[0m \u001b[1;32mimport\u001b[0m \u001b[0mArrayDerivative\u001b[0m\u001b[1;33m\u001b[0m\u001b[1;33m\u001b[0m\u001b[0m\n\u001b[0;32m   1946\u001b[0m         \u001b[1;32mreturn\u001b[0m \u001b[0mArrayDerivative\u001b[0m\u001b[1;33m(\u001b[0m\u001b[0mexpr\u001b[0m\u001b[1;33m,\u001b[0m \u001b[1;33m*\u001b[0m\u001b[0mvariables\u001b[0m\u001b[1;33m,\u001b[0m \u001b[1;33m**\u001b[0m\u001b[0mkwargs\u001b[0m\u001b[1;33m)\u001b[0m\u001b[1;33m\u001b[0m\u001b[1;33m\u001b[0m\u001b[0m\n\u001b[1;32m-> 1947\u001b[1;33m     \u001b[1;32mreturn\u001b[0m \u001b[0mDerivative\u001b[0m\u001b[1;33m(\u001b[0m\u001b[0mexpr\u001b[0m\u001b[1;33m,\u001b[0m \u001b[1;33m*\u001b[0m\u001b[0mvariables\u001b[0m\u001b[1;33m,\u001b[0m \u001b[1;33m**\u001b[0m\u001b[0mkwargs\u001b[0m\u001b[1;33m)\u001b[0m\u001b[1;33m\u001b[0m\u001b[1;33m\u001b[0m\u001b[0m\n\u001b[0m\u001b[0;32m   1948\u001b[0m \u001b[1;33m\u001b[0m\u001b[0m\n\u001b[0;32m   1949\u001b[0m \u001b[1;33m\u001b[0m\u001b[0m\n",
      "\u001b[1;32m~\\anaconda3\\lib\\site-packages\\sympy\\core\\function.py\u001b[0m in \u001b[0;36m__new__\u001b[1;34m(cls, expr, *variables, **kwargs)\u001b[0m\n\u001b[0;32m   1471\u001b[0m                     \u001b[0mexpr\u001b[0m \u001b[1;33m*=\u001b[0m \u001b[0mold_v\u001b[0m\u001b[1;33m.\u001b[0m\u001b[0mdiff\u001b[0m\u001b[1;33m(\u001b[0m\u001b[0mold_v\u001b[0m\u001b[1;33m)\u001b[0m\u001b[1;33m\u001b[0m\u001b[1;33m\u001b[0m\u001b[0m\n\u001b[0;32m   1472\u001b[0m \u001b[1;33m\u001b[0m\u001b[0m\n\u001b[1;32m-> 1473\u001b[1;33m             \u001b[0mobj\u001b[0m \u001b[1;33m=\u001b[0m \u001b[0mcls\u001b[0m\u001b[1;33m.\u001b[0m\u001b[0m_dispatch_eval_derivative_n_times\u001b[0m\u001b[1;33m(\u001b[0m\u001b[0mexpr\u001b[0m\u001b[1;33m,\u001b[0m \u001b[0mv\u001b[0m\u001b[1;33m,\u001b[0m \u001b[0mcount\u001b[0m\u001b[1;33m)\u001b[0m\u001b[1;33m\u001b[0m\u001b[1;33m\u001b[0m\u001b[0m\n\u001b[0m\u001b[0;32m   1474\u001b[0m             \u001b[1;32mif\u001b[0m \u001b[0mobj\u001b[0m \u001b[1;32mis\u001b[0m \u001b[1;32mnot\u001b[0m \u001b[1;32mNone\u001b[0m \u001b[1;32mand\u001b[0m \u001b[0mobj\u001b[0m\u001b[1;33m.\u001b[0m\u001b[0mis_zero\u001b[0m\u001b[1;33m:\u001b[0m\u001b[1;33m\u001b[0m\u001b[1;33m\u001b[0m\u001b[0m\n\u001b[0;32m   1475\u001b[0m                 \u001b[1;32mreturn\u001b[0m \u001b[0mobj\u001b[0m\u001b[1;33m\u001b[0m\u001b[1;33m\u001b[0m\u001b[0m\n",
      "\u001b[1;32m~\\anaconda3\\lib\\site-packages\\sympy\\core\\function.py\u001b[0m in \u001b[0;36m_dispatch_eval_derivative_n_times\u001b[1;34m(cls, expr, v, count)\u001b[0m\n\u001b[0;32m   1934\u001b[0m         \u001b[1;31m# object, the default in `Basic` will call a loop over\u001b[0m\u001b[1;33m\u001b[0m\u001b[1;33m\u001b[0m\u001b[1;33m\u001b[0m\u001b[0m\n\u001b[0;32m   1935\u001b[0m         \u001b[1;31m# `_eval_derivative`:\u001b[0m\u001b[1;33m\u001b[0m\u001b[1;33m\u001b[0m\u001b[1;33m\u001b[0m\u001b[0m\n\u001b[1;32m-> 1936\u001b[1;33m         \u001b[1;32mreturn\u001b[0m \u001b[0mexpr\u001b[0m\u001b[1;33m.\u001b[0m\u001b[0m_eval_derivative_n_times\u001b[0m\u001b[1;33m(\u001b[0m\u001b[0mv\u001b[0m\u001b[1;33m,\u001b[0m \u001b[0mcount\u001b[0m\u001b[1;33m)\u001b[0m\u001b[1;33m\u001b[0m\u001b[1;33m\u001b[0m\u001b[0m\n\u001b[0m\u001b[0;32m   1937\u001b[0m \u001b[1;33m\u001b[0m\u001b[0m\n\u001b[0;32m   1938\u001b[0m \u001b[1;33m\u001b[0m\u001b[0m\n",
      "\u001b[1;32m~\\anaconda3\\lib\\site-packages\\sympy\\core\\basic.py\u001b[0m in \u001b[0;36m_eval_derivative_n_times\u001b[1;34m(self, s, n)\u001b[0m\n\u001b[0;32m   1712\u001b[0m             \u001b[0mobj\u001b[0m \u001b[1;33m=\u001b[0m \u001b[0mself\u001b[0m\u001b[1;33m\u001b[0m\u001b[1;33m\u001b[0m\u001b[0m\n\u001b[0;32m   1713\u001b[0m             \u001b[1;32mfor\u001b[0m \u001b[0mi\u001b[0m \u001b[1;32min\u001b[0m \u001b[0mrange\u001b[0m\u001b[1;33m(\u001b[0m\u001b[0mn\u001b[0m\u001b[1;33m)\u001b[0m\u001b[1;33m:\u001b[0m\u001b[1;33m\u001b[0m\u001b[1;33m\u001b[0m\u001b[0m\n\u001b[1;32m-> 1714\u001b[1;33m                 \u001b[0mobj2\u001b[0m \u001b[1;33m=\u001b[0m \u001b[0mobj\u001b[0m\u001b[1;33m.\u001b[0m\u001b[0m_eval_derivative\u001b[0m\u001b[1;33m(\u001b[0m\u001b[0ms\u001b[0m\u001b[1;33m)\u001b[0m\u001b[1;33m\u001b[0m\u001b[1;33m\u001b[0m\u001b[0m\n\u001b[0m\u001b[0;32m   1715\u001b[0m                 \u001b[1;32mif\u001b[0m \u001b[0mobj\u001b[0m \u001b[1;33m==\u001b[0m \u001b[0mobj2\u001b[0m \u001b[1;32mor\u001b[0m \u001b[0mobj2\u001b[0m \u001b[1;32mis\u001b[0m \u001b[1;32mNone\u001b[0m\u001b[1;33m:\u001b[0m\u001b[1;33m\u001b[0m\u001b[1;33m\u001b[0m\u001b[0m\n\u001b[0;32m   1716\u001b[0m                     \u001b[1;32mbreak\u001b[0m\u001b[1;33m\u001b[0m\u001b[1;33m\u001b[0m\u001b[0m\n",
      "\u001b[1;32m~\\anaconda3\\lib\\site-packages\\sympy\\core\\cache.py\u001b[0m in \u001b[0;36mwrapper\u001b[1;34m(*args, **kwargs)\u001b[0m\n\u001b[0;32m     70\u001b[0m         \u001b[1;32mdef\u001b[0m \u001b[0mwrapper\u001b[0m\u001b[1;33m(\u001b[0m\u001b[1;33m*\u001b[0m\u001b[0margs\u001b[0m\u001b[1;33m,\u001b[0m \u001b[1;33m**\u001b[0m\u001b[0mkwargs\u001b[0m\u001b[1;33m)\u001b[0m\u001b[1;33m:\u001b[0m\u001b[1;33m\u001b[0m\u001b[1;33m\u001b[0m\u001b[0m\n\u001b[0;32m     71\u001b[0m             \u001b[1;32mtry\u001b[0m\u001b[1;33m:\u001b[0m\u001b[1;33m\u001b[0m\u001b[1;33m\u001b[0m\u001b[0m\n\u001b[1;32m---> 72\u001b[1;33m                 \u001b[0mretval\u001b[0m \u001b[1;33m=\u001b[0m \u001b[0mcfunc\u001b[0m\u001b[1;33m(\u001b[0m\u001b[1;33m*\u001b[0m\u001b[0margs\u001b[0m\u001b[1;33m,\u001b[0m \u001b[1;33m**\u001b[0m\u001b[0mkwargs\u001b[0m\u001b[1;33m)\u001b[0m\u001b[1;33m\u001b[0m\u001b[1;33m\u001b[0m\u001b[0m\n\u001b[0m\u001b[0;32m     73\u001b[0m             \u001b[1;32mexcept\u001b[0m \u001b[0mTypeError\u001b[0m\u001b[1;33m:\u001b[0m\u001b[1;33m\u001b[0m\u001b[1;33m\u001b[0m\u001b[0m\n\u001b[0;32m     74\u001b[0m                 \u001b[0mretval\u001b[0m \u001b[1;33m=\u001b[0m \u001b[0mfunc\u001b[0m\u001b[1;33m(\u001b[0m\u001b[1;33m*\u001b[0m\u001b[0margs\u001b[0m\u001b[1;33m,\u001b[0m \u001b[1;33m**\u001b[0m\u001b[0mkwargs\u001b[0m\u001b[1;33m)\u001b[0m\u001b[1;33m\u001b[0m\u001b[1;33m\u001b[0m\u001b[0m\n",
      "\u001b[1;32m~\\anaconda3\\lib\\site-packages\\sympy\\core\\add.py\u001b[0m in \u001b[0;36m_eval_derivative\u001b[1;34m(self, s)\u001b[0m\n\u001b[0;32m    496\u001b[0m     \u001b[1;33m@\u001b[0m\u001b[0mcacheit\u001b[0m\u001b[1;33m\u001b[0m\u001b[1;33m\u001b[0m\u001b[0m\n\u001b[0;32m    497\u001b[0m     \u001b[1;32mdef\u001b[0m \u001b[0m_eval_derivative\u001b[0m\u001b[1;33m(\u001b[0m\u001b[0mself\u001b[0m\u001b[1;33m,\u001b[0m \u001b[0ms\u001b[0m\u001b[1;33m)\u001b[0m\u001b[1;33m:\u001b[0m\u001b[1;33m\u001b[0m\u001b[1;33m\u001b[0m\u001b[0m\n\u001b[1;32m--> 498\u001b[1;33m         \u001b[1;32mreturn\u001b[0m \u001b[0mself\u001b[0m\u001b[1;33m.\u001b[0m\u001b[0mfunc\u001b[0m\u001b[1;33m(\u001b[0m\u001b[1;33m*\u001b[0m\u001b[1;33m[\u001b[0m\u001b[0ma\u001b[0m\u001b[1;33m.\u001b[0m\u001b[0mdiff\u001b[0m\u001b[1;33m(\u001b[0m\u001b[0ms\u001b[0m\u001b[1;33m)\u001b[0m \u001b[1;32mfor\u001b[0m \u001b[0ma\u001b[0m \u001b[1;32min\u001b[0m \u001b[0mself\u001b[0m\u001b[1;33m.\u001b[0m\u001b[0margs\u001b[0m\u001b[1;33m]\u001b[0m\u001b[1;33m)\u001b[0m\u001b[1;33m\u001b[0m\u001b[1;33m\u001b[0m\u001b[0m\n\u001b[0m\u001b[0;32m    499\u001b[0m \u001b[1;33m\u001b[0m\u001b[0m\n\u001b[0;32m    500\u001b[0m     \u001b[1;32mdef\u001b[0m \u001b[0m_eval_nseries\u001b[0m\u001b[1;33m(\u001b[0m\u001b[0mself\u001b[0m\u001b[1;33m,\u001b[0m \u001b[0mx\u001b[0m\u001b[1;33m,\u001b[0m \u001b[0mn\u001b[0m\u001b[1;33m,\u001b[0m \u001b[0mlogx\u001b[0m\u001b[1;33m,\u001b[0m \u001b[0mcdir\u001b[0m\u001b[1;33m=\u001b[0m\u001b[1;36m0\u001b[0m\u001b[1;33m)\u001b[0m\u001b[1;33m:\u001b[0m\u001b[1;33m\u001b[0m\u001b[1;33m\u001b[0m\u001b[0m\n",
      "\u001b[1;32m~\\anaconda3\\lib\\site-packages\\sympy\\core\\add.py\u001b[0m in \u001b[0;36m<listcomp>\u001b[1;34m(.0)\u001b[0m\n\u001b[0;32m    496\u001b[0m     \u001b[1;33m@\u001b[0m\u001b[0mcacheit\u001b[0m\u001b[1;33m\u001b[0m\u001b[1;33m\u001b[0m\u001b[0m\n\u001b[0;32m    497\u001b[0m     \u001b[1;32mdef\u001b[0m \u001b[0m_eval_derivative\u001b[0m\u001b[1;33m(\u001b[0m\u001b[0mself\u001b[0m\u001b[1;33m,\u001b[0m \u001b[0ms\u001b[0m\u001b[1;33m)\u001b[0m\u001b[1;33m:\u001b[0m\u001b[1;33m\u001b[0m\u001b[1;33m\u001b[0m\u001b[0m\n\u001b[1;32m--> 498\u001b[1;33m         \u001b[1;32mreturn\u001b[0m \u001b[0mself\u001b[0m\u001b[1;33m.\u001b[0m\u001b[0mfunc\u001b[0m\u001b[1;33m(\u001b[0m\u001b[1;33m*\u001b[0m\u001b[1;33m[\u001b[0m\u001b[0ma\u001b[0m\u001b[1;33m.\u001b[0m\u001b[0mdiff\u001b[0m\u001b[1;33m(\u001b[0m\u001b[0ms\u001b[0m\u001b[1;33m)\u001b[0m \u001b[1;32mfor\u001b[0m \u001b[0ma\u001b[0m \u001b[1;32min\u001b[0m \u001b[0mself\u001b[0m\u001b[1;33m.\u001b[0m\u001b[0margs\u001b[0m\u001b[1;33m]\u001b[0m\u001b[1;33m)\u001b[0m\u001b[1;33m\u001b[0m\u001b[1;33m\u001b[0m\u001b[0m\n\u001b[0m\u001b[0;32m    499\u001b[0m \u001b[1;33m\u001b[0m\u001b[0m\n\u001b[0;32m    500\u001b[0m     \u001b[1;32mdef\u001b[0m \u001b[0m_eval_nseries\u001b[0m\u001b[1;33m(\u001b[0m\u001b[0mself\u001b[0m\u001b[1;33m,\u001b[0m \u001b[0mx\u001b[0m\u001b[1;33m,\u001b[0m \u001b[0mn\u001b[0m\u001b[1;33m,\u001b[0m \u001b[0mlogx\u001b[0m\u001b[1;33m,\u001b[0m \u001b[0mcdir\u001b[0m\u001b[1;33m=\u001b[0m\u001b[1;36m0\u001b[0m\u001b[1;33m)\u001b[0m\u001b[1;33m:\u001b[0m\u001b[1;33m\u001b[0m\u001b[1;33m\u001b[0m\u001b[0m\n",
      "\u001b[1;32m~\\anaconda3\\lib\\site-packages\\sympy\\core\\expr.py\u001b[0m in \u001b[0;36mdiff\u001b[1;34m(self, *symbols, **assumptions)\u001b[0m\n\u001b[0;32m   3500\u001b[0m     \u001b[1;32mdef\u001b[0m \u001b[0mdiff\u001b[0m\u001b[1;33m(\u001b[0m\u001b[0mself\u001b[0m\u001b[1;33m,\u001b[0m \u001b[1;33m*\u001b[0m\u001b[0msymbols\u001b[0m\u001b[1;33m,\u001b[0m \u001b[1;33m**\u001b[0m\u001b[0massumptions\u001b[0m\u001b[1;33m)\u001b[0m\u001b[1;33m:\u001b[0m\u001b[1;33m\u001b[0m\u001b[1;33m\u001b[0m\u001b[0m\n\u001b[0;32m   3501\u001b[0m         \u001b[0massumptions\u001b[0m\u001b[1;33m.\u001b[0m\u001b[0msetdefault\u001b[0m\u001b[1;33m(\u001b[0m\u001b[1;34m\"evaluate\"\u001b[0m\u001b[1;33m,\u001b[0m \u001b[1;32mTrue\u001b[0m\u001b[1;33m)\u001b[0m\u001b[1;33m\u001b[0m\u001b[1;33m\u001b[0m\u001b[0m\n\u001b[1;32m-> 3502\u001b[1;33m         \u001b[1;32mreturn\u001b[0m \u001b[0m_derivative_dispatch\u001b[0m\u001b[1;33m(\u001b[0m\u001b[0mself\u001b[0m\u001b[1;33m,\u001b[0m \u001b[1;33m*\u001b[0m\u001b[0msymbols\u001b[0m\u001b[1;33m,\u001b[0m \u001b[1;33m**\u001b[0m\u001b[0massumptions\u001b[0m\u001b[1;33m)\u001b[0m\u001b[1;33m\u001b[0m\u001b[1;33m\u001b[0m\u001b[0m\n\u001b[0m\u001b[0;32m   3503\u001b[0m \u001b[1;33m\u001b[0m\u001b[0m\n\u001b[0;32m   3504\u001b[0m     \u001b[1;31m###########################################################################\u001b[0m\u001b[1;33m\u001b[0m\u001b[1;33m\u001b[0m\u001b[1;33m\u001b[0m\u001b[0m\n",
      "\u001b[1;32m~\\anaconda3\\lib\\site-packages\\sympy\\core\\function.py\u001b[0m in \u001b[0;36m_derivative_dispatch\u001b[1;34m(expr, *variables, **kwargs)\u001b[0m\n\u001b[0;32m   1945\u001b[0m         \u001b[1;32mfrom\u001b[0m \u001b[0msympy\u001b[0m\u001b[1;33m.\u001b[0m\u001b[0mtensor\u001b[0m\u001b[1;33m.\u001b[0m\u001b[0marray\u001b[0m\u001b[1;33m.\u001b[0m\u001b[0marray_derivatives\u001b[0m \u001b[1;32mimport\u001b[0m \u001b[0mArrayDerivative\u001b[0m\u001b[1;33m\u001b[0m\u001b[1;33m\u001b[0m\u001b[0m\n\u001b[0;32m   1946\u001b[0m         \u001b[1;32mreturn\u001b[0m \u001b[0mArrayDerivative\u001b[0m\u001b[1;33m(\u001b[0m\u001b[0mexpr\u001b[0m\u001b[1;33m,\u001b[0m \u001b[1;33m*\u001b[0m\u001b[0mvariables\u001b[0m\u001b[1;33m,\u001b[0m \u001b[1;33m**\u001b[0m\u001b[0mkwargs\u001b[0m\u001b[1;33m)\u001b[0m\u001b[1;33m\u001b[0m\u001b[1;33m\u001b[0m\u001b[0m\n\u001b[1;32m-> 1947\u001b[1;33m     \u001b[1;32mreturn\u001b[0m \u001b[0mDerivative\u001b[0m\u001b[1;33m(\u001b[0m\u001b[0mexpr\u001b[0m\u001b[1;33m,\u001b[0m \u001b[1;33m*\u001b[0m\u001b[0mvariables\u001b[0m\u001b[1;33m,\u001b[0m \u001b[1;33m**\u001b[0m\u001b[0mkwargs\u001b[0m\u001b[1;33m)\u001b[0m\u001b[1;33m\u001b[0m\u001b[1;33m\u001b[0m\u001b[0m\n\u001b[0m\u001b[0;32m   1948\u001b[0m \u001b[1;33m\u001b[0m\u001b[0m\n\u001b[0;32m   1949\u001b[0m \u001b[1;33m\u001b[0m\u001b[0m\n",
      "\u001b[1;32m~\\anaconda3\\lib\\site-packages\\sympy\\core\\function.py\u001b[0m in \u001b[0;36m__new__\u001b[1;34m(cls, expr, *variables, **kwargs)\u001b[0m\n\u001b[0;32m   1471\u001b[0m                     \u001b[0mexpr\u001b[0m \u001b[1;33m*=\u001b[0m \u001b[0mold_v\u001b[0m\u001b[1;33m.\u001b[0m\u001b[0mdiff\u001b[0m\u001b[1;33m(\u001b[0m\u001b[0mold_v\u001b[0m\u001b[1;33m)\u001b[0m\u001b[1;33m\u001b[0m\u001b[1;33m\u001b[0m\u001b[0m\n\u001b[0;32m   1472\u001b[0m \u001b[1;33m\u001b[0m\u001b[0m\n\u001b[1;32m-> 1473\u001b[1;33m             \u001b[0mobj\u001b[0m \u001b[1;33m=\u001b[0m \u001b[0mcls\u001b[0m\u001b[1;33m.\u001b[0m\u001b[0m_dispatch_eval_derivative_n_times\u001b[0m\u001b[1;33m(\u001b[0m\u001b[0mexpr\u001b[0m\u001b[1;33m,\u001b[0m \u001b[0mv\u001b[0m\u001b[1;33m,\u001b[0m \u001b[0mcount\u001b[0m\u001b[1;33m)\u001b[0m\u001b[1;33m\u001b[0m\u001b[1;33m\u001b[0m\u001b[0m\n\u001b[0m\u001b[0;32m   1474\u001b[0m             \u001b[1;32mif\u001b[0m \u001b[0mobj\u001b[0m \u001b[1;32mis\u001b[0m \u001b[1;32mnot\u001b[0m \u001b[1;32mNone\u001b[0m \u001b[1;32mand\u001b[0m \u001b[0mobj\u001b[0m\u001b[1;33m.\u001b[0m\u001b[0mis_zero\u001b[0m\u001b[1;33m:\u001b[0m\u001b[1;33m\u001b[0m\u001b[1;33m\u001b[0m\u001b[0m\n\u001b[0;32m   1475\u001b[0m                 \u001b[1;32mreturn\u001b[0m \u001b[0mobj\u001b[0m\u001b[1;33m\u001b[0m\u001b[1;33m\u001b[0m\u001b[0m\n",
      "\u001b[1;32m~\\anaconda3\\lib\\site-packages\\sympy\\core\\function.py\u001b[0m in \u001b[0;36m_dispatch_eval_derivative_n_times\u001b[1;34m(cls, expr, v, count)\u001b[0m\n\u001b[0;32m   1934\u001b[0m         \u001b[1;31m# object, the default in `Basic` will call a loop over\u001b[0m\u001b[1;33m\u001b[0m\u001b[1;33m\u001b[0m\u001b[1;33m\u001b[0m\u001b[0m\n\u001b[0;32m   1935\u001b[0m         \u001b[1;31m# `_eval_derivative`:\u001b[0m\u001b[1;33m\u001b[0m\u001b[1;33m\u001b[0m\u001b[1;33m\u001b[0m\u001b[0m\n\u001b[1;32m-> 1936\u001b[1;33m         \u001b[1;32mreturn\u001b[0m \u001b[0mexpr\u001b[0m\u001b[1;33m.\u001b[0m\u001b[0m_eval_derivative_n_times\u001b[0m\u001b[1;33m(\u001b[0m\u001b[0mv\u001b[0m\u001b[1;33m,\u001b[0m \u001b[0mcount\u001b[0m\u001b[1;33m)\u001b[0m\u001b[1;33m\u001b[0m\u001b[1;33m\u001b[0m\u001b[0m\n\u001b[0m\u001b[0;32m   1937\u001b[0m \u001b[1;33m\u001b[0m\u001b[0m\n\u001b[0;32m   1938\u001b[0m \u001b[1;33m\u001b[0m\u001b[0m\n",
      "\u001b[1;32m~\\anaconda3\\lib\\site-packages\\sympy\\core\\cache.py\u001b[0m in \u001b[0;36mwrapper\u001b[1;34m(*args, **kwargs)\u001b[0m\n\u001b[0;32m     70\u001b[0m         \u001b[1;32mdef\u001b[0m \u001b[0mwrapper\u001b[0m\u001b[1;33m(\u001b[0m\u001b[1;33m*\u001b[0m\u001b[0margs\u001b[0m\u001b[1;33m,\u001b[0m \u001b[1;33m**\u001b[0m\u001b[0mkwargs\u001b[0m\u001b[1;33m)\u001b[0m\u001b[1;33m:\u001b[0m\u001b[1;33m\u001b[0m\u001b[1;33m\u001b[0m\u001b[0m\n\u001b[0;32m     71\u001b[0m             \u001b[1;32mtry\u001b[0m\u001b[1;33m:\u001b[0m\u001b[1;33m\u001b[0m\u001b[1;33m\u001b[0m\u001b[0m\n\u001b[1;32m---> 72\u001b[1;33m                 \u001b[0mretval\u001b[0m \u001b[1;33m=\u001b[0m \u001b[0mcfunc\u001b[0m\u001b[1;33m(\u001b[0m\u001b[1;33m*\u001b[0m\u001b[0margs\u001b[0m\u001b[1;33m,\u001b[0m \u001b[1;33m**\u001b[0m\u001b[0mkwargs\u001b[0m\u001b[1;33m)\u001b[0m\u001b[1;33m\u001b[0m\u001b[1;33m\u001b[0m\u001b[0m\n\u001b[0m\u001b[0;32m     73\u001b[0m             \u001b[1;32mexcept\u001b[0m \u001b[0mTypeError\u001b[0m\u001b[1;33m:\u001b[0m\u001b[1;33m\u001b[0m\u001b[1;33m\u001b[0m\u001b[0m\n\u001b[0;32m     74\u001b[0m                 \u001b[0mretval\u001b[0m \u001b[1;33m=\u001b[0m \u001b[0mfunc\u001b[0m\u001b[1;33m(\u001b[0m\u001b[1;33m*\u001b[0m\u001b[0margs\u001b[0m\u001b[1;33m,\u001b[0m \u001b[1;33m**\u001b[0m\u001b[0mkwargs\u001b[0m\u001b[1;33m)\u001b[0m\u001b[1;33m\u001b[0m\u001b[1;33m\u001b[0m\u001b[0m\n",
      "\u001b[1;32m~\\anaconda3\\lib\\site-packages\\sympy\\core\\mul.py\u001b[0m in \u001b[0;36m_eval_derivative_n_times\u001b[1;34m(self, s, n)\u001b[0m\n\u001b[0;32m   1000\u001b[0m                 \u001b[0mp\u001b[0m \u001b[1;33m=\u001b[0m \u001b[0mprod\u001b[0m\u001b[1;33m(\u001b[0m\u001b[1;33m[\u001b[0m\u001b[0marg\u001b[0m\u001b[1;33m.\u001b[0m\u001b[0mdiff\u001b[0m\u001b[1;33m(\u001b[0m\u001b[1;33m(\u001b[0m\u001b[0ms\u001b[0m\u001b[1;33m,\u001b[0m \u001b[0mk\u001b[0m\u001b[1;33m)\u001b[0m\u001b[1;33m)\u001b[0m \u001b[1;32mfor\u001b[0m \u001b[0mk\u001b[0m\u001b[1;33m,\u001b[0m \u001b[0marg\u001b[0m \u001b[1;32min\u001b[0m \u001b[0mzip\u001b[0m\u001b[1;33m(\u001b[0m\u001b[0mkvals\u001b[0m\u001b[1;33m,\u001b[0m \u001b[0margs\u001b[0m\u001b[1;33m)\u001b[0m\u001b[1;33m]\u001b[0m\u001b[1;33m)\u001b[0m\u001b[1;33m\u001b[0m\u001b[1;33m\u001b[0m\u001b[0m\n\u001b[0;32m   1001\u001b[0m                 \u001b[0mterms\u001b[0m\u001b[1;33m.\u001b[0m\u001b[0mappend\u001b[0m\u001b[1;33m(\u001b[0m\u001b[0mc\u001b[0m \u001b[1;33m*\u001b[0m \u001b[0mp\u001b[0m\u001b[1;33m)\u001b[0m\u001b[1;33m\u001b[0m\u001b[1;33m\u001b[0m\u001b[0m\n\u001b[1;32m-> 1002\u001b[1;33m             \u001b[1;32mreturn\u001b[0m \u001b[0mAdd\u001b[0m\u001b[1;33m(\u001b[0m\u001b[1;33m*\u001b[0m\u001b[0mterms\u001b[0m\u001b[1;33m)\u001b[0m\u001b[1;33m\u001b[0m\u001b[1;33m\u001b[0m\u001b[0m\n\u001b[0m\u001b[0;32m   1003\u001b[0m         \u001b[0mkvals\u001b[0m \u001b[1;33m=\u001b[0m \u001b[0msymbols\u001b[0m\u001b[1;33m(\u001b[0m\u001b[1;34m\"k1:%i\"\u001b[0m \u001b[1;33m%\u001b[0m \u001b[0mm\u001b[0m\u001b[1;33m,\u001b[0m \u001b[0mcls\u001b[0m\u001b[1;33m=\u001b[0m\u001b[0mDummy\u001b[0m\u001b[1;33m)\u001b[0m\u001b[1;33m\u001b[0m\u001b[1;33m\u001b[0m\u001b[0m\n\u001b[0;32m   1004\u001b[0m         \u001b[0mklast\u001b[0m \u001b[1;33m=\u001b[0m \u001b[0mn\u001b[0m \u001b[1;33m-\u001b[0m \u001b[0msum\u001b[0m\u001b[1;33m(\u001b[0m\u001b[0mkvals\u001b[0m\u001b[1;33m)\u001b[0m\u001b[1;33m\u001b[0m\u001b[1;33m\u001b[0m\u001b[0m\n",
      "\u001b[1;31mKeyboardInterrupt\u001b[0m: "
     ]
    }
   ],
   "source": [
    "var = ((x-μ)**2*ϕ).integrate(x)"
   ]
  },
  {
   "cell_type": "code",
   "execution_count": 23,
   "id": "2f99196a-571d-4703-ae0b-1f91d38dbee9",
   "metadata": {},
   "outputs": [
    {
     "data": {
      "text/latex": [
       "$\\displaystyle - 0.398942280401433 x e^{- \\frac{x^{2}}{2}} + 0.5 \\operatorname{erf}{\\left(\\frac{\\sqrt{2} x}{2} \\right)}$"
      ],
      "text/plain": [
       "-0.398942280401433*x*exp(-x**2/2) + 0.5*erf(sqrt(2)*x/2)"
      ]
     },
     "execution_count": 23,
     "metadata": {},
     "output_type": "execute_result"
    }
   ],
   "source": [
    "var.evalf()"
   ]
  },
  {
   "cell_type": "code",
   "execution_count": 37,
   "id": "90e29512-b92b-44d7-9874-04b7dfd80028",
   "metadata": {},
   "outputs": [
    {
     "data": {
      "text/latex": [
       "$\\displaystyle \\frac{\\left(- \\sqrt{2} x^{2} - 2 \\sqrt{2}\\right) e^{- \\frac{x^{2}}{2}}}{2 \\sqrt{\\pi}}$"
      ],
      "text/plain": [
       "(-sqrt(2)*x**2 - 2*sqrt(2))*exp(-x**2/2)/(2*sqrt(pi))"
      ]
     },
     "execution_count": 37,
     "metadata": {},
     "output_type": "execute_result"
    }
   ],
   "source": [
    "f = (((x-0)/1)**3 * ϕ).integrate(x)\n",
    "#integrate(x**3*ϕ, x)\n",
    "f"
   ]
  },
  {
   "cell_type": "code",
   "execution_count": 42,
   "id": "828c20e7-da3d-4135-98bf-644f4323cc2d",
   "metadata": {},
   "outputs": [
    {
     "data": {
      "text/latex": [
       "$\\displaystyle \\frac{\\left(- \\sqrt{2} x^{3} - 3 \\sqrt{2} x + 3 \\sqrt{\\pi} e^{\\frac{x^{2}}{2}} \\operatorname{erf}{\\left(\\frac{\\sqrt{2} x}{2} \\right)}\\right) e^{- \\frac{x^{2}}{2}}}{2 \\sqrt{\\pi}}$"
      ],
      "text/plain": [
       "(-sqrt(2)*x**3 - 3*sqrt(2)*x + 3*sqrt(pi)*exp(x**2/2)*erf(sqrt(2)*x/2))*exp(-x**2/2)/(2*sqrt(pi))"
      ]
     },
     "execution_count": 42,
     "metadata": {},
     "output_type": "execute_result"
    }
   ],
   "source": [
    "(x**4*ϕ).integrate(x).simplify()"
   ]
  },
  {
   "cell_type": "code",
   "execution_count": 107,
   "id": "36b95617-2c63-43ff-bbc3-4747c1bc6b4b",
   "metadata": {},
   "outputs": [
    {
     "ename": "ValueError",
     "evalue": "Invalid limits given: (array([-3.        , -2.99399399, -2.98798799, -2.98198198, -2.97597598,\n       -2.96996997, -2.96396396, -2.95795796, -2.95195195, -2.94594595,\n       -2.93993994, -2.93393393, -2.92792793, -2.92192192, -2.91591592,\n       -2.90990991, -2.9039039 , -2.8978979 , -2.89189189, -2.88588589,\n       -2.87987988, -2.87387387, -2.86786787, -2.86186186, -2.85585586,\n       -2.84984985, -2.84384384, -2.83783784, -2.83183183, -2.82582583,\n       -2.81981982, -2.81381381, -2.80780781, -2.8018018 , -2.7957958 ,\n       -2.78978979, -2.78378378, -2.77777778, -2.77177177, -2.76576577,\n       -2.75975976, -2.75375375, -2.74774775, -2.74174174, -2.73573574,\n       -2.72972973, -2.72372372, -2.71771772, -2.71171171, -2.70570571,\n       -2.6996997 , -2.69369369, -2.68768769, -2.68168168, -2.67567568,\n       -2.66966967, -2.66366366, -2.65765766, -2.65165165, -2.64564565,\n       -2.63963964, -2.63363363, -2.62762763, -2.62162162, -2.61561562,\n       -2.60960961, -2.6036036 , -2.5975976 , -2.59159159, -2.58558559,\n       -2.57957958, -2.57357357, -2.56756757, -2.56156156, -2.55555556,\n       -2.54954955, -2.54354354, -2.53753754, -2.53153153, -2.52552553,\n       -2.51951952, -2.51351351, -2.50750751, -2.5015015 , -2.4954955 ,\n       -2.48948949, -2.48348348, -2.47747748, -2.47147147, -2.46546547,\n       -2.45945946, -2.45345345, -2.44744745, -2.44144144, -2.43543544,\n       -2.42942943, -2.42342342, -2.41741742, -2.41141141, -2.40540541,\n       -2.3993994 , -2.39339339, -2.38738739, -2.38138138, -2.37537538,\n       -2.36936937, -2.36336336, -2.35735736, -2.35135135, -2.34534535,\n       -2.33933934, -2.33333333, -2.32732733, -2.32132132, -2.31531532,\n       -2.30930931, -2.3033033 , -2.2972973 , -2.29129129, -2.28528529,\n       -2.27927928, -2.27327327, -2.26726727, -2.26126126, -2.25525526,\n       -2.24924925, -2.24324324, -2.23723724, -2.23123123, -2.22522523,\n       -2.21921922, -2.21321321, -2.20720721, -2.2012012 , -2.1951952 ,\n       -2.18918919, -2.18318318, -2.17717718, -2.17117117, -2.16516517,\n       -2.15915916, -2.15315315, -2.14714715, -2.14114114, -2.13513514,\n       -2.12912913, -2.12312312, -2.11711712, -2.11111111, -2.10510511,\n       -2.0990991 , -2.09309309, -2.08708709, -2.08108108, -2.07507508,\n       -2.06906907, -2.06306306, -2.05705706, -2.05105105, -2.04504505,\n       -2.03903904, -2.03303303, -2.02702703, -2.02102102, -2.01501502,\n       -2.00900901, -2.003003  , -1.996997  , -1.99099099, -1.98498498,\n       -1.97897898, -1.97297297, -1.96696697, -1.96096096, -1.95495495,\n       -1.94894895, -1.94294294, -1.93693694, -1.93093093, -1.92492492,\n       -1.91891892, -1.91291291, -1.90690691, -1.9009009 , -1.89489489,\n       -1.88888889, -1.88288288, -1.87687688, -1.87087087, -1.86486486,\n       -1.85885886, -1.85285285, -1.84684685, -1.84084084, -1.83483483,\n       -1.82882883, -1.82282282, -1.81681682, -1.81081081, -1.8048048 ,\n       -1.7987988 , -1.79279279, -1.78678679, -1.78078078, -1.77477477,\n       -1.76876877, -1.76276276, -1.75675676, -1.75075075, -1.74474474,\n       -1.73873874, -1.73273273, -1.72672673, -1.72072072, -1.71471471,\n       -1.70870871, -1.7027027 , -1.6966967 , -1.69069069, -1.68468468,\n       -1.67867868, -1.67267267, -1.66666667, -1.66066066, -1.65465465,\n       -1.64864865, -1.64264264, -1.63663664, -1.63063063, -1.62462462,\n       -1.61861862, -1.61261261, -1.60660661, -1.6006006 , -1.59459459,\n       -1.58858859, -1.58258258, -1.57657658, -1.57057057, -1.56456456,\n       -1.55855856, -1.55255255, -1.54654655, -1.54054054, -1.53453453,\n       -1.52852853, -1.52252252, -1.51651652, -1.51051051, -1.5045045 ,\n       -1.4984985 , -1.49249249, -1.48648649, -1.48048048, -1.47447447,\n       -1.46846847, -1.46246246, -1.45645646, -1.45045045, -1.44444444,\n       -1.43843844, -1.43243243, -1.42642643, -1.42042042, -1.41441441,\n       -1.40840841, -1.4024024 , -1.3963964 , -1.39039039, -1.38438438,\n       -1.37837838, -1.37237237, -1.36636637, -1.36036036, -1.35435435,\n       -1.34834835, -1.34234234, -1.33633634, -1.33033033, -1.32432432,\n       -1.31831832, -1.31231231, -1.30630631, -1.3003003 , -1.29429429,\n       -1.28828829, -1.28228228, -1.27627628, -1.27027027, -1.26426426,\n       -1.25825826, -1.25225225, -1.24624625, -1.24024024, -1.23423423,\n       -1.22822823, -1.22222222, -1.21621622, -1.21021021, -1.2042042 ,\n       -1.1981982 , -1.19219219, -1.18618619, -1.18018018, -1.17417417,\n       -1.16816817, -1.16216216, -1.15615616, -1.15015015, -1.14414414,\n       -1.13813814, -1.13213213, -1.12612613, -1.12012012, -1.11411411,\n       -1.10810811, -1.1021021 , -1.0960961 , -1.09009009, -1.08408408,\n       -1.07807808, -1.07207207, -1.06606607, -1.06006006, -1.05405405,\n       -1.04804805, -1.04204204, -1.03603604, -1.03003003, -1.02402402,\n       -1.01801802, -1.01201201, -1.00600601, -1.        , -0.99399399,\n       -0.98798799, -0.98198198, -0.97597598, -0.96996997, -0.96396396,\n       -0.95795796, -0.95195195, -0.94594595, -0.93993994, -0.93393393,\n       -0.92792793, -0.92192192, -0.91591592, -0.90990991, -0.9039039 ,\n       -0.8978979 , -0.89189189, -0.88588589, -0.87987988, -0.87387387,\n       -0.86786787, -0.86186186, -0.85585586, -0.84984985, -0.84384384,\n       -0.83783784, -0.83183183, -0.82582583, -0.81981982, -0.81381381,\n       -0.80780781, -0.8018018 , -0.7957958 , -0.78978979, -0.78378378,\n       -0.77777778, -0.77177177, -0.76576577, -0.75975976, -0.75375375,\n       -0.74774775, -0.74174174, -0.73573574, -0.72972973, -0.72372372,\n       -0.71771772, -0.71171171, -0.70570571, -0.6996997 , -0.69369369,\n       -0.68768769, -0.68168168, -0.67567568, -0.66966967, -0.66366366,\n       -0.65765766, -0.65165165, -0.64564565, -0.63963964, -0.63363363,\n       -0.62762763, -0.62162162, -0.61561562, -0.60960961, -0.6036036 ,\n       -0.5975976 , -0.59159159, -0.58558559, -0.57957958, -0.57357357,\n       -0.56756757, -0.56156156, -0.55555556, -0.54954955, -0.54354354,\n       -0.53753754, -0.53153153, -0.52552553, -0.51951952, -0.51351351,\n       -0.50750751, -0.5015015 , -0.4954955 , -0.48948949, -0.48348348,\n       -0.47747748, -0.47147147, -0.46546547, -0.45945946, -0.45345345,\n       -0.44744745, -0.44144144, -0.43543544, -0.42942943, -0.42342342,\n       -0.41741742, -0.41141141, -0.40540541, -0.3993994 , -0.39339339,\n       -0.38738739, -0.38138138, -0.37537538, -0.36936937, -0.36336336,\n       -0.35735736, -0.35135135, -0.34534535, -0.33933934, -0.33333333,\n       -0.32732733, -0.32132132, -0.31531532, -0.30930931, -0.3033033 ,\n       -0.2972973 , -0.29129129, -0.28528529, -0.27927928, -0.27327327,\n       -0.26726727, -0.26126126, -0.25525526, -0.24924925, -0.24324324,\n       -0.23723724, -0.23123123, -0.22522523, -0.21921922, -0.21321321,\n       -0.20720721, -0.2012012 , -0.1951952 , -0.18918919, -0.18318318,\n       -0.17717718, -0.17117117, -0.16516517, -0.15915916, -0.15315315,\n       -0.14714715, -0.14114114, -0.13513514, -0.12912913, -0.12312312,\n       -0.11711712, -0.11111111, -0.10510511, -0.0990991 , -0.09309309,\n       -0.08708709, -0.08108108, -0.07507508, -0.06906907, -0.06306306,\n       -0.05705706, -0.05105105, -0.04504505, -0.03903904, -0.03303303,\n       -0.02702703, -0.02102102, -0.01501502, -0.00900901, -0.003003  ,\n        0.003003  ,  0.00900901,  0.01501502,  0.02102102,  0.02702703,\n        0.03303303,  0.03903904,  0.04504505,  0.05105105,  0.05705706,\n        0.06306306,  0.06906907,  0.07507508,  0.08108108,  0.08708709,\n        0.09309309,  0.0990991 ,  0.10510511,  0.11111111,  0.11711712,\n        0.12312312,  0.12912913,  0.13513514,  0.14114114,  0.14714715,\n        0.15315315,  0.15915916,  0.16516517,  0.17117117,  0.17717718,\n        0.18318318,  0.18918919,  0.1951952 ,  0.2012012 ,  0.20720721,\n        0.21321321,  0.21921922,  0.22522523,  0.23123123,  0.23723724,\n        0.24324324,  0.24924925,  0.25525526,  0.26126126,  0.26726727,\n        0.27327327,  0.27927928,  0.28528529,  0.29129129,  0.2972973 ,\n        0.3033033 ,  0.30930931,  0.31531532,  0.32132132,  0.32732733,\n        0.33333333,  0.33933934,  0.34534535,  0.35135135,  0.35735736,\n        0.36336336,  0.36936937,  0.37537538,  0.38138138,  0.38738739,\n        0.39339339,  0.3993994 ,  0.40540541,  0.41141141,  0.41741742,\n        0.42342342,  0.42942943,  0.43543544,  0.44144144,  0.44744745,\n        0.45345345,  0.45945946,  0.46546547,  0.47147147,  0.47747748,\n        0.48348348,  0.48948949,  0.4954955 ,  0.5015015 ,  0.50750751,\n        0.51351351,  0.51951952,  0.52552553,  0.53153153,  0.53753754,\n        0.54354354,  0.54954955,  0.55555556,  0.56156156,  0.56756757,\n        0.57357357,  0.57957958,  0.58558559,  0.59159159,  0.5975976 ,\n        0.6036036 ,  0.60960961,  0.61561562,  0.62162162,  0.62762763,\n        0.63363363,  0.63963964,  0.64564565,  0.65165165,  0.65765766,\n        0.66366366,  0.66966967,  0.67567568,  0.68168168,  0.68768769,\n        0.69369369,  0.6996997 ,  0.70570571,  0.71171171,  0.71771772,\n        0.72372372,  0.72972973,  0.73573574,  0.74174174,  0.74774775,\n        0.75375375,  0.75975976,  0.76576577,  0.77177177,  0.77777778,\n        0.78378378,  0.78978979,  0.7957958 ,  0.8018018 ,  0.80780781,\n        0.81381381,  0.81981982,  0.82582583,  0.83183183,  0.83783784,\n        0.84384384,  0.84984985,  0.85585586,  0.86186186,  0.86786787,\n        0.87387387,  0.87987988,  0.88588589,  0.89189189,  0.8978979 ,\n        0.9039039 ,  0.90990991,  0.91591592,  0.92192192,  0.92792793,\n        0.93393393,  0.93993994,  0.94594595,  0.95195195,  0.95795796,\n        0.96396396,  0.96996997,  0.97597598,  0.98198198,  0.98798799,\n        0.99399399,  1.        ,  1.00600601,  1.01201201,  1.01801802,\n        1.02402402,  1.03003003,  1.03603604,  1.04204204,  1.04804805,\n        1.05405405,  1.06006006,  1.06606607,  1.07207207,  1.07807808,\n        1.08408408,  1.09009009,  1.0960961 ,  1.1021021 ,  1.10810811,\n        1.11411411,  1.12012012,  1.12612613,  1.13213213,  1.13813814,\n        1.14414414,  1.15015015,  1.15615616,  1.16216216,  1.16816817,\n        1.17417417,  1.18018018,  1.18618619,  1.19219219,  1.1981982 ,\n        1.2042042 ,  1.21021021,  1.21621622,  1.22222222,  1.22822823,\n        1.23423423,  1.24024024,  1.24624625,  1.25225225,  1.25825826,\n        1.26426426,  1.27027027,  1.27627628,  1.28228228,  1.28828829,\n        1.29429429,  1.3003003 ,  1.30630631,  1.31231231,  1.31831832,\n        1.32432432,  1.33033033,  1.33633634,  1.34234234,  1.34834835,\n        1.35435435,  1.36036036,  1.36636637,  1.37237237,  1.37837838,\n        1.38438438,  1.39039039,  1.3963964 ,  1.4024024 ,  1.40840841,\n        1.41441441,  1.42042042,  1.42642643,  1.43243243,  1.43843844,\n        1.44444444,  1.45045045,  1.45645646,  1.46246246,  1.46846847,\n        1.47447447,  1.48048048,  1.48648649,  1.49249249,  1.4984985 ,\n        1.5045045 ,  1.51051051,  1.51651652,  1.52252252,  1.52852853,\n        1.53453453,  1.54054054,  1.54654655,  1.55255255,  1.55855856,\n        1.56456456,  1.57057057,  1.57657658,  1.58258258,  1.58858859,\n        1.59459459,  1.6006006 ,  1.60660661,  1.61261261,  1.61861862,\n        1.62462462,  1.63063063,  1.63663664,  1.64264264,  1.64864865,\n        1.65465465,  1.66066066,  1.66666667,  1.67267267,  1.67867868,\n        1.68468468,  1.69069069,  1.6966967 ,  1.7027027 ,  1.70870871,\n        1.71471471,  1.72072072,  1.72672673,  1.73273273,  1.73873874,\n        1.74474474,  1.75075075,  1.75675676,  1.76276276,  1.76876877,\n        1.77477477,  1.78078078,  1.78678679,  1.79279279,  1.7987988 ,\n        1.8048048 ,  1.81081081,  1.81681682,  1.82282282,  1.82882883,\n        1.83483483,  1.84084084,  1.84684685,  1.85285285,  1.85885886,\n        1.86486486,  1.87087087,  1.87687688,  1.88288288,  1.88888889,\n        1.89489489,  1.9009009 ,  1.90690691,  1.91291291,  1.91891892,\n        1.92492492,  1.93093093,  1.93693694,  1.94294294,  1.94894895,\n        1.95495495,  1.96096096,  1.96696697,  1.97297297,  1.97897898,\n        1.98498498,  1.99099099,  1.996997  ,  2.003003  ,  2.00900901,\n        2.01501502,  2.02102102,  2.02702703,  2.03303303,  2.03903904,\n        2.04504505,  2.05105105,  2.05705706,  2.06306306,  2.06906907,\n        2.07507508,  2.08108108,  2.08708709,  2.09309309,  2.0990991 ,\n        2.10510511,  2.11111111,  2.11711712,  2.12312312,  2.12912913,\n        2.13513514,  2.14114114,  2.14714715,  2.15315315,  2.15915916,\n        2.16516517,  2.17117117,  2.17717718,  2.18318318,  2.18918919,\n        2.1951952 ,  2.2012012 ,  2.20720721,  2.21321321,  2.21921922,\n        2.22522523,  2.23123123,  2.23723724,  2.24324324,  2.24924925,\n        2.25525526,  2.26126126,  2.26726727,  2.27327327,  2.27927928,\n        2.28528529,  2.29129129,  2.2972973 ,  2.3033033 ,  2.30930931,\n        2.31531532,  2.32132132,  2.32732733,  2.33333333,  2.33933934,\n        2.34534535,  2.35135135,  2.35735736,  2.36336336,  2.36936937,\n        2.37537538,  2.38138138,  2.38738739,  2.39339339,  2.3993994 ,\n        2.40540541,  2.41141141,  2.41741742,  2.42342342,  2.42942943,\n        2.43543544,  2.44144144,  2.44744745,  2.45345345,  2.45945946,\n        2.46546547,  2.47147147,  2.47747748,  2.48348348,  2.48948949,\n        2.4954955 ,  2.5015015 ,  2.50750751,  2.51351351,  2.51951952,\n        2.52552553,  2.53153153,  2.53753754,  2.54354354,  2.54954955,\n        2.55555556,  2.56156156,  2.56756757,  2.57357357,  2.57957958,\n        2.58558559,  2.59159159,  2.5975976 ,  2.6036036 ,  2.60960961,\n        2.61561562,  2.62162162,  2.62762763,  2.63363363,  2.63963964,\n        2.64564565,  2.65165165,  2.65765766,  2.66366366,  2.66966967,\n        2.67567568,  2.68168168,  2.68768769,  2.69369369,  2.6996997 ,\n        2.70570571,  2.71171171,  2.71771772,  2.72372372,  2.72972973,\n        2.73573574,  2.74174174,  2.74774775,  2.75375375,  2.75975976,\n        2.76576577,  2.77177177,  2.77777778,  2.78378378,  2.78978979,\n        2.7957958 ,  2.8018018 ,  2.80780781,  2.81381381,  2.81981982,\n        2.82582583,  2.83183183,  2.83783784,  2.84384384,  2.84984985,\n        2.85585586,  2.86186186,  2.86786787,  2.87387387,  2.87987988,\n        2.88588589,  2.89189189,  2.8978979 ,  2.9039039 ,  2.90990991,\n        2.91591592,  2.92192192,  2.92792793,  2.93393393,  2.93993994,\n        2.94594595,  2.95195195,  2.95795796,  2.96396396,  2.96996997,\n        2.97597598,  2.98198198,  2.98798799,  2.99399399,  3.        ]),)",
     "output_type": "error",
     "traceback": [
      "\u001b[1;31m---------------------------------------------------------------------------\u001b[0m",
      "\u001b[1;31mValueError\u001b[0m                                Traceback (most recent call last)",
      "\u001b[1;32m<ipython-input-107-1019cbaf5cf7>\u001b[0m in \u001b[0;36m<module>\u001b[1;34m\u001b[0m\n\u001b[1;32m----> 1\u001b[1;33m \u001b[0mentropy\u001b[0m \u001b[1;33m=\u001b[0m \u001b[1;33m(\u001b[0m\u001b[0msp\u001b[0m\u001b[1;33m.\u001b[0m\u001b[0mlog\u001b[0m\u001b[1;33m(\u001b[0m\u001b[1;36m1\u001b[0m\u001b[1;33m/\u001b[0m\u001b[0mϕ\u001b[0m\u001b[1;33m,\u001b[0m \u001b[0msp\u001b[0m\u001b[1;33m.\u001b[0m\u001b[0mE\u001b[0m\u001b[1;33m)\u001b[0m\u001b[1;33m*\u001b[0m\u001b[0mϕ\u001b[0m\u001b[1;33m)\u001b[0m\u001b[1;33m.\u001b[0m\u001b[0mintegrate\u001b[0m\u001b[1;33m(\u001b[0m\u001b[0mx\u001b[0m\u001b[1;33m)\u001b[0m\u001b[1;33m\u001b[0m\u001b[1;33m\u001b[0m\u001b[0m\n\u001b[0m",
      "\u001b[1;32m~\\anaconda3\\lib\\site-packages\\sympy\\core\\expr.py\u001b[0m in \u001b[0;36mintegrate\u001b[1;34m(self, *args, **kwargs)\u001b[0m\n\u001b[0;32m   3640\u001b[0m         \u001b[1;34m\"\"\"See the integrate function in sympy.integrals\"\"\"\u001b[0m\u001b[1;33m\u001b[0m\u001b[1;33m\u001b[0m\u001b[0m\n\u001b[0;32m   3641\u001b[0m         \u001b[1;32mfrom\u001b[0m \u001b[0msympy\u001b[0m\u001b[1;33m.\u001b[0m\u001b[0mintegrals\u001b[0m \u001b[1;32mimport\u001b[0m \u001b[0mintegrate\u001b[0m\u001b[1;33m\u001b[0m\u001b[1;33m\u001b[0m\u001b[0m\n\u001b[1;32m-> 3642\u001b[1;33m         \u001b[1;32mreturn\u001b[0m \u001b[0mintegrate\u001b[0m\u001b[1;33m(\u001b[0m\u001b[0mself\u001b[0m\u001b[1;33m,\u001b[0m \u001b[1;33m*\u001b[0m\u001b[0margs\u001b[0m\u001b[1;33m,\u001b[0m \u001b[1;33m**\u001b[0m\u001b[0mkwargs\u001b[0m\u001b[1;33m)\u001b[0m\u001b[1;33m\u001b[0m\u001b[1;33m\u001b[0m\u001b[0m\n\u001b[0m\u001b[0;32m   3643\u001b[0m \u001b[1;33m\u001b[0m\u001b[0m\n\u001b[0;32m   3644\u001b[0m     \u001b[1;32mdef\u001b[0m \u001b[0mnsimplify\u001b[0m\u001b[1;33m(\u001b[0m\u001b[0mself\u001b[0m\u001b[1;33m,\u001b[0m \u001b[0mconstants\u001b[0m\u001b[1;33m=\u001b[0m\u001b[1;33m[\u001b[0m\u001b[1;33m]\u001b[0m\u001b[1;33m,\u001b[0m \u001b[0mtolerance\u001b[0m\u001b[1;33m=\u001b[0m\u001b[1;32mNone\u001b[0m\u001b[1;33m,\u001b[0m \u001b[0mfull\u001b[0m\u001b[1;33m=\u001b[0m\u001b[1;32mFalse\u001b[0m\u001b[1;33m)\u001b[0m\u001b[1;33m:\u001b[0m\u001b[1;33m\u001b[0m\u001b[1;33m\u001b[0m\u001b[0m\n",
      "\u001b[1;32m~\\anaconda3\\lib\\site-packages\\sympy\\integrals\\integrals.py\u001b[0m in \u001b[0;36mintegrate\u001b[1;34m(meijerg, conds, risch, heurisch, manual, *args, **kwargs)\u001b[0m\n\u001b[0;32m   1566\u001b[0m         \u001b[1;34m'manual'\u001b[0m\u001b[1;33m:\u001b[0m \u001b[0mmanual\u001b[0m\u001b[1;33m\u001b[0m\u001b[1;33m\u001b[0m\u001b[0m\n\u001b[0;32m   1567\u001b[0m         }\n\u001b[1;32m-> 1568\u001b[1;33m     \u001b[0mintegral\u001b[0m \u001b[1;33m=\u001b[0m \u001b[0mIntegral\u001b[0m\u001b[1;33m(\u001b[0m\u001b[1;33m*\u001b[0m\u001b[0margs\u001b[0m\u001b[1;33m,\u001b[0m \u001b[1;33m**\u001b[0m\u001b[0mkwargs\u001b[0m\u001b[1;33m)\u001b[0m\u001b[1;33m\u001b[0m\u001b[1;33m\u001b[0m\u001b[0m\n\u001b[0m\u001b[0;32m   1569\u001b[0m \u001b[1;33m\u001b[0m\u001b[0m\n\u001b[0;32m   1570\u001b[0m     \u001b[1;32mif\u001b[0m \u001b[0misinstance\u001b[0m\u001b[1;33m(\u001b[0m\u001b[0mintegral\u001b[0m\u001b[1;33m,\u001b[0m \u001b[0mIntegral\u001b[0m\u001b[1;33m)\u001b[0m\u001b[1;33m:\u001b[0m\u001b[1;33m\u001b[0m\u001b[1;33m\u001b[0m\u001b[0m\n",
      "\u001b[1;32m~\\anaconda3\\lib\\site-packages\\sympy\\integrals\\integrals.py\u001b[0m in \u001b[0;36m__new__\u001b[1;34m(cls, function, *symbols, **assumptions)\u001b[0m\n\u001b[0;32m     89\u001b[0m                 useinstead=\"the as_expr or integrate methods of Poly\").warn()\n\u001b[0;32m     90\u001b[0m \u001b[1;33m\u001b[0m\u001b[0m\n\u001b[1;32m---> 91\u001b[1;33m         \u001b[0mobj\u001b[0m \u001b[1;33m=\u001b[0m \u001b[0mAddWithLimits\u001b[0m\u001b[1;33m.\u001b[0m\u001b[0m__new__\u001b[0m\u001b[1;33m(\u001b[0m\u001b[0mcls\u001b[0m\u001b[1;33m,\u001b[0m \u001b[0mfunction\u001b[0m\u001b[1;33m,\u001b[0m \u001b[1;33m*\u001b[0m\u001b[0msymbols\u001b[0m\u001b[1;33m,\u001b[0m \u001b[1;33m**\u001b[0m\u001b[0massumptions\u001b[0m\u001b[1;33m)\u001b[0m\u001b[1;33m\u001b[0m\u001b[1;33m\u001b[0m\u001b[0m\n\u001b[0m\u001b[0;32m     92\u001b[0m         \u001b[1;32mreturn\u001b[0m \u001b[0mobj\u001b[0m\u001b[1;33m\u001b[0m\u001b[1;33m\u001b[0m\u001b[0m\n\u001b[0;32m     93\u001b[0m \u001b[1;33m\u001b[0m\u001b[0m\n",
      "\u001b[1;32m~\\anaconda3\\lib\\site-packages\\sympy\\concrete\\expr_with_limits.py\u001b[0m in \u001b[0;36m__new__\u001b[1;34m(cls, function, *symbols, **assumptions)\u001b[0m\n\u001b[0;32m    496\u001b[0m \u001b[1;33m\u001b[0m\u001b[0m\n\u001b[0;32m    497\u001b[0m     \u001b[1;32mdef\u001b[0m \u001b[0m__new__\u001b[0m\u001b[1;33m(\u001b[0m\u001b[0mcls\u001b[0m\u001b[1;33m,\u001b[0m \u001b[0mfunction\u001b[0m\u001b[1;33m,\u001b[0m \u001b[1;33m*\u001b[0m\u001b[0msymbols\u001b[0m\u001b[1;33m,\u001b[0m \u001b[1;33m**\u001b[0m\u001b[0massumptions\u001b[0m\u001b[1;33m)\u001b[0m\u001b[1;33m:\u001b[0m\u001b[1;33m\u001b[0m\u001b[1;33m\u001b[0m\u001b[0m\n\u001b[1;32m--> 498\u001b[1;33m         \u001b[0mpre\u001b[0m \u001b[1;33m=\u001b[0m \u001b[0m_common_new\u001b[0m\u001b[1;33m(\u001b[0m\u001b[0mcls\u001b[0m\u001b[1;33m,\u001b[0m \u001b[0mfunction\u001b[0m\u001b[1;33m,\u001b[0m \u001b[1;33m*\u001b[0m\u001b[0msymbols\u001b[0m\u001b[1;33m,\u001b[0m \u001b[1;33m**\u001b[0m\u001b[0massumptions\u001b[0m\u001b[1;33m)\u001b[0m\u001b[1;33m\u001b[0m\u001b[1;33m\u001b[0m\u001b[0m\n\u001b[0m\u001b[0;32m    499\u001b[0m         \u001b[1;32mif\u001b[0m \u001b[0mtype\u001b[0m\u001b[1;33m(\u001b[0m\u001b[0mpre\u001b[0m\u001b[1;33m)\u001b[0m \u001b[1;32mis\u001b[0m \u001b[0mtuple\u001b[0m\u001b[1;33m:\u001b[0m\u001b[1;33m\u001b[0m\u001b[1;33m\u001b[0m\u001b[0m\n\u001b[0;32m    500\u001b[0m             \u001b[0mfunction\u001b[0m\u001b[1;33m,\u001b[0m \u001b[0mlimits\u001b[0m\u001b[1;33m,\u001b[0m \u001b[0morientation\u001b[0m \u001b[1;33m=\u001b[0m \u001b[0mpre\u001b[0m\u001b[1;33m\u001b[0m\u001b[1;33m\u001b[0m\u001b[0m\n",
      "\u001b[1;32m~\\anaconda3\\lib\\site-packages\\sympy\\concrete\\expr_with_limits.py\u001b[0m in \u001b[0;36m_common_new\u001b[1;34m(cls, function, *symbols, **assumptions)\u001b[0m\n\u001b[0;32m     46\u001b[0m \u001b[1;33m\u001b[0m\u001b[0m\n\u001b[0;32m     47\u001b[0m     \u001b[1;32mif\u001b[0m \u001b[0msymbols\u001b[0m\u001b[1;33m:\u001b[0m\u001b[1;33m\u001b[0m\u001b[1;33m\u001b[0m\u001b[0m\n\u001b[1;32m---> 48\u001b[1;33m         \u001b[0mlimits\u001b[0m\u001b[1;33m,\u001b[0m \u001b[0morientation\u001b[0m \u001b[1;33m=\u001b[0m \u001b[0m_process_limits\u001b[0m\u001b[1;33m(\u001b[0m\u001b[1;33m*\u001b[0m\u001b[0msymbols\u001b[0m\u001b[1;33m)\u001b[0m\u001b[1;33m\u001b[0m\u001b[1;33m\u001b[0m\u001b[0m\n\u001b[0m\u001b[0;32m     49\u001b[0m         \u001b[1;32mfor\u001b[0m \u001b[0mi\u001b[0m\u001b[1;33m,\u001b[0m \u001b[0mli\u001b[0m \u001b[1;32min\u001b[0m \u001b[0menumerate\u001b[0m\u001b[1;33m(\u001b[0m\u001b[0mlimits\u001b[0m\u001b[1;33m)\u001b[0m\u001b[1;33m:\u001b[0m\u001b[1;33m\u001b[0m\u001b[1;33m\u001b[0m\u001b[0m\n\u001b[0;32m     50\u001b[0m             \u001b[1;32mif\u001b[0m \u001b[0mlen\u001b[0m\u001b[1;33m(\u001b[0m\u001b[0mli\u001b[0m\u001b[1;33m)\u001b[0m \u001b[1;33m==\u001b[0m \u001b[1;36m4\u001b[0m\u001b[1;33m:\u001b[0m\u001b[1;33m\u001b[0m\u001b[1;33m\u001b[0m\u001b[0m\n",
      "\u001b[1;32m~\\anaconda3\\lib\\site-packages\\sympy\\concrete\\expr_with_limits.py\u001b[0m in \u001b[0;36m_process_limits\u001b[1;34m(*symbols)\u001b[0m\n\u001b[0;32m    154\u001b[0m                         \u001b[1;32mcontinue\u001b[0m\u001b[1;33m\u001b[0m\u001b[1;33m\u001b[0m\u001b[0m\n\u001b[0;32m    155\u001b[0m \u001b[1;33m\u001b[0m\u001b[0m\n\u001b[1;32m--> 156\u001b[1;33m         \u001b[1;32mraise\u001b[0m \u001b[0mValueError\u001b[0m\u001b[1;33m(\u001b[0m\u001b[1;34m'Invalid limits given: %s'\u001b[0m \u001b[1;33m%\u001b[0m \u001b[0mstr\u001b[0m\u001b[1;33m(\u001b[0m\u001b[0msymbols\u001b[0m\u001b[1;33m)\u001b[0m\u001b[1;33m)\u001b[0m\u001b[1;33m\u001b[0m\u001b[1;33m\u001b[0m\u001b[0m\n\u001b[0m\u001b[0;32m    157\u001b[0m \u001b[1;33m\u001b[0m\u001b[0m\n\u001b[0;32m    158\u001b[0m     \u001b[1;32mreturn\u001b[0m \u001b[0mlimits\u001b[0m\u001b[1;33m,\u001b[0m \u001b[0morientation\u001b[0m\u001b[1;33m\u001b[0m\u001b[1;33m\u001b[0m\u001b[0m\n",
      "\u001b[1;31mValueError\u001b[0m: Invalid limits given: (array([-3.        , -2.99399399, -2.98798799, -2.98198198, -2.97597598,\n       -2.96996997, -2.96396396, -2.95795796, -2.95195195, -2.94594595,\n       -2.93993994, -2.93393393, -2.92792793, -2.92192192, -2.91591592,\n       -2.90990991, -2.9039039 , -2.8978979 , -2.89189189, -2.88588589,\n       -2.87987988, -2.87387387, -2.86786787, -2.86186186, -2.85585586,\n       -2.84984985, -2.84384384, -2.83783784, -2.83183183, -2.82582583,\n       -2.81981982, -2.81381381, -2.80780781, -2.8018018 , -2.7957958 ,\n       -2.78978979, -2.78378378, -2.77777778, -2.77177177, -2.76576577,\n       -2.75975976, -2.75375375, -2.74774775, -2.74174174, -2.73573574,\n       -2.72972973, -2.72372372, -2.71771772, -2.71171171, -2.70570571,\n       -2.6996997 , -2.69369369, -2.68768769, -2.68168168, -2.67567568,\n       -2.66966967, -2.66366366, -2.65765766, -2.65165165, -2.64564565,\n       -2.63963964, -2.63363363, -2.62762763, -2.62162162, -2.61561562,\n       -2.60960961, -2.6036036 , -2.5975976 , -2.59159159, -2.58558559,\n       -2.57957958, -2.57357357, -2.56756757, -2.56156156, -2.55555556,\n       -2.54954955, -2.54354354, -2.53753754, -2.53153153, -2.52552553,\n       -2.51951952, -2.51351351, -2.50750751, -2.5015015 , -2.4954955 ,\n       -2.48948949, -2.48348348, -2.47747748, -2.47147147, -2.46546547,\n       -2.45945946, -2.45345345, -2.44744745, -2.44144144, -2.43543544,\n       -2.42942943, -2.42342342, -2.41741742, -2.41141141, -2.40540541,\n       -2.3993994 , -2.39339339, -2.38738739, -2.38138138, -2.37537538,\n       -2.36936937, -2.36336336, -2.35735736, -2.35135135, -2.34534535,\n       -2.33933934, -2.33333333, -2.32732733, -2.32132132, -2.31531532,\n       -2.30930931, -2.3033033 , -2.2972973 , -2.29129129, -2.28528529,\n       -2.27927928, -2.27327327, -2.26726727, -2.26126126, -2.25525526,\n       -2.24924925, -2.24324324, -2.23723724, -2.23123123, -2.22522523,\n       -2.21921922, -2.21321321, -2.20720721, -2.2012012 , -2.1951952 ,\n       -2.18918919, -2.18318318, -2.17717718, -2.17117117, -2.16516517,\n       -2.15915916, -2.15315315, -2.14714715, -2.14114114, -2.13513514,\n       -2.12912913, -2.12312312, -2.11711712, -2.11111111, -2.10510511,\n       -2.0990991 , -2.09309309, -2.08708709, -2.08108108, -2.07507508,\n       -2.06906907, -2.06306306, -2.05705706, -2.05105105, -2.04504505,\n       -2.03903904, -2.03303303, -2.02702703, -2.02102102, -2.01501502,\n       -2.00900901, -2.003003  , -1.996997  , -1.99099099, -1.98498498,\n       -1.97897898, -1.97297297, -1.96696697, -1.96096096, -1.95495495,\n       -1.94894895, -1.94294294, -1.93693694, -1.93093093, -1.92492492,\n       -1.91891892, -1.91291291, -1.90690691, -1.9009009 , -1.89489489,\n       -1.88888889, -1.88288288, -1.87687688, -1.87087087, -1.86486486,\n       -1.85885886, -1.85285285, -1.84684685, -1.84084084, -1.83483483,\n       -1.82882883, -1.82282282, -1.81681682, -1.81081081, -1.8048048 ,\n       -1.7987988 , -1.79279279, -1.78678679, -1.78078078, -1.77477477,\n       -1.76876877, -1.76276276, -1.75675676, -1.75075075, -1.74474474,\n       -1.73873874, -1.73273273, -1.72672673, -1.72072072, -1.71471471,\n       -1.70870871, -1.7027027 , -1.6966967 , -1.69069069, -1.68468468,\n       -1.67867868, -1.67267267, -1.66666667, -1.66066066, -1.65465465,\n       -1.64864865, -1.64264264, -1.63663664, -1.63063063, -1.62462462,\n       -1.61861862, -1.61261261, -1.60660661, -1.6006006 , -1.59459459,\n       -1.58858859, -1.58258258, -1.57657658, -1.57057057, -1.56456456,\n       -1.55855856, -1.55255255, -1.54654655, -1.54054054, -1.53453453,\n       -1.52852853, -1.52252252, -1.51651652, -1.51051051, -1.5045045 ,\n       -1.4984985 , -1.49249249, -1.48648649, -1.48048048, -1.47447447,\n       -1.46846847, -1.46246246, -1.45645646, -1.45045045, -1.44444444,\n       -1.43843844, -1.43243243, -1.42642643, -1.42042042, -1.41441441,\n       -1.40840841, -1.4024024 , -1.3963964 , -1.39039039, -1.38438438,\n       -1.37837838, -1.37237237, -1.36636637, -1.36036036, -1.35435435,\n       -1.34834835, -1.34234234, -1.33633634, -1.33033033, -1.32432432,\n       -1.31831832, -1.31231231, -1.30630631, -1.3003003 , -1.29429429,\n       -1.28828829, -1.28228228, -1.27627628, -1.27027027, -1.26426426,\n       -1.25825826, -1.25225225, -1.24624625, -1.24024024, -1.23423423,\n       -1.22822823, -1.22222222, -1.21621622, -1.21021021, -1.2042042 ,\n       -1.1981982 , -1.19219219, -1.18618619, -1.18018018, -1.17417417,\n       -1.16816817, -1.16216216, -1.15615616, -1.15015015, -1.14414414,\n       -1.13813814, -1.13213213, -1.12612613, -1.12012012, -1.11411411,\n       -1.10810811, -1.1021021 , -1.0960961 , -1.09009009, -1.08408408,\n       -1.07807808, -1.07207207, -1.06606607, -1.06006006, -1.05405405,\n       -1.04804805, -1.04204204, -1.03603604, -1.03003003, -1.02402402,\n       -1.01801802, -1.01201201, -1.00600601, -1.        , -0.99399399,\n       -0.98798799, -0.98198198, -0.97597598, -0.96996997, -0.96396396,\n       -0.95795796, -0.95195195, -0.94594595, -0.93993994, -0.93393393,\n       -0.92792793, -0.92192192, -0.91591592, -0.90990991, -0.9039039 ,\n       -0.8978979 , -0.89189189, -0.88588589, -0.87987988, -0.87387387,\n       -0.86786787, -0.86186186, -0.85585586, -0.84984985, -0.84384384,\n       -0.83783784, -0.83183183, -0.82582583, -0.81981982, -0.81381381,\n       -0.80780781, -0.8018018 , -0.7957958 , -0.78978979, -0.78378378,\n       -0.77777778, -0.77177177, -0.76576577, -0.75975976, -0.75375375,\n       -0.74774775, -0.74174174, -0.73573574, -0.72972973, -0.72372372,\n       -0.71771772, -0.71171171, -0.70570571, -0.6996997 , -0.69369369,\n       -0.68768769, -0.68168168, -0.67567568, -0.66966967, -0.66366366,\n       -0.65765766, -0.65165165, -0.64564565, -0.63963964, -0.63363363,\n       -0.62762763, -0.62162162, -0.61561562, -0.60960961, -0.6036036 ,\n       -0.5975976 , -0.59159159, -0.58558559, -0.57957958, -0.57357357,\n       -0.56756757, -0.56156156, -0.55555556, -0.54954955, -0.54354354,\n       -0.53753754, -0.53153153, -0.52552553, -0.51951952, -0.51351351,\n       -0.50750751, -0.5015015 , -0.4954955 , -0.48948949, -0.48348348,\n       -0.47747748, -0.47147147, -0.46546547, -0.45945946, -0.45345345,\n       -0.44744745, -0.44144144, -0.43543544, -0.42942943, -0.42342342,\n       -0.41741742, -0.41141141, -0.40540541, -0.3993994 , -0.39339339,\n       -0.38738739, -0.38138138, -0.37537538, -0.36936937, -0.36336336,\n       -0.35735736, -0.35135135, -0.34534535, -0.33933934, -0.33333333,\n       -0.32732733, -0.32132132, -0.31531532, -0.30930931, -0.3033033 ,\n       -0.2972973 , -0.29129129, -0.28528529, -0.27927928, -0.27327327,\n       -0.26726727, -0.26126126, -0.25525526, -0.24924925, -0.24324324,\n       -0.23723724, -0.23123123, -0.22522523, -0.21921922, -0.21321321,\n       -0.20720721, -0.2012012 , -0.1951952 , -0.18918919, -0.18318318,\n       -0.17717718, -0.17117117, -0.16516517, -0.15915916, -0.15315315,\n       -0.14714715, -0.14114114, -0.13513514, -0.12912913, -0.12312312,\n       -0.11711712, -0.11111111, -0.10510511, -0.0990991 , -0.09309309,\n       -0.08708709, -0.08108108, -0.07507508, -0.06906907, -0.06306306,\n       -0.05705706, -0.05105105, -0.04504505, -0.03903904, -0.03303303,\n       -0.02702703, -0.02102102, -0.01501502, -0.00900901, -0.003003  ,\n        0.003003  ,  0.00900901,  0.01501502,  0.02102102,  0.02702703,\n        0.03303303,  0.03903904,  0.04504505,  0.05105105,  0.05705706,\n        0.06306306,  0.06906907,  0.07507508,  0.08108108,  0.08708709,\n        0.09309309,  0.0990991 ,  0.10510511,  0.11111111,  0.11711712,\n        0.12312312,  0.12912913,  0.13513514,  0.14114114,  0.14714715,\n        0.15315315,  0.15915916,  0.16516517,  0.17117117,  0.17717718,\n        0.18318318,  0.18918919,  0.1951952 ,  0.2012012 ,  0.20720721,\n        0.21321321,  0.21921922,  0.22522523,  0.23123123,  0.23723724,\n        0.24324324,  0.24924925,  0.25525526,  0.26126126,  0.26726727,\n        0.27327327,  0.27927928,  0.28528529,  0.29129129,  0.2972973 ,\n        0.3033033 ,  0.30930931,  0.31531532,  0.32132132,  0.32732733,\n        0.33333333,  0.33933934,  0.34534535,  0.35135135,  0.35735736,\n        0.36336336,  0.36936937,  0.37537538,  0.38138138,  0.38738739,\n        0.39339339,  0.3993994 ,  0.40540541,  0.41141141,  0.41741742,\n        0.42342342,  0.42942943,  0.43543544,  0.44144144,  0.44744745,\n        0.45345345,  0.45945946,  0.46546547,  0.47147147,  0.47747748,\n        0.48348348,  0.48948949,  0.4954955 ,  0.5015015 ,  0.50750751,\n        0.51351351,  0.51951952,  0.52552553,  0.53153153,  0.53753754,\n        0.54354354,  0.54954955,  0.55555556,  0.56156156,  0.56756757,\n        0.57357357,  0.57957958,  0.58558559,  0.59159159,  0.5975976 ,\n        0.6036036 ,  0.60960961,  0.61561562,  0.62162162,  0.62762763,\n        0.63363363,  0.63963964,  0.64564565,  0.65165165,  0.65765766,\n        0.66366366,  0.66966967,  0.67567568,  0.68168168,  0.68768769,\n        0.69369369,  0.6996997 ,  0.70570571,  0.71171171,  0.71771772,\n        0.72372372,  0.72972973,  0.73573574,  0.74174174,  0.74774775,\n        0.75375375,  0.75975976,  0.76576577,  0.77177177,  0.77777778,\n        0.78378378,  0.78978979,  0.7957958 ,  0.8018018 ,  0.80780781,\n        0.81381381,  0.81981982,  0.82582583,  0.83183183,  0.83783784,\n        0.84384384,  0.84984985,  0.85585586,  0.86186186,  0.86786787,\n        0.87387387,  0.87987988,  0.88588589,  0.89189189,  0.8978979 ,\n        0.9039039 ,  0.90990991,  0.91591592,  0.92192192,  0.92792793,\n        0.93393393,  0.93993994,  0.94594595,  0.95195195,  0.95795796,\n        0.96396396,  0.96996997,  0.97597598,  0.98198198,  0.98798799,\n        0.99399399,  1.        ,  1.00600601,  1.01201201,  1.01801802,\n        1.02402402,  1.03003003,  1.03603604,  1.04204204,  1.04804805,\n        1.05405405,  1.06006006,  1.06606607,  1.07207207,  1.07807808,\n        1.08408408,  1.09009009,  1.0960961 ,  1.1021021 ,  1.10810811,\n        1.11411411,  1.12012012,  1.12612613,  1.13213213,  1.13813814,\n        1.14414414,  1.15015015,  1.15615616,  1.16216216,  1.16816817,\n        1.17417417,  1.18018018,  1.18618619,  1.19219219,  1.1981982 ,\n        1.2042042 ,  1.21021021,  1.21621622,  1.22222222,  1.22822823,\n        1.23423423,  1.24024024,  1.24624625,  1.25225225,  1.25825826,\n        1.26426426,  1.27027027,  1.27627628,  1.28228228,  1.28828829,\n        1.29429429,  1.3003003 ,  1.30630631,  1.31231231,  1.31831832,\n        1.32432432,  1.33033033,  1.33633634,  1.34234234,  1.34834835,\n        1.35435435,  1.36036036,  1.36636637,  1.37237237,  1.37837838,\n        1.38438438,  1.39039039,  1.3963964 ,  1.4024024 ,  1.40840841,\n        1.41441441,  1.42042042,  1.42642643,  1.43243243,  1.43843844,\n        1.44444444,  1.45045045,  1.45645646,  1.46246246,  1.46846847,\n        1.47447447,  1.48048048,  1.48648649,  1.49249249,  1.4984985 ,\n        1.5045045 ,  1.51051051,  1.51651652,  1.52252252,  1.52852853,\n        1.53453453,  1.54054054,  1.54654655,  1.55255255,  1.55855856,\n        1.56456456,  1.57057057,  1.57657658,  1.58258258,  1.58858859,\n        1.59459459,  1.6006006 ,  1.60660661,  1.61261261,  1.61861862,\n        1.62462462,  1.63063063,  1.63663664,  1.64264264,  1.64864865,\n        1.65465465,  1.66066066,  1.66666667,  1.67267267,  1.67867868,\n        1.68468468,  1.69069069,  1.6966967 ,  1.7027027 ,  1.70870871,\n        1.71471471,  1.72072072,  1.72672673,  1.73273273,  1.73873874,\n        1.74474474,  1.75075075,  1.75675676,  1.76276276,  1.76876877,\n        1.77477477,  1.78078078,  1.78678679,  1.79279279,  1.7987988 ,\n        1.8048048 ,  1.81081081,  1.81681682,  1.82282282,  1.82882883,\n        1.83483483,  1.84084084,  1.84684685,  1.85285285,  1.85885886,\n        1.86486486,  1.87087087,  1.87687688,  1.88288288,  1.88888889,\n        1.89489489,  1.9009009 ,  1.90690691,  1.91291291,  1.91891892,\n        1.92492492,  1.93093093,  1.93693694,  1.94294294,  1.94894895,\n        1.95495495,  1.96096096,  1.96696697,  1.97297297,  1.97897898,\n        1.98498498,  1.99099099,  1.996997  ,  2.003003  ,  2.00900901,\n        2.01501502,  2.02102102,  2.02702703,  2.03303303,  2.03903904,\n        2.04504505,  2.05105105,  2.05705706,  2.06306306,  2.06906907,\n        2.07507508,  2.08108108,  2.08708709,  2.09309309,  2.0990991 ,\n        2.10510511,  2.11111111,  2.11711712,  2.12312312,  2.12912913,\n        2.13513514,  2.14114114,  2.14714715,  2.15315315,  2.15915916,\n        2.16516517,  2.17117117,  2.17717718,  2.18318318,  2.18918919,\n        2.1951952 ,  2.2012012 ,  2.20720721,  2.21321321,  2.21921922,\n        2.22522523,  2.23123123,  2.23723724,  2.24324324,  2.24924925,\n        2.25525526,  2.26126126,  2.26726727,  2.27327327,  2.27927928,\n        2.28528529,  2.29129129,  2.2972973 ,  2.3033033 ,  2.30930931,\n        2.31531532,  2.32132132,  2.32732733,  2.33333333,  2.33933934,\n        2.34534535,  2.35135135,  2.35735736,  2.36336336,  2.36936937,\n        2.37537538,  2.38138138,  2.38738739,  2.39339339,  2.3993994 ,\n        2.40540541,  2.41141141,  2.41741742,  2.42342342,  2.42942943,\n        2.43543544,  2.44144144,  2.44744745,  2.45345345,  2.45945946,\n        2.46546547,  2.47147147,  2.47747748,  2.48348348,  2.48948949,\n        2.4954955 ,  2.5015015 ,  2.50750751,  2.51351351,  2.51951952,\n        2.52552553,  2.53153153,  2.53753754,  2.54354354,  2.54954955,\n        2.55555556,  2.56156156,  2.56756757,  2.57357357,  2.57957958,\n        2.58558559,  2.59159159,  2.5975976 ,  2.6036036 ,  2.60960961,\n        2.61561562,  2.62162162,  2.62762763,  2.63363363,  2.63963964,\n        2.64564565,  2.65165165,  2.65765766,  2.66366366,  2.66966967,\n        2.67567568,  2.68168168,  2.68768769,  2.69369369,  2.6996997 ,\n        2.70570571,  2.71171171,  2.71771772,  2.72372372,  2.72972973,\n        2.73573574,  2.74174174,  2.74774775,  2.75375375,  2.75975976,\n        2.76576577,  2.77177177,  2.77777778,  2.78378378,  2.78978979,\n        2.7957958 ,  2.8018018 ,  2.80780781,  2.81381381,  2.81981982,\n        2.82582583,  2.83183183,  2.83783784,  2.84384384,  2.84984985,\n        2.85585586,  2.86186186,  2.86786787,  2.87387387,  2.87987988,\n        2.88588589,  2.89189189,  2.8978979 ,  2.9039039 ,  2.90990991,\n        2.91591592,  2.92192192,  2.92792793,  2.93393393,  2.93993994,\n        2.94594595,  2.95195195,  2.95795796,  2.96396396,  2.96996997,\n        2.97597598,  2.98198198,  2.98798799,  2.99399399,  3.        ]),)"
     ]
    }
   ],
   "source": [
    "entropy = (sp.log(1/ϕ, sp.E)*ϕ).integrate(x)"
   ]
  },
  {
   "cell_type": "code",
   "execution_count": 103,
   "id": "8d804009-e68d-4ea3-9b21-1af5bd592cd3",
   "metadata": {},
   "outputs": [],
   "source": [
    "\n",
    "#08\n",
    "\n",
    "import matplotlib.pyplot as plt\n",
    "import numpy as np\n",
    "import scipy.stats as stats\n",
    "import math\n",
    "\n",
    "mu = 0\n",
    "variance = 1\n",
    "sigma = math.sqrt(variance)\n",
    "x = np.linspace(mu - 3*sigma, mu + 3*sigma, 1000)\n",
    "plt.plot(x, stats.norm.pdf(x, mu, sigma))\n",
    "plt.show()"
   ]
  },
  {
   "cell_type": "code",
   "execution_count": 111,
   "id": "8ddb6138-6511-4c3e-a79f-05c91a16f65a",
   "metadata": {},
   "outputs": [],
   "source": [
    "# 08, 09\n",
    "import numpy  as np \n",
    "import pandas as pd  # 偷用一下 \n",
    "\n",
    "%matplotlib qt \n",
    " \n",
    "\n",
    "plt.rcParams['axes.prop_cycle']= plt.cycler( \n",
    "    color=['red',  \n",
    "           'orange',  \n",
    "           'yellow',  \n",
    "           'green', \n",
    "           'cyan', \n",
    "           'blue', \n",
    "           'purple', \n",
    "           'magenta', \n",
    "           'gray', \n",
    "           'black']) \n",
    "\n",
    "def Normal(sampSize= 1000): \n",
    "     \n",
    "    Y= pd.DataFrame(np.zeros((sampSize, 1))) \n",
    "    for i in range(0,8): \n",
    "        μ= i \n",
    "        σ= 1/2 \n",
    "        Y[i]= np.random.normal(  \n",
    "                loc=   μ,   \n",
    "                scale= σ, \n",
    "                size= sampSize) \n",
    "    #Y=Y.cumsum() \n",
    "    Y.plot(alpha= .5, title= 'normal') \n",
    "    Y.hist() \n",
    "     \n",
    "Normal(sampSize= 1000) \n"
   ]
  },
  {
   "cell_type": "code",
   "execution_count": null,
   "id": "19b5976a-85fb-4433-bf9d-e92a6d1e055e",
   "metadata": {},
   "outputs": [],
   "source": []
  }
 ],
 "metadata": {
  "kernelspec": {
   "display_name": "Python 3",
   "language": "python",
   "name": "python3"
  },
  "language_info": {
   "codemirror_mode": {
    "name": "ipython",
    "version": 3
   },
   "file_extension": ".py",
   "mimetype": "text/x-python",
   "name": "python",
   "nbconvert_exporter": "python",
   "pygments_lexer": "ipython3",
   "version": "3.8.8"
  }
 },
 "nbformat": 4,
 "nbformat_minor": 5
}
