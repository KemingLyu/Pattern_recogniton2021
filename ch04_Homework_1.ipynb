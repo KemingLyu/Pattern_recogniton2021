{
 "cells": [
  {
   "cell_type": "code",
   "execution_count": 3,
   "id": "c0d56153-2590-456f-910d-6159a526ec28",
   "metadata": {},
   "outputs": [],
   "source": [
    "# [sol] for 2-dimentional example:  \n",
    "# using scipy.optimize \n",
    "\n",
    "\n",
    "def f(s): \n",
    "    x, y= s  \n",
    "    z=  x+y \n",
    "    z= -z   \n",
    "    return z \n",
    "\n",
    "def c1(s): \n",
    "    x,y= s \n",
    "    z= x**2 + y**2 - 1 \n",
    "    return z \n",
    "\n",
    "def c2(s): \n",
    "    x,y= s \n",
    "    z= (x**2 + y**2 -2) \n",
    "    z= -z \n",
    "    return z \n",
    " \n",
    "#ineq = inequality不等式\n",
    "Constraints= [ \n",
    "    {'fun':c1, 'type':'ineq'}, \n",
    "    {'fun':c2, 'type':'ineq'}, \n",
    "] \n",
    " \n",
    "\n",
    "xyBounds= [(0, None),  # xmin, xmax \n",
    "           (0, None)   # ymin, ymax \n",
    "           ] "
   ]
  },
  {
   "cell_type": "code",
   "execution_count": 3,
   "id": "2c1f954b-5a0a-4de6-a95b-d959e92586e4",
   "metadata": {},
   "outputs": [
    {
     "data": {
      "text/plain": [
       "(array([0.5364012 , 0.00239572]),\n",
       "      fun: -2.0000000088853382\n",
       "      jac: array([-1., -1.])\n",
       "  message: 'Optimization terminated successfully'\n",
       "     nfev: 21\n",
       "      nit: 7\n",
       "     njev: 7\n",
       "   status: 0\n",
       "  success: True\n",
       "        x: array([1.00000038, 0.99999963]))"
      ]
     },
     "execution_count": 3,
     "metadata": {},
     "output_type": "execute_result"
    }
   ],
   "source": [
    "import scipy.optimize as sopt\n",
    "import numpy as np\n",
    "\n",
    "x0= np.random.random(size=2) #(x,y)\n",
    "\n",
    "opt= sopt.minimize( \n",
    "    f, \n",
    "    x0, \n",
    "    bounds= xyBounds, \n",
    "    constraints= Constraints \n",
    ") \n",
    "\n",
    "x0, opt"
   ]
  },
  {
   "cell_type": "code",
   "execution_count": 15,
   "id": "332bdb96-43bb-4c6c-af04-7914996b55fe",
   "metadata": {},
   "outputs": [],
   "source": [
    "# \n",
    "# plot constraints  \n",
    "# \n",
    " \n",
    "#  Constraints  \n",
    "# 如何自動從 c1, c2, c3 撈出來？？ \n",
    "# 需要 sympy.solve() \n",
    "# \n",
    "import sympy as sm\n",
    "x,y= sm.symbols('x,y')\n",
    "y1= sm.solve(c1([x,y]), y)[0] \n",
    "y2= sm.solve(c2([x,y]), y)[0] \n",
    "#y3= sm.solve(c3([x,y]), y)[0] "
   ]
  },
  {
   "cell_type": "code",
   "execution_count": 16,
   "id": "44dc0ac2-1887-41b4-b03e-7b2fe7f9440a",
   "metadata": {},
   "outputs": [],
   "source": [
    "# sympy 解方程式之後，仍然需要numpy \n",
    "\n",
    "y1= sm.lambdify(x, y1) \n",
    "y2= sm.lambdify(x, y2) \n",
    "#y3= sm.lambdify(x, y3) \n",
    "# sympy function --> numpy function\n",
    "z= sm.lambdify([x,y],f([x,y])) "
   ]
  },
  {
   "cell_type": "code",
   "execution_count": 17,
   "id": "beb16d87-be3e-4c60-897a-3e97a92a56ed",
   "metadata": {},
   "outputs": [
    {
     "name": "stderr",
     "output_type": "stream",
     "text": [
      "<lambdifygenerated-10>:2: RuntimeWarning: invalid value encountered in sqrt\n",
      "  return (-sqrt(1 - x**2))\n",
      "<lambdifygenerated-11>:2: RuntimeWarning: invalid value encountered in sqrt\n",
      "  return (-sqrt(2 - x**2))\n"
     ]
    }
   ],
   "source": [
    "xx= np.linspace(-10,10,1001)\n",
    "yy= np.linspace(-10,10,1001)\n",
    "zz= z(xx,yy)\n",
    "\n",
    "yy1= y1(xx) \n",
    "yy2= y2(xx) \n",
    "#yy3= y3(xx) \n",
    "#---------------- "
   ]
  },
  {
   "cell_type": "code",
   "execution_count": null,
   "id": "f24e020e-b4ca-4078-baa6-b1f30ce8b91c",
   "metadata": {},
   "outputs": [],
   "source": []
  }
 ],
 "metadata": {
  "kernelspec": {
   "display_name": "Python 3",
   "language": "python",
   "name": "python3"
  },
  "language_info": {
   "codemirror_mode": {
    "name": "ipython",
    "version": 3
   },
   "file_extension": ".py",
   "mimetype": "text/x-python",
   "name": "python",
   "nbconvert_exporter": "python",
   "pygments_lexer": "ipython3",
   "version": "3.8.8"
  }
 },
 "nbformat": 4,
 "nbformat_minor": 5
}
