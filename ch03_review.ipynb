{
 "cells": [
  {
   "cell_type": "markdown",
   "id": "cf88bd67-9a0a-448b-8d74-ef59eb604085",
   "metadata": {},
   "source": [
    "## Probability distribution "
   ]
  },
  {
   "cell_type": "markdown",
   "id": "87e391c7-d8a6-4d9e-930d-34a11474dff5",
   "metadata": {
    "tags": []
   },
   "source": [
    "### Binomial distribution"
   ]
  },
  {
   "cell_type": "code",
   "execution_count": 1,
   "id": "840bb835-65e9-4a1f-af2c-02bbc6cb6795",
   "metadata": {},
   "outputs": [
    {
     "data": {
      "text/plain": [
       "[1, 10, 45, 120, 210, 252, 210, 120, 45, 10, 1]"
      ]
     },
     "execution_count": 1,
     "metadata": {},
     "output_type": "execute_result"
    }
   ],
   "source": [
    "import sympy as sp\n",
    "import IPython.display\n",
    "n = 10\n",
    "v1 = [sp.binomial(n, k) for k in range(n+1)]\n",
    "v1"
   ]
  },
  {
   "cell_type": "code",
   "execution_count": 2,
   "id": "bfe73fed-da5a-406e-a2cf-50ee65a209b9",
   "metadata": {},
   "outputs": [
    {
     "data": {
      "text/plain": [
       "[1, -10, 55, -220, 715, -2002, 5005, -11440, 24310, -48620, 92378]"
      ]
     },
     "execution_count": 2,
     "metadata": {},
     "output_type": "execute_result"
    }
   ],
   "source": [
    "# 負二項係數\n",
    "v2 = [sp.binomial(-n, k) for k in range(n+1)]\n",
    "v2"
   ]
  },
  {
   "cell_type": "code",
   "execution_count": 3,
   "id": "9223a6b7-99ce-4759-8ea2-a6c333838d1c",
   "metadata": {},
   "outputs": [
    {
     "data": {
      "text/latex": [
       "$\\displaystyle \\frac{1}{\\left(x + 1\\right)^{10}}$"
      ],
      "text/plain": [
       "(x + 1)**(-10)"
      ]
     },
     "metadata": {},
     "output_type": "display_data"
    },
    {
     "data": {
      "text/latex": [
       "$\\displaystyle \\frac{1}{x^{10} + 10 x^{9} + 45 x^{8} + 120 x^{7} + 210 x^{6} + 252 x^{5} + 210 x^{4} + 120 x^{3} + 45 x^{2} + 10 x + 1}$"
      ],
      "text/plain": [
       "1/(x**10 + 10*x**9 + 45*x**8 + 120*x**7 + 210*x**6 + 252*x**5 + 210*x**4 + 120*x**3 + 45*x**2 + 10*x + 1)"
      ]
     },
     "metadata": {},
     "output_type": "display_data"
    }
   ],
   "source": [
    "x = sp.symbols('x')\n",
    "f = (1+x)**(-n)\n",
    "display(f, f.expand())"
   ]
  },
  {
   "cell_type": "code",
   "execution_count": 4,
   "id": "23a23183-923c-4694-8309-62c423f4b1ea",
   "metadata": {},
   "outputs": [
    {
     "data": {
      "text/latex": [
       "$\\displaystyle 1 - 10 x + 55 x^{2} - 220 x^{3} + 715 x^{4} - 2002 x^{5} + O\\left(x^{6}\\right)$"
      ],
      "text/plain": [
       "1 - 10*x + 55*x**2 - 220*x**3 + 715*x**4 - 2002*x**5 + O(x**6)"
      ]
     },
     "execution_count": 4,
     "metadata": {},
     "output_type": "execute_result"
    }
   ],
   "source": [
    "f.series()"
   ]
  },
  {
   "cell_type": "code",
   "execution_count": 5,
   "id": "3116f75a-4165-499a-907b-a58a831c513e",
   "metadata": {},
   "outputs": [
    {
     "data": {
      "text/latex": [
       "$\\displaystyle -220$"
      ],
      "text/plain": [
       "-220"
      ]
     },
     "execution_count": 5,
     "metadata": {},
     "output_type": "execute_result"
    }
   ],
   "source": [
    "n = -10\n",
    "k = 3\n",
    "sp.binomial(n, k)"
   ]
  },
  {
   "cell_type": "code",
   "execution_count": 6,
   "id": "3af04723-5ea3-48f2-a7d4-3d1b4a5934e1",
   "metadata": {},
   "outputs": [
    {
     "data": {
      "text/latex": [
       "$\\displaystyle - \\frac{i}{3}$"
      ],
      "text/plain": [
       "-I/3"
      ]
     },
     "execution_count": 6,
     "metadata": {},
     "output_type": "execute_result"
    }
   ],
   "source": [
    "n = 1+sp.I\n",
    "ak = sp.binomial(n, k)\n",
    "ak"
   ]
  },
  {
   "cell_type": "code",
   "execution_count": 7,
   "id": "4b831b53-ffe9-453f-a8ea-7e11872f7eba",
   "metadata": {},
   "outputs": [
    {
     "data": {
      "text/latex": [
       "$\\displaystyle \\left(x + 1\\right)^{1 + i}$"
      ],
      "text/plain": [
       "(x + 1)**(1 + I)"
      ]
     },
     "execution_count": 7,
     "metadata": {},
     "output_type": "execute_result"
    }
   ],
   "source": [
    "(1+x)**n"
   ]
  },
  {
   "cell_type": "code",
   "execution_count": 8,
   "id": "77a3a9a1-9ac8-4858-a997-3ea74c31a4f1",
   "metadata": {},
   "outputs": [
    {
     "data": {
      "text/latex": [
       "$\\displaystyle 1 + x \\left(1 + i\\right) + \\frac{i x^{2} \\left(1 + i\\right)}{2} + \\frac{i x^{3} \\left(-1 + i\\right) \\left(1 + i\\right)}{6} + \\frac{i x^{4} \\left(-2 + i\\right) \\left(-1 + i\\right) \\left(1 + i\\right)}{24} + \\frac{i x^{5} \\left(-3 + i\\right) \\left(-2 + i\\right) \\left(-1 + i\\right) \\left(1 + i\\right)}{120} + O\\left(x^{6}\\right)$"
      ],
      "text/plain": [
       "1 + x*(1 + I) + I*x**2*(1 + I)/2 + I*x**3*(-1 + I)*(1 + I)/6 + I*x**4*(-2 + I)*(-1 + I)*(1 + I)/24 + I*x**5*(-3 + I)*(-2 + I)*(-1 + I)*(1 + I)/120 + O(x**6)"
      ]
     },
     "execution_count": 8,
     "metadata": {},
     "output_type": "execute_result"
    }
   ],
   "source": [
    "f = ((1+x)**n).series()\n",
    "f"
   ]
  },
  {
   "cell_type": "code",
   "execution_count": 9,
   "id": "851b5d19-7664-4645-92eb-724d0e2cfccf",
   "metadata": {},
   "outputs": [
    {
     "data": {
      "text/latex": [
       "$\\displaystyle - \\frac{i}{3}$"
      ],
      "text/plain": [
       "-I/3"
      ]
     },
     "execution_count": 9,
     "metadata": {},
     "output_type": "execute_result"
    }
   ],
   "source": [
    "#找到 x**k 的係數\n",
    "bk = f.as_poly().coeff_monomial(x**k)\n",
    "bk"
   ]
  },
  {
   "cell_type": "code",
   "execution_count": 10,
   "id": "9967914f-9d63-4925-ab8c-d883ab76cac0",
   "metadata": {},
   "outputs": [
    {
     "data": {
      "text/plain": [
       "True"
      ]
     },
     "execution_count": 10,
     "metadata": {},
     "output_type": "execute_result"
    }
   ],
   "source": [
    "ak == bk"
   ]
  },
  {
   "cell_type": "code",
   "execution_count": 11,
   "id": "288ae998-573a-4f0a-a915-3fd3091a802e",
   "metadata": {},
   "outputs": [
    {
     "data": {
      "text/latex": [
       "$\\displaystyle - \\frac{i}{3}$"
      ],
      "text/plain": [
       "-I/3"
      ]
     },
     "execution_count": 11,
     "metadata": {},
     "output_type": "execute_result"
    }
   ],
   "source": [
    "i = sp.I\n",
    "bk = (i*(-1+i)*(1+i)/6).simplify()\n",
    "bk"
   ]
  },
  {
   "cell_type": "code",
   "execution_count": 12,
   "id": "90c7f93f-76ed-45ba-9f6b-e1ad9bb9d4a3",
   "metadata": {},
   "outputs": [
    {
     "data": {
      "text/latex": [
       "$\\displaystyle - \\frac{i}{3}$"
      ],
      "text/plain": [
       "-I/3"
      ]
     },
     "execution_count": 12,
     "metadata": {},
     "output_type": "execute_result"
    }
   ],
   "source": [
    "bk = f.as_poly().coeff_monomial(x**k)\n",
    "bk"
   ]
  },
  {
   "cell_type": "code",
   "execution_count": 13,
   "id": "57d9d08b-fa36-4d00-9eb8-923ae3d9a8dc",
   "metadata": {},
   "outputs": [
    {
     "name": "stdout",
     "output_type": "stream",
     "text": [
      "n= 0, --------------------\n"
     ]
    },
    {
     "data": {
      "text/latex": [
       "$\\displaystyle 1$"
      ],
      "text/plain": [
       "1"
      ]
     },
     "metadata": {},
     "output_type": "display_data"
    },
    {
     "data": {
      "text/latex": [
       "$\\displaystyle 1$"
      ],
      "text/plain": [
       "1"
      ]
     },
     "metadata": {},
     "output_type": "display_data"
    },
    {
     "name": "stdout",
     "output_type": "stream",
     "text": [
      "n= 1, --------------------\n"
     ]
    },
    {
     "data": {
      "text/latex": [
       "$\\displaystyle x + y$"
      ],
      "text/plain": [
       "x + y"
      ]
     },
     "metadata": {},
     "output_type": "display_data"
    },
    {
     "data": {
      "text/latex": [
       "$\\displaystyle x + y$"
      ],
      "text/plain": [
       "x + y"
      ]
     },
     "metadata": {},
     "output_type": "display_data"
    },
    {
     "name": "stdout",
     "output_type": "stream",
     "text": [
      "n= 2, --------------------\n"
     ]
    },
    {
     "data": {
      "text/latex": [
       "$\\displaystyle \\left(x + y\\right)^{2}$"
      ],
      "text/plain": [
       "(x + y)**2"
      ]
     },
     "metadata": {},
     "output_type": "display_data"
    },
    {
     "data": {
      "text/latex": [
       "$\\displaystyle x^{2} + 2 x y + y^{2}$"
      ],
      "text/plain": [
       "x**2 + 2*x*y + y**2"
      ]
     },
     "metadata": {},
     "output_type": "display_data"
    },
    {
     "name": "stdout",
     "output_type": "stream",
     "text": [
      "n= 3, --------------------\n"
     ]
    },
    {
     "data": {
      "text/latex": [
       "$\\displaystyle \\left(x + y\\right)^{3}$"
      ],
      "text/plain": [
       "(x + y)**3"
      ]
     },
     "metadata": {},
     "output_type": "display_data"
    },
    {
     "data": {
      "text/latex": [
       "$\\displaystyle x^{3} + 3 x^{2} y + 3 x y^{2} + y^{3}$"
      ],
      "text/plain": [
       "x**3 + 3*x**2*y + 3*x*y**2 + y**3"
      ]
     },
     "metadata": {},
     "output_type": "display_data"
    },
    {
     "name": "stdout",
     "output_type": "stream",
     "text": [
      "n= 4, --------------------\n"
     ]
    },
    {
     "data": {
      "text/latex": [
       "$\\displaystyle \\left(x + y\\right)^{4}$"
      ],
      "text/plain": [
       "(x + y)**4"
      ]
     },
     "metadata": {},
     "output_type": "display_data"
    },
    {
     "data": {
      "text/latex": [
       "$\\displaystyle x^{4} + 4 x^{3} y + 6 x^{2} y^{2} + 4 x y^{3} + y^{4}$"
      ],
      "text/plain": [
       "x**4 + 4*x**3*y + 6*x**2*y**2 + 4*x*y**3 + y**4"
      ]
     },
     "metadata": {},
     "output_type": "display_data"
    },
    {
     "name": "stdout",
     "output_type": "stream",
     "text": [
      "n= 5, --------------------\n"
     ]
    },
    {
     "data": {
      "text/latex": [
       "$\\displaystyle \\left(x + y\\right)^{5}$"
      ],
      "text/plain": [
       "(x + y)**5"
      ]
     },
     "metadata": {},
     "output_type": "display_data"
    },
    {
     "data": {
      "text/latex": [
       "$\\displaystyle x^{5} + 5 x^{4} y + 10 x^{3} y^{2} + 10 x^{2} y^{3} + 5 x y^{4} + y^{5}$"
      ],
      "text/plain": [
       "x**5 + 5*x**4*y + 10*x**3*y**2 + 10*x**2*y**3 + 5*x*y**4 + y**5"
      ]
     },
     "metadata": {},
     "output_type": "display_data"
    },
    {
     "name": "stdout",
     "output_type": "stream",
     "text": [
      "n= 6, --------------------\n"
     ]
    },
    {
     "data": {
      "text/latex": [
       "$\\displaystyle \\left(x + y\\right)^{6}$"
      ],
      "text/plain": [
       "(x + y)**6"
      ]
     },
     "metadata": {},
     "output_type": "display_data"
    },
    {
     "data": {
      "text/latex": [
       "$\\displaystyle x^{6} + 6 x^{5} y + 15 x^{4} y^{2} + 20 x^{3} y^{3} + 15 x^{2} y^{4} + 6 x y^{5} + y^{6}$"
      ],
      "text/plain": [
       "x**6 + 6*x**5*y + 15*x**4*y**2 + 20*x**3*y**3 + 15*x**2*y**4 + 6*x*y**5 + y**6"
      ]
     },
     "metadata": {},
     "output_type": "display_data"
    },
    {
     "name": "stdout",
     "output_type": "stream",
     "text": [
      "n= 7, --------------------\n"
     ]
    },
    {
     "data": {
      "text/latex": [
       "$\\displaystyle \\left(x + y\\right)^{7}$"
      ],
      "text/plain": [
       "(x + y)**7"
      ]
     },
     "metadata": {},
     "output_type": "display_data"
    },
    {
     "data": {
      "text/latex": [
       "$\\displaystyle x^{7} + 7 x^{6} y + 21 x^{5} y^{2} + 35 x^{4} y^{3} + 35 x^{3} y^{4} + 21 x^{2} y^{5} + 7 x y^{6} + y^{7}$"
      ],
      "text/plain": [
       "x**7 + 7*x**6*y + 21*x**5*y**2 + 35*x**4*y**3 + 35*x**3*y**4 + 21*x**2*y**5 + 7*x*y**6 + y**7"
      ]
     },
     "metadata": {},
     "output_type": "display_data"
    },
    {
     "name": "stdout",
     "output_type": "stream",
     "text": [
      "n= 8, --------------------\n"
     ]
    },
    {
     "data": {
      "text/latex": [
       "$\\displaystyle \\left(x + y\\right)^{8}$"
      ],
      "text/plain": [
       "(x + y)**8"
      ]
     },
     "metadata": {},
     "output_type": "display_data"
    },
    {
     "data": {
      "text/latex": [
       "$\\displaystyle x^{8} + 8 x^{7} y + 28 x^{6} y^{2} + 56 x^{5} y^{3} + 70 x^{4} y^{4} + 56 x^{3} y^{5} + 28 x^{2} y^{6} + 8 x y^{7} + y^{8}$"
      ],
      "text/plain": [
       "x**8 + 8*x**7*y + 28*x**6*y**2 + 56*x**5*y**3 + 70*x**4*y**4 + 56*x**3*y**5 + 28*x**2*y**6 + 8*x*y**7 + y**8"
      ]
     },
     "metadata": {},
     "output_type": "display_data"
    },
    {
     "name": "stdout",
     "output_type": "stream",
     "text": [
      "n= 9, --------------------\n"
     ]
    },
    {
     "data": {
      "text/latex": [
       "$\\displaystyle \\left(x + y\\right)^{9}$"
      ],
      "text/plain": [
       "(x + y)**9"
      ]
     },
     "metadata": {},
     "output_type": "display_data"
    },
    {
     "data": {
      "text/latex": [
       "$\\displaystyle x^{9} + 9 x^{8} y + 36 x^{7} y^{2} + 84 x^{6} y^{3} + 126 x^{5} y^{4} + 126 x^{4} y^{5} + 84 x^{3} y^{6} + 36 x^{2} y^{7} + 9 x y^{8} + y^{9}$"
      ],
      "text/plain": [
       "x**9 + 9*x**8*y + 36*x**7*y**2 + 84*x**6*y**3 + 126*x**5*y**4 + 126*x**4*y**5 + 84*x**3*y**6 + 36*x**2*y**7 + 9*x*y**8 + y**9"
      ]
     },
     "metadata": {},
     "output_type": "display_data"
    },
    {
     "name": "stdout",
     "output_type": "stream",
     "text": [
      "n= 10, --------------------\n"
     ]
    },
    {
     "data": {
      "text/latex": [
       "$\\displaystyle \\left(x + y\\right)^{10}$"
      ],
      "text/plain": [
       "(x + y)**10"
      ]
     },
     "metadata": {},
     "output_type": "display_data"
    },
    {
     "data": {
      "text/latex": [
       "$\\displaystyle x^{10} + 10 x^{9} y + 45 x^{8} y^{2} + 120 x^{7} y^{3} + 210 x^{6} y^{4} + 252 x^{5} y^{5} + 210 x^{4} y^{6} + 120 x^{3} y^{7} + 45 x^{2} y^{8} + 10 x y^{9} + y^{10}$"
      ],
      "text/plain": [
       "x**10 + 10*x**9*y + 45*x**8*y**2 + 120*x**7*y**3 + 210*x**6*y**4 + 252*x**5*y**5 + 210*x**4*y**6 + 120*x**3*y**7 + 45*x**2*y**8 + 10*x*y**9 + y**10"
      ]
     },
     "metadata": {},
     "output_type": "display_data"
    }
   ],
   "source": [
    "# in Sympy, the Binomial Coefficients \n",
    "x, y = sp.symbols('x, y') \n",
    "\n",
    "for n in range(11): \n",
    "    q=  (x+y)**n \n",
    "    q1= q.expand() \n",
    "     \n",
    "    print(f'n= {n}, {\"-\"*20}')   \n",
    "    display(q) \n",
    "    display(q1) "
   ]
  },
  {
   "cell_type": "code",
   "execution_count": 48,
   "id": "2d765c66-2821-4a03-abe6-4af31509b91d",
   "metadata": {},
   "outputs": [
    {
     "data": {
      "text/plain": [
       "<StemContainer object of 3 artists>"
      ]
     },
     "execution_count": 48,
     "metadata": {},
     "output_type": "execute_result"
    }
   ],
   "source": [
    "import matplotlib.pyplot as plt\n",
    "n=20\n",
    "q= (x+y)**n \n",
    "q1= q.expand()\n",
    "plt.stem(q1.as_poly().coeffs())"
   ]
  },
  {
   "cell_type": "code",
   "execution_count": 49,
   "id": "5840bd0d-e116-49c2-8a9f-3e0fd53b24e8",
   "metadata": {},
   "outputs": [
    {
     "data": {
      "text/plain": [
       "<StemContainer object of 3 artists>"
      ]
     },
     "execution_count": 49,
     "metadata": {},
     "output_type": "execute_result"
    }
   ],
   "source": [
    "import numpy as np\n",
    "q2 = np.array(q1.as_poly().coeffs())\n",
    "plt.stem(q2.cumsum())"
   ]
  },
  {
   "cell_type": "markdown",
   "id": "1af9b4f3-69ef-4f98-8a5b-d9274ddff25c",
   "metadata": {
    "tags": []
   },
   "source": [
    "### Normal distribution"
   ]
  },
  {
   "cell_type": "code",
   "execution_count": 50,
   "id": "aeb9b419-fbce-48cc-888b-efe27c3cb475",
   "metadata": {},
   "outputs": [
    {
     "data": {
      "text/latex": [
       "$\\displaystyle e^{- x^{2}}$"
      ],
      "text/plain": [
       "exp(-x**2)"
      ]
     },
     "execution_count": 50,
     "metadata": {},
     "output_type": "execute_result"
    }
   ],
   "source": [
    "f = sp.exp(-x**2)\n",
    "f"
   ]
  },
  {
   "cell_type": "code",
   "execution_count": 51,
   "id": "cc76ffbe-87da-4866-80c2-b364f5404cf4",
   "metadata": {},
   "outputs": [
    {
     "data": {
      "text/latex": [
       "$\\displaystyle \\frac{\\sqrt{\\pi} \\operatorname{erf}{\\left(x \\right)}}{2}$"
      ],
      "text/plain": [
       "sqrt(pi)*erf(x)/2"
      ]
     },
     "execution_count": 51,
     "metadata": {},
     "output_type": "execute_result"
    }
   ],
   "source": [
    "g = f.integrate(x)\n",
    "g"
   ]
  },
  {
   "cell_type": "code",
   "execution_count": 52,
   "id": "9fb8584f-d809-44c7-b12b-028a984835ca",
   "metadata": {},
   "outputs": [],
   "source": [
    "fg = sp.plotting.plot(f, g)\n",
    "fg[0].line_color = 'red'\n",
    "fg[1].line_color = 'green'\n",
    "fg.show()"
   ]
  },
  {
   "cell_type": "code",
   "execution_count": 53,
   "id": "6d6a4c9d-2e17-40c5-90f9-8947d541689c",
   "metadata": {},
   "outputs": [
    {
     "data": {
      "text/latex": [
       "$\\displaystyle \\frac{\\sqrt{2} e^{- \\frac{x^{2}}{2}}}{2 \\sqrt{\\pi}}$"
      ],
      "text/plain": [
       "sqrt(2)*exp(-x**2/2)/(2*sqrt(pi))"
      ]
     },
     "execution_count": 53,
     "metadata": {},
     "output_type": "execute_result"
    }
   ],
   "source": [
    "π = sp.pi\n",
    "ϕ = sp.exp(-x**2/2) / sp.sqrt(2*π)\n",
    "ϕ"
   ]
  },
  {
   "cell_type": "code",
   "execution_count": 54,
   "id": "ede337df-43ca-4e62-b7da-8c5bd83e445a",
   "metadata": {},
   "outputs": [],
   "source": [
    "Φ = ϕ.integrate(x)"
   ]
  },
  {
   "cell_type": "code",
   "execution_count": 55,
   "id": "4ff19339-2130-4039-b36a-500ce3b5564b",
   "metadata": {},
   "outputs": [],
   "source": [
    "fg = sp.plotting.plot(ϕ, Φ)\n",
    "fg[0].line_color = 'red'\n",
    "fg[1].line_color = 'green'\n",
    "fg.show()"
   ]
  },
  {
   "cell_type": "code",
   "execution_count": 60,
   "id": "4b4cbcb2-0365-4382-9392-a6c42c989923",
   "metadata": {},
   "outputs": [],
   "source": [
    "# pdensities of x, x^2, and x^3 \n",
    "%matplotlib qt \n",
    " \n",
    "\n",
    "t= np.linspace(-10,10,1000) \n",
    " \n",
    "\n",
    "fig, ax= plt.subplots(2,5) \n",
    "fig.set_size_inches(12,6) # width, height in inches \n",
    " \n",
    "\n",
    "for i in range(5): \n",
    "    #i=1     \n",
    "    # histogram of the function \n",
    "    values= t**i \n",
    "     \n",
    "    np.random.shuffle(values) # 加上這行頗為有趣 \n",
    "     \n",
    "    counts, value_bins= np.histogram(values, 30) \n",
    "    counts= counts #/ sum(counts) \n",
    "     \n",
    "    # plot the function \n",
    "    ax[0,i].plot(values, t) \n",
    "    ax[0,i].set_xlabel('values') \n",
    "    ax[0,i].set_ylabel('t') \n",
    "    ax[0,i].set_title(f'$values= t^{i}$') \n",
    "     \n",
    "    # plot its distribution \n",
    "    ax[1,i].stem( \n",
    "        value_bins[:-1], \n",
    "        counts) \n",
    "    ax[1,i].set_xlabel('value_bins') \n",
    "    ax[1,i].set_ylabel('counts') \n",
    "       \n",
    "plt.show() "
   ]
  },
  {
   "cell_type": "markdown",
   "id": "7205c08a-398e-4aac-9a0c-954c6c081179",
   "metadata": {
    "heading_collapsed": "true",
    "tags": []
   },
   "source": [
    "### 中央極限定理 Central Limit Theorem "
   ]
  },
  {
   "cell_type": "code",
   "execution_count": 61,
   "id": "219efed5-a539-4633-b093-a5f31d7aaab7",
   "metadata": {},
   "outputs": [
    {
     "data": {
      "text/plain": [
       "(0.0, 100.0)"
      ]
     },
     "execution_count": 61,
     "metadata": {},
     "output_type": "execute_result"
    }
   ],
   "source": [
    "# 中央極限定理 Central Limit Theorem \n",
    "# \n",
    "# generate data from various distributions, then sum them \n",
    "# the sum will approach a normal distribution \n",
    "# \n",
    "sampleSize= 1000 \n",
    " \n",
    "\n",
    "t= np.arange(sampleSize)   \n",
    " \n",
    "\n",
    "# 加總 100 個 隨機變數，陽春Python經典作法 \n",
    "X= 0  \n",
    "for i in range(100): \n",
    "    X += np.random.random(size= sampleSize) \n",
    "\n",
    "# 加總 100 個 隨機變數， Python 經典做法 之2: list comprehension  \n",
    "X100= [np.random.random(sampleSize)  for i in range(100)] \n",
    "X=    sum(X100) \n",
    " \n",
    "\n",
    "# 加總 100 個 隨機變數， numpy 經典做法，要注意 shape，axis \n",
    "X100= np.random.random((100, sampleSize)) # .shape= (100, sampleSize) \n",
    "X=    X100.sum(axis=0) # .shape= (1, sampleSize) ==> 再進化為 (sampleSize, ) \n",
    " \n",
    "\n",
    "f, x= np.histogram(X) \n",
    "x= x[:-1] \n",
    " \n",
    "\n",
    "fg, ax= pl.subplots(1,2) \n",
    " \n",
    "\n",
    "for i in range(0,100,2): \n",
    "    ax[0].plot(t, X100[i], alpha= .1) \n",
    "\n",
    "\n",
    "ax[0].plot(t,X) \n",
    "ax[1].plot(f,x) \n",
    " \n",
    "\n",
    "ax[0].set_xlabel('t') \n",
    "ax[0].set_ylabel('X') \n",
    "ax[0].set_title('sum 100 independent random variables') \n",
    " \n",
    "\n",
    "ax[1].set_xlabel('f') \n",
    "ax[1].set_ylabel('x') \n",
    "ax[1].set_title(' the sum of them will approach a Normal distribution') \n",
    " \n",
    "\n",
    "ax[0].set_ylim([0,100]) \n",
    "ax[1].set_ylim([0,100]) \n",
    " "
   ]
  },
  {
   "cell_type": "code",
   "execution_count": 62,
   "id": "068afec2-28e3-499c-911f-b3ffc7c388b7",
   "metadata": {},
   "outputs": [
    {
     "name": "stdout",
     "output_type": "stream",
     "text": [
      "Continuous Distributions= (總數 101) = ['alpha', 'anglit', 'arcsine', 'argus', 'beta', 'betaprime', 'bradford', 'burr', 'burr12', 'cauchy', 'chi', 'chi2', 'cosine', 'crystalball', 'dgamma', 'dweibull', 'erlang', 'expon', 'exponnorm', 'exponpow', 'exponweib', 'f', 'fatiguelife', 'fisk', 'foldcauchy', 'foldnorm', 'gamma', 'gausshyper', 'genexpon', 'genextreme', 'gengamma', 'genhalflogistic', 'geninvgauss', 'genlogistic', 'gennorm', 'genpareto', 'gilbrat', 'gompertz', 'gumbel_l', 'gumbel_r', 'halfcauchy', 'halfgennorm', 'halflogistic', 'halfnorm', 'hypsecant', 'invgamma', 'invgauss', 'invweibull', 'johnsonsb', 'johnsonsu', 'kappa3', 'kappa4', 'ksone', 'kstwo', 'kstwobign', 'laplace', 'laplace_asymmetric', 'levy', 'levy_l', 'levy_stable', 'loggamma', 'logistic', 'loglaplace', 'lognorm', 'loguniform', 'lomax', 'maxwell', 'mielke', 'moyal', 'nakagami', 'ncf', 'nct', 'ncx2', 'norm', 'norminvgauss', 'pareto', 'pearson3', 'powerlaw', 'powerlognorm', 'powernorm', 'rayleigh', 'rdist', 'recipinvgauss', 'reciprocal', 'rice', 'semicircular', 'skewnorm', 't', 'trapezoid', 'trapz', 'triang', 'truncexpon', 'truncnorm', 'tukeylambda', 'uniform', 'vonmises', 'vonmises_line', 'wald', 'weibull_max', 'weibull_min', 'wrapcauchy']\n",
      "----------------------------------------\n",
      "Discrete Distributions=  (總數 16) = ['bernoulli', 'betabinom', 'binom', 'boltzmann', 'dlaplace', 'geom', 'hypergeom', 'logser', 'nbinom', 'nhypergeom', 'planck', 'poisson', 'randint', 'skellam', 'yulesimon', 'zipf']\n",
      "----------------------------------------\n"
     ]
    }
   ],
   "source": [
    "''' \n",
    "下面指令在Python中，算是較為進階的指令， \n",
    "可以一口氣列出 scipy.stats 中所有的隨機變數 \n",
    "''' \n",
    "     \n",
    "import scipy.stats as st \n",
    "     \n",
    "C= [c  \n",
    "    for c in dir(st)  \n",
    "    if not c.startswith('_') \n",
    "    if isinstance(getattr(st, c),  \n",
    "                  st.rv_continuous) \n",
    "   ] \n",
    "     \n",
    "D= [d  \n",
    "    for d in dir(st)  \n",
    "    if not d.startswith('_') \n",
    "    if isinstance(getattr(st, d),  \n",
    "                  st.rv_discrete) \n",
    "   ] \n",
    "     \n",
    "print(f'Continuous Distributions= (總數 {len(C)}) = {C}') \n",
    "print('-'*40) \n",
    "print(f'Discrete Distributions=  (總數 {len(D)}) = {D}') \n",
    "print('-'*40)"
   ]
  },
  {
   "cell_type": "markdown",
   "id": "86705a9e-78bf-4c36-8b34-705ee7bc02f8",
   "metadata": {
    "heading_collapsed": "true",
    "tags": []
   },
   "source": [
    "### uniform vs normal"
   ]
  },
  {
   "cell_type": "code",
   "execution_count": null,
   "id": "343752ac-5ba5-469a-a066-b060ab6dd1d0",
   "metadata": {},
   "outputs": [],
   "source": [
    "import numpy  as np \n",
    "import pandas as pd  # 偷用一下 \n",
    "\n",
    "%matplotlib qt \n",
    " \n",
    "\n",
    "pl.rcParams['axes.prop_cycle']= pl.cycler( \n",
    "    color=['red',  \n",
    "           'orange',  \n",
    "           'yellow',  \n",
    "           'green', \n",
    "           'cyan', \n",
    "           'blue', \n",
    "           'purple', \n",
    "           'magenta', \n",
    "           'gray', \n",
    "           'black']) \n",
    "     \n",
    "     \n",
    "def ryUniformVsNormal(sampSize= 1000): \n",
    "     \n",
    "    X= pd.DataFrame(np.zeros((sampSize, 1))) \n",
    "    for i in range(0,8): \n",
    "        a= i-1/2 \n",
    "        b= i+1/2 \n",
    "        X[i]= np.random.uniform( \n",
    "                low=  a,  \n",
    "                high= b, \n",
    "                size= sampSize) \n",
    "     \n",
    "    #X= X.cumsum() \n",
    "    X.plot(title= 'uniform', alpha= .5) \n",
    "    X.hist() \n",
    "     \n",
    "     \n",
    "    Y= pd.DataFrame(np.zeros((sampSize, 1))) \n",
    "    for i in range(0,8): \n",
    "        μ= i \n",
    "        σ= 1/2 \n",
    "        Y[i]= np.random.normal(  \n",
    "                loc=   μ,   \n",
    "                scale= σ, \n",
    "                size= sampSize) \n",
    "    #Y=Y.cumsum() \n",
    "    Y.plot(alpha= .5, title= 'normal') \n",
    "    Y.hist() \n",
    "     \n",
    "ryUniformVsNormal(sampSize= 1000) \n"
   ]
  },
  {
   "cell_type": "markdown",
   "id": "bbb869bd-386c-4716-b0c4-6c535b2d07a5",
   "metadata": {
    "tags": []
   },
   "source": [
    "### 數值積分  "
   ]
  },
  {
   "cell_type": "code",
   "execution_count": 73,
   "id": "6a02eafc-1ff5-4753-b35e-6cb54d60e58e",
   "metadata": {},
   "outputs": [
    {
     "data": {
      "text/plain": [
       "<matplotlib.legend.Legend at 0x29df48632b0>"
      ]
     },
     "execution_count": 73,
     "metadata": {},
     "output_type": "execute_result"
    }
   ],
   "source": [
    "# ref: https://docs.scipy.org/doc/scipy/reference/integrate.html \n",
    "# \n",
    "def f(x): \n",
    "    y= x**2          # 這種函數是還好， \n",
    "    #y= (1-x**2)**.5 # 但像這種函數就誤差很大 \n",
    "    return y \n",
    " \n",
    "\n",
    "dx= 1e-5 # dx 不能太大，也不能太小，就是這裡很麻煩！！ \n",
    "x= np.arange(-3, +3, dx) \n",
    " \n",
    "\n",
    "# or \n",
    "''' \n",
    "N= 100000 \n",
    "dx= 1/N \n",
    "x= np.linspace(10,20, N) \n",
    "''' \n",
    "y=     f(x) \n",
    "y0=  np.cumsum(f(x))*dx \n",
    " \n",
    "\n",
    "y1=  np.diff(f(x))  /dx \n",
    "y1=  np.insert(y1,0,y1[0]) \n",
    " \n",
    "\n",
    "plt.plot(x,y,'r', \n",
    "        x,y0,'g', \n",
    "        x,y1,'b') \n",
    " \n",
    "\n",
    "plt.legend(['y','y0, integral','y1, diff']) "
   ]
  },
  {
   "cell_type": "markdown",
   "id": "dc689f50-0a9c-41cc-b035-d9ac6574693f",
   "metadata": {
    "tags": []
   },
   "source": [
    "### multivariate_normal"
   ]
  },
  {
   "cell_type": "code",
   "execution_count": 69,
   "id": "5c6762d8-0503-4d39-963a-3157c91df25e",
   "metadata": {},
   "outputs": [
    {
     "data": {
      "text/plain": [
       "<matplotlib.contour.QuadContourSet at 0x29ddadc4ca0>"
      ]
     },
     "execution_count": 69,
     "metadata": {},
     "output_type": "execute_result"
    }
   ],
   "source": [
    "#st.multivariate_normal? \n",
    " \n",
    "\n",
    "# 先測試一下 .pdf(x= [?,?]) \n",
    " \n",
    "\n",
    "st.multivariate_normal.pdf([0,0]) \n",
    " \n",
    "\n",
    "dx= .01 \n",
    "xx,yy= np.mgrid[-5:5+dx:dx, -5:5+dx:dx] \n",
    "zz= st.multivariate_normal.pdf([xx[0,0],yy[0,0]]) \n",
    "zz \n",
    "\n",
    "xx.shape \n",
    "\n",
    "yy.shape \n",
    " \n",
    "\n",
    "# 如何 把 xx[:,:] 與 yy[:,:] 疊起來 變成 zz[:,:,2] \n",
    "# 這樣 zz 可視為由 2-d vectors 形成的 矩陣， \n",
    "# 整個矩陣就可直接丟進去 .pdf(z[:,:,2], mean= [?,?], cov=[[?,?],[?,?]]) \n",
    " \n",
    "\n",
    "zz= np.stack([xx,yy], axis= -1) \n",
    "zz.shape \n",
    " \n",
    "ff= st.multivariate_normal.pdf( \n",
    "    zz,  \n",
    "    mean= [0,0],  \n",
    "    cov= [[1,0], \n",
    "          [0,1]]) \n",
    "ff.shape \n",
    "\n",
    "\n",
    "%matplotlib qt \n",
    "import matplotlib.pyplot as pl \n",
    "import mpl_toolkits \n",
    " \n",
    "\n",
    "ax= plt.axes(projection='3d',  \n",
    "            xlabel='x',  \n",
    "            ylabel='y', \n",
    "            title= 'z= f(x,y)= multivariate_normal.pdf(x,y)' \n",
    "           ) \n",
    "ax.contour3D(xx,yy,ff,  \n",
    "             100, \n",
    "             cmap='rainbow' \n",
    "            ) "
   ]
  },
  {
   "cell_type": "code",
   "execution_count": 72,
   "id": "524e8020-2015-4afb-9faf-e01742c2d33d",
   "metadata": {},
   "outputs": [
    {
     "data": {
      "text/plain": [
       "<matplotlib.contour.QuadContourSet at 0x29deda3b490>"
      ]
     },
     "execution_count": 72,
     "metadata": {},
     "output_type": "execute_result"
    }
   ],
   "source": [
    "# 山巒起伏的多峰常態分布 \n",
    " \n",
    "\n",
    "dx= .01 \n",
    "xx,yy= np.mgrid[-5:5+dx:dx, -5:5+dx:dx] \n",
    "zz= np.stack([xx,yy], axis= -1) \n",
    "zz.shape \n",
    " \n",
    "\n",
    "ff= np.zeros_like(xx) \n",
    " \n",
    "\n",
    "locations= [ \n",
    "  [ 0,  0], \n",
    "  [ 2,  0], \n",
    "  [ 0,  3], \n",
    "  [-4,  0], \n",
    "  [-2, -3], \n",
    "  [ 3, -2]] \n",
    "     \n",
    "for μ in locations:         \n",
    "    ff += st.multivariate_normal.pdf( \n",
    "        zz,  \n",
    "        mean= μ,  \n",
    "        #cov=  ryCov \n",
    "        ) *1/len(locations) \n",
    "\n",
    "ax= plt.axes(projection='3d',  \n",
    "            xlabel='x',  \n",
    "            ylabel='y', \n",
    "            title= 'z= Σf(x,y)*1/N' \n",
    "           ) \n",
    "ax.contour3D(xx,yy,ff,  \n",
    "             100, \n",
    "             cmap='rainbow' \n",
    "            ) "
   ]
  },
  {
   "cell_type": "markdown",
   "id": "b1bc40bf-4a71-4c83-99f8-2e0f2bf80e5a",
   "metadata": {},
   "source": [
    "### gamma distribution"
   ]
  },
  {
   "cell_type": "code",
   "execution_count": 81,
   "id": "7dc906aa-a9c7-4f2e-b0c2-738a0b0edaae",
   "metadata": {},
   "outputs": [],
   "source": [
    "# scipy.stats 中定義的標準型 gamma Distribution \n",
    "\n",
    "import scipy.stats as st \n",
    " \n",
    "x= np.linspace(0,10,101) \n",
    "\n",
    "plt.figure() \n",
    "for κ in np.arange(0.5, 5.5, .5): \n",
    "     \n",
    "    yy= st.gamma(a=κ).pdf(x) \n",
    "     \n",
    "    plt.plot(x, yy, label = f'κ= {κ}') \n",
    "     \n",
    "plt.xlabel('x') \n",
    "plt.ylabel('g(x; κ)') \n",
    "plt.title('$ g(x;κ) = st.gamma(a=κ).pdf(x)$')\n",
    "plt.legend()\n",
    "plt.grid(True)\n"
   ]
  },
  {
   "cell_type": "code",
   "execution_count": 107,
   "id": "543e9220-879d-4cc8-9677-0ca6a0690ea0",
   "metadata": {},
   "outputs": [
    {
     "data": {
      "text/latex": [
       "$\\displaystyle \\frac{x^{2}}{- a + b}$"
      ],
      "text/plain": [
       "x**2/(-a + b)"
      ]
     },
     "execution_count": 107,
     "metadata": {},
     "output_type": "execute_result"
    }
   ],
   "source": [
    "x, a, b = sp.symbols('x, a, b')\n",
    "f = x**2/(b-a)\n",
    "f"
   ]
  },
  {
   "cell_type": "code",
   "execution_count": 111,
   "id": "ab8007cd-86ba-4324-b67a-36f4210fcec6",
   "metadata": {},
   "outputs": [
    {
     "data": {
      "text/latex": [
       "$\\displaystyle \\frac{a^{2}}{12} - \\frac{a b}{6} + \\frac{b^{2}}{12}$"
      ],
      "text/plain": [
       "a**2/12 - a*b/6 + b**2/12"
      ]
     },
     "execution_count": 111,
     "metadata": {},
     "output_type": "execute_result"
    }
   ],
   "source": [
    "g = f.integrate((x,a,b)) - ((a+b)/2)**2\n",
    "g.simplify()"
   ]
  },
  {
   "cell_type": "code",
   "execution_count": 113,
   "id": "c2cde1a6-bc50-4bf8-8901-dd8d3aef6a74",
   "metadata": {},
   "outputs": [
    {
     "data": {
      "text/latex": [
       "$\\displaystyle \\frac{\\left(a - b\\right)^{2}}{12}$"
      ],
      "text/plain": [
       "(a - b)**2/12"
      ]
     },
     "execution_count": 113,
     "metadata": {},
     "output_type": "execute_result"
    }
   ],
   "source": [
    "v = (b-a)**2/12\n",
    "v.factor()"
   ]
  },
  {
   "cell_type": "code",
   "execution_count": 117,
   "id": "29518fda-7a1f-4301-8741-1921478fea9d",
   "metadata": {},
   "outputs": [
    {
     "data": {
      "text/latex": [
       "$\\displaystyle \\frac{9 \\left(a + b\\right)^{4}}{\\left(a - b\\right)^{4}}$"
      ],
      "text/plain": [
       "9*(a + b)**4/(a - b)**4"
      ]
     },
     "execution_count": 117,
     "metadata": {},
     "output_type": "execute_result"
    }
   ],
   "source": [
    "μ = (a+b)/2\n",
    "v = (b-a)**2/12\n",
    "(μ**4/v**2).simplify()"
   ]
  },
  {
   "cell_type": "code",
   "execution_count": null,
   "id": "daf49d41-d437-40df-b500-8fed288d4380",
   "metadata": {},
   "outputs": [],
   "source": []
  }
 ],
 "metadata": {
  "kernelspec": {
   "display_name": "Python 3",
   "language": "python",
   "name": "python3"
  },
  "language_info": {
   "codemirror_mode": {
    "name": "ipython",
    "version": 3
   },
   "file_extension": ".py",
   "mimetype": "text/x-python",
   "name": "python",
   "nbconvert_exporter": "python",
   "pygments_lexer": "ipython3",
   "version": "3.8.8"
  }
 },
 "nbformat": 4,
 "nbformat_minor": 5
}
