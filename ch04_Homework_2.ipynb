{
 "cells": [
  {
   "cell_type": "code",
   "execution_count": 315,
   "id": "313d200f-a70b-417e-80ad-9ab1e123b8e0",
   "metadata": {},
   "outputs": [],
   "source": [
    "# HomeWorkCh04_02 \n",
    "\n",
    "import numpy as np \n",
    "import matplotlib.pyplot as pl\n",
    "import sympy as sp\n",
    "\n",
    "np.random.seed(0) \n",
    "def generateY(x, w): \n",
    "    ϵ= np.random.normal( \n",
    "        loc=   0.0,  \n",
    "        scale= np.random.uniform(1,10),  \n",
    "        size= x.shape[1])     \n",
    "    x= np.concatenate( \n",
    "            (np.ones((1,N)), \n",
    "             x),  \n",
    "            axis=0) \n",
    "    y= w.T@x +ϵ \n",
    "    return y "
   ]
  },
  {
   "cell_type": "code",
   "execution_count": 316,
   "id": "e6076da9-7533-4c32-afa0-125780ed600d",
   "metadata": {},
   "outputs": [],
   "source": [
    "N =    100 \n",
    "low = -3.0 \n",
    "high = 4.0 \n",
    "b= -3  # y軸 截距 \n",
    "\n",
    "w= np.array([b, 3, -2]) #.reshape(-1,1) \n",
    "\n",
    "x= np.random.uniform(low= low,  \n",
    "                     high=high,  \n",
    "                     size=(2,N))\n",
    "y= generateY(x, w)"
   ]
  },
  {
   "cell_type": "code",
   "execution_count": 317,
   "id": "b29b924f-ac13-4051-b725-3e6497504a03",
   "metadata": {
    "tags": []
   },
   "outputs": [
    {
     "data": {
      "text/plain": [
       "(2, 100)"
      ]
     },
     "execution_count": 317,
     "metadata": {},
     "output_type": "execute_result"
    }
   ],
   "source": [
    "x.shape"
   ]
  },
  {
   "cell_type": "code",
   "execution_count": 318,
   "id": "b2427821-6072-49ee-af5c-9955fc1ec942",
   "metadata": {
    "tags": []
   },
   "outputs": [
    {
     "data": {
      "text/plain": [
       "(100,)"
      ]
     },
     "execution_count": 318,
     "metadata": {},
     "output_type": "execute_result"
    }
   ],
   "source": [
    "y.shape"
   ]
  },
  {
   "cell_type": "code",
   "execution_count": 320,
   "id": "5782fad0-f803-4804-a254-9cf97ba08498",
   "metadata": {},
   "outputs": [
    {
     "data": {
      "text/plain": [
       "Text(0.5, 0, '$y$')"
      ]
     },
     "execution_count": 320,
     "metadata": {},
     "output_type": "execute_result"
    }
   ],
   "source": [
    "%matplotlib qt \n",
    "ax= pl.axes(projection='3d') \n",
    "ax.scatter3D(x[0,:],x[1,:],y, color='red')\n",
    "#ax.scatter3D(x[0,:],x[1,:], yp_sk, color='blue') \n",
    "ax.set_xlabel('$x_0$') \n",
    "ax.set_ylabel('$x_1$') \n",
    "ax.set_zlabel('$y$') "
   ]
  },
  {
   "cell_type": "code",
   "execution_count": 321,
   "id": "7dd46465-f317-43f3-b75c-d4bf48fd05bd",
   "metadata": {},
   "outputs": [
    {
     "data": {
      "text/plain": [
       "(-3.4140507944541505, array([ 2.70205492, -2.03634216]))"
      ]
     },
     "execution_count": 321,
     "metadata": {},
     "output_type": "execute_result"
    }
   ],
   "source": [
    "from sklearn import linear_model \n",
    " \n",
    "# 要用 scikit-learn 的話， x 要轉置成 (100,2) \n",
    "xT= x.T \n",
    "\n",
    "# 然後，就一步到位！ \n",
    "reg= linear_model.LinearRegression() \n",
    "reg.fit(xT, y)  \n",
    "\n",
    "# answer: \n",
    "reg.intercept_, reg.coef_ "
   ]
  },
  {
   "cell_type": "code",
   "execution_count": 323,
   "id": "193698de-370b-460e-b590-4d5a636bb2a4",
   "metadata": {},
   "outputs": [],
   "source": [
    "y_pred = reg.predict(xT)"
   ]
  },
  {
   "cell_type": "code",
   "execution_count": 324,
   "id": "24e540cf-1cc8-4f63-b327-74e820eba981",
   "metadata": {},
   "outputs": [
    {
     "data": {
      "text/plain": [
       "Text(0.5, 0, '$y$')"
      ]
     },
     "execution_count": 324,
     "metadata": {},
     "output_type": "execute_result"
    }
   ],
   "source": [
    "%matplotlib qt \n",
    "ax= pl.axes(projection='3d') \n",
    "ax.scatter3D(x[0,:],x[1,:],y, color='red')\n",
    "ax.scatter3D(x[0,:],x[1,:], y_pred, color='blue') \n",
    "ax.set_xlabel('$x_0$') \n",
    "ax.set_ylabel('$x_1$') \n",
    "ax.set_zlabel('$y$') "
   ]
  },
  {
   "cell_type": "markdown",
   "id": "b9aaf6a8-bd62-4b7a-aed8-803a2a57db17",
   "metadata": {
    "tags": []
   },
   "source": [
    "###  Normal Equation"
   ]
  },
  {
   "cell_type": "markdown",
   "id": "a9367cfa-df73-4d85-b8bf-dccf65c3a6d6",
   "metadata": {},
   "source": [
    "將loss function設為：\n",
    "$$J(x) =\\frac{\\sum{(yp-y)^2}}{2} = \\frac{\\sum{(x_i*w_i-y)^2}}{2}$$\n",
    "\n",
    "這樣微分後就變成：$$\\frac{\\partial J}{\\partial w_i} = \\sum{(yp-y)*x_i}$$"
   ]
  },
  {
   "cell_type": "markdown",
   "id": "3fa9485e-3ba9-4052-a280-ddb2bf5d5927",
   "metadata": {},
   "source": [
    "Gradient descent：\n",
    "$$w_{t+1} = w_t + \\eta(-\\nabla J) = w_t + \\eta\\left(-\\sum{(yp-y)x_i}\\right) = w_t + \\eta(-yd@x)$$"
   ]
  },
  {
   "cell_type": "code",
   "execution_count": 382,
   "id": "1031d346-4ee9-45ff-ac7e-91d5c1213a58",
   "metadata": {
    "tags": []
   },
   "outputs": [],
   "source": [
    "class Km_LR:\n",
    "\n",
    "    def __init__(self):\n",
    "\n",
    "        self.w = np.array([1, 1, 1]) # w = [b, w1, w2]\n",
    "        self.history = np.zeros((0,2)) #紀錄訓練用\n",
    "        self.yp = 0\n",
    "        \n",
    "    def km_fit(self, x, y):\n",
    "        x = np.concatenate((np.ones((1,N)),x),  axis=0)\n",
    "        iters = 100 #迭代次數\n",
    "        η = 0.001 #學習率\n",
    "        \n",
    "        # 開始訓練\n",
    "        for i in range(iters):\n",
    "            #預測值\n",
    "            self.yp = self.f(x)\n",
    "            #誤差\n",
    "            yd = self.yp - y\n",
    "            #損失函數\n",
    "            loss = np.sum(yd**2)/2\n",
    "            #print(loss)\n",
    "\n",
    "            #梯度下降\n",
    "            self.w = self.w - η * (yd@x.T)\n",
    "\n",
    "            #紀錄訓練\n",
    "            self.history = np.vstack((self.history, np.array([i, loss])))\n",
    "    \n",
    "    def f(self, x):\n",
    "        #預測函數\n",
    "        return x.T@self.w"
   ]
  },
  {
   "cell_type": "code",
   "execution_count": 383,
   "id": "9b11b401-11a6-4087-b1d7-59272047a6ab",
   "metadata": {
    "tags": []
   },
   "outputs": [],
   "source": [
    "a = Km_LR()\n",
    "a.km_fit(x, y)"
   ]
  },
  {
   "cell_type": "code",
   "execution_count": 384,
   "id": "b86e4aa1-a34f-4d9d-afbe-3f3b0ea336cd",
   "metadata": {},
   "outputs": [
    {
     "name": "stdout",
     "output_type": "stream",
     "text": [
      "[-3.41338319  2.70199132 -2.03647934]\n",
      "-3.4140507944541505 [ 2.70205492 -2.03634216]\n"
     ]
    }
   ],
   "source": [
    "\n",
    "# 對答案\n",
    "\n",
    "print(a.w)\n",
    "print(reg.intercept_, reg.coef_ )"
   ]
  },
  {
   "cell_type": "code",
   "execution_count": 380,
   "id": "cc10002d-d9fe-4728-a0b0-9ea3fc407751",
   "metadata": {},
   "outputs": [
    {
     "data": {
      "text/plain": [
       "<matplotlib.contour.QuadContourSet at 0x199df710640>"
      ]
     },
     "execution_count": 380,
     "metadata": {},
     "output_type": "execute_result"
    }
   ],
   "source": [
    "%matplotlib qt\n",
    "\n",
    "#畫散布圖\n",
    "ax= pl.axes(projection='3d') \n",
    "ax.scatter3D(x[0,:],x[1,:],y , color='red')\n",
    "ax.scatter3D(x[0,:],x[1,:],a.yp , color='green') \n",
    "ax.set_xlabel('$x_0$') \n",
    "ax.set_ylabel('$x_1$') \n",
    "ax.set_zlabel('$y$')\n",
    "#畫函數圖\n",
    "x0, x1 = np.meshgrid(x[0,:], x[1,:])\n",
    "Y = w[0] + w[1]*x0 + w[2]*x1\n",
    "#ax.plot_surface(x1, x2, Y)\n",
    "#ax.plot_wireframe(x1, x2, Y)\n",
    "ax.contour3D(x1, x2, Y, 30, cmap='cool')"
   ]
  },
  {
   "cell_type": "code",
   "execution_count": 381,
   "id": "39373f3c-d379-4f71-a372-e47ca6fc093f",
   "metadata": {},
   "outputs": [],
   "source": [
    "# 訓練曲線\n",
    "plt.plot(a.history[1:,0], a.history[1:,1])\n",
    "plt.show()"
   ]
  },
  {
   "cell_type": "code",
   "execution_count": null,
   "id": "51a4fe3a-ecb2-435e-a105-e54702c6597e",
   "metadata": {},
   "outputs": [],
   "source": []
  }
 ],
 "metadata": {
  "kernelspec": {
   "display_name": "Python 3",
   "language": "python",
   "name": "python3"
  },
  "language_info": {
   "codemirror_mode": {
    "name": "ipython",
    "version": 3
   },
   "file_extension": ".py",
   "mimetype": "text/x-python",
   "name": "python",
   "nbconvert_exporter": "python",
   "pygments_lexer": "ipython3",
   "version": "3.8.8"
  }
 },
 "nbformat": 4,
 "nbformat_minor": 5
}
