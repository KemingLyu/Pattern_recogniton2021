{
 "cells": [
  {
   "cell_type": "code",
   "execution_count": 179,
   "id": "313d200f-a70b-417e-80ad-9ab1e123b8e0",
   "metadata": {},
   "outputs": [],
   "source": [
    "# HomeWorkCh04_02 \n",
    "\n",
    "import numpy as np \n",
    "import matplotlib.pyplot as pl\n",
    "import sympy as sp\n",
    "\n",
    "np.random.seed(0) \n",
    "def generateY(x, w): \n",
    "    ϵ= np.random.normal( \n",
    "        loc=   0.0,  \n",
    "        scale= np.random.uniform(1,10),  \n",
    "        size= x.shape[1])     \n",
    "    x= np.concatenate( \n",
    "            (np.ones((1,N)), \n",
    "             x),  \n",
    "            axis=0) \n",
    "    y= w.T@x +ϵ \n",
    "    return y "
   ]
  },
  {
   "cell_type": "code",
   "execution_count": 180,
   "id": "e6076da9-7533-4c32-afa0-125780ed600d",
   "metadata": {},
   "outputs": [],
   "source": [
    "N =    100 \n",
    "low = -3.0 \n",
    "high = 4.0 \n",
    "b= -3  # y軸 截距 \n",
    "\n",
    "w= np.array([b, 3, -2]) #.reshape(-1,1) \n",
    "\n",
    "x= np.random.uniform(low= low,  \n",
    "                     high=high,  \n",
    "                     size=(2,N))\n",
    "y= generateY(x, w)"
   ]
  },
  {
   "cell_type": "code",
   "execution_count": 181,
   "id": "b29b924f-ac13-4051-b725-3e6497504a03",
   "metadata": {
    "tags": []
   },
   "outputs": [
    {
     "data": {
      "text/plain": [
       "(2, 100)"
      ]
     },
     "execution_count": 181,
     "metadata": {},
     "output_type": "execute_result"
    }
   ],
   "source": [
    "x.shape"
   ]
  },
  {
   "cell_type": "code",
   "execution_count": 182,
   "id": "b2427821-6072-49ee-af5c-9955fc1ec942",
   "metadata": {
    "tags": []
   },
   "outputs": [
    {
     "data": {
      "text/plain": [
       "(100,)"
      ]
     },
     "execution_count": 182,
     "metadata": {},
     "output_type": "execute_result"
    }
   ],
   "source": [
    "y.shape"
   ]
  },
  {
   "cell_type": "code",
   "execution_count": 183,
   "id": "5782fad0-f803-4804-a254-9cf97ba08498",
   "metadata": {},
   "outputs": [
    {
     "data": {
      "text/plain": [
       "Text(0.5, 0, '$y$')"
      ]
     },
     "execution_count": 183,
     "metadata": {},
     "output_type": "execute_result"
    }
   ],
   "source": [
    "%matplotlib qt \n",
    "ax= pl.axes(projection='3d') \n",
    "ax.scatter3D(x[0,:],x[1,:],y, color='red') \n",
    "ax.set_xlabel('$x_0$') \n",
    "ax.set_ylabel('$x_1$') \n",
    "ax.set_zlabel('$y$') "
   ]
  },
  {
   "cell_type": "code",
   "execution_count": 184,
   "id": "7dd46465-f317-43f3-b75c-d4bf48fd05bd",
   "metadata": {},
   "outputs": [
    {
     "data": {
      "text/plain": [
       "(-3.4140507944541505, array([ 2.70205492, -2.03634216]))"
      ]
     },
     "execution_count": 184,
     "metadata": {},
     "output_type": "execute_result"
    }
   ],
   "source": [
    "from sklearn import linear_model \n",
    " \n",
    "# 要用 scikit-learn 的話， x 要轉置成 (100,2) \n",
    "xT= x.T \n",
    "\n",
    "# 然後，就一步到位！ \n",
    "reg= linear_model.LinearRegression() \n",
    "reg.fit(xT, y)  \n",
    "\n",
    "# answer: \n",
    "reg.intercept_, reg.coef_ "
   ]
  },
  {
   "cell_type": "markdown",
   "id": "b9aaf6a8-bd62-4b7a-aed8-803a2a57db17",
   "metadata": {
    "tags": []
   },
   "source": [
    "###  Normal Equation"
   ]
  },
  {
   "cell_type": "code",
   "execution_count": 255,
   "id": "342ebcd6-df57-4679-aba1-dfbe96e2667a",
   "metadata": {
    "tags": []
   },
   "outputs": [
    {
     "data": {
      "text/plain": [
       "(100, 3)"
      ]
     },
     "execution_count": 255,
     "metadata": {},
     "output_type": "execute_result"
    }
   ],
   "source": [
    "#在column=0插入100個1，跟bias做計算\n",
    "x = np.insert(x.reshape(100,2), 0, 1, axis=1)\n",
    "x.shape"
   ]
  },
  {
   "cell_type": "code",
   "execution_count": 256,
   "id": "ad8cfe76-808e-4064-9e53-9d200186d031",
   "metadata": {},
   "outputs": [],
   "source": [
    "# 預測函數\n",
    "# w = [b, w1, w2]\n",
    "def f(x, w):\n",
    "    return x@w"
   ]
  },
  {
   "cell_type": "markdown",
   "id": "619caf41-4f78-4c78-a453-6025101d8a5e",
   "metadata": {},
   "source": [
    "將loss function設為：\n",
    "$$J(x) =\\frac{\\sum{(yp-y)^2}}{2} = \\frac{\\sum{(x_i*w_i-y)^2}}{2}$$\n",
    "\n",
    "這樣微分後就變成：$$\\frac{\\partial J}{\\partial w_i} = \\sum{(yp-y)*x_i}$$\n",
    "\n",
    "Gradient descent：$$w_{t+1} = w_t + \\eta\\left(-\\nabla J\\right) = w_t + \\eta\\left(-\\sum{(yp-y)x_i}\\right) = w_t + \\eta\\left(-yd@x\\right)$$"
   ]
  },
  {
   "cell_type": "code",
   "execution_count": 262,
   "id": "0d9a6fa3-ecba-409a-ace1-5cd47fe1f5b4",
   "metadata": {
    "tags": []
   },
   "outputs": [],
   "source": [
    "w = np.array([1, 1, 1]) # w = [b, w1, w2]\n",
    "η = 0.01 #學習率\n",
    "history = np.zeros((0,2)) #紀錄訓練用\n",
    "iters = 100 #迭代次數\n",
    "\n",
    "# 開始訓練\n",
    "for i in range(iters):\n",
    "    #預測值\n",
    "    yp = f(x, w) \n",
    "    #誤差\n",
    "    yd = yp - y\n",
    "    #損失函數\n",
    "    loss = np.sum(yd**2)/2\n",
    "    #print(loss)\n",
    "    \n",
    "    #梯度下降\n",
    "    w = w - η * (x.T@yd)\n",
    "    \n",
    "    #紀錄訓練\n",
    "    history = np.vstack((history, np.array([i, loss])))"
   ]
  },
  {
   "cell_type": "code",
   "execution_count": 269,
   "id": "79b83287-94fb-4cd1-b26a-cc3f77d6fd6e",
   "metadata": {},
   "outputs": [
    {
     "data": {
      "text/plain": [
       "<matplotlib.contour.QuadContourSet at 0x199c4c890d0>"
      ]
     },
     "execution_count": 269,
     "metadata": {},
     "output_type": "execute_result"
    }
   ],
   "source": [
    "%matplotlib qt\n",
    "\n",
    "#畫散布圖\n",
    "ax= pl.axes(projection='3d') \n",
    "pl.xlabel('x1')\n",
    "pl.ylabel('x2')\n",
    "ax.scatter3D(x[:,1],x[:,2], y, color='red') \n",
    "ax.scatter3D(x[:,1],x[:,2], yp, color='green')\n",
    "\n",
    "#畫函數圖\n",
    "x1, x2 = np.meshgrid(x[:,1], x[:,2])\n",
    "Y = w[0] + w[1]*x1 + w[2]*x2\n",
    "#ax.plot_surface(x1, x2, Y)\n",
    "#ax.plot_wireframe(x1, x2, Y)\n",
    "ax.contour3D(x1, x2, Y, 30, cmap='plasma')"
   ]
  },
  {
   "cell_type": "code",
   "execution_count": 268,
   "id": "39373f3c-d379-4f71-a372-e47ca6fc093f",
   "metadata": {},
   "outputs": [],
   "source": [
    "# 訓練曲線\n",
    "plt.plot(history[1:,0], history[1:,1])\n",
    "plt.show()"
   ]
  }
 ],
 "metadata": {
  "kernelspec": {
   "display_name": "Python 3",
   "language": "python",
   "name": "python3"
  },
  "language_info": {
   "codemirror_mode": {
    "name": "ipython",
    "version": 3
   },
   "file_extension": ".py",
   "mimetype": "text/x-python",
   "name": "python",
   "nbconvert_exporter": "python",
   "pygments_lexer": "ipython3",
   "version": "3.8.8"
  }
 },
 "nbformat": 4,
 "nbformat_minor": 5
}
