{
 "cells": [
  {
   "cell_type": "code",
   "execution_count": 19,
   "id": "acd7dbaa-c0fd-4e18-ba23-2595ff07af78",
   "metadata": {},
   "outputs": [],
   "source": [
    "import os\n",
    "import sys\n",
    "import glob\n",
    "import matplotlib.pyplot as plt\n",
    "import numpy as np\n",
    "import pandas as pd\n",
    "%matplotlib inline\n",
    "%precision 4\n",
    "plt.style.use('ggplot')"
   ]
  },
  {
   "cell_type": "markdown",
   "id": "af304e55-d07f-4edb-ab5d-474f1807597e",
   "metadata": {},
   "source": [
    "## LU Decomposition"
   ]
  },
  {
   "cell_type": "code",
   "execution_count": 20,
   "id": "c3b0e50e-173e-4c06-907d-cd181c587960",
   "metadata": {},
   "outputs": [
    {
     "name": "stdout",
     "output_type": "stream",
     "text": [
      "[[1. 3. 4.]\n",
      " [2. 1. 3.]\n",
      " [4. 1. 2.]]\n",
      "[[1.  0.  0. ]\n",
      " [2.  1.  0. ]\n",
      " [4.  2.2 1. ]]\n",
      "[[ 1  3  4]\n",
      " [ 0 -5 -5]\n",
      " [ 0  0 -3]]\n"
     ]
    }
   ],
   "source": [
    "import scipy.linalg as la\n",
    "np.set_printoptions(suppress=True)\n",
    "\n",
    "A = np.array([[1,3,4],[2,1,3],[4,1,2]])\n",
    "\n",
    "L = np.array([[1,0,0],[2,1,0],[4,11/5,1]])\n",
    "U = np.array([[1,3,4],[0,-5,-5],[0,0,-3]])\n",
    "print(L.dot(U))\n",
    "print(L)\n",
    "print(U)"
   ]
  },
  {
   "cell_type": "markdown",
   "id": "27e50751-0b35-4549-9deb-7505f86c20ec",
   "metadata": {},
   "source": [
    "## Gaussian Elimination"
   ]
  },
  {
   "cell_type": "code",
   "execution_count": 21,
   "id": "9b2c1366-277f-4543-ae00-0b5b19a2b002",
   "metadata": {},
   "outputs": [
    {
     "name": "stdout",
     "output_type": "stream",
     "text": [
      "[[1 3 4]\n",
      " [2 1 3]\n",
      " [4 1 2]]\n",
      "[[4. 1. 2.]\n",
      " [1. 3. 4.]\n",
      " [2. 1. 3.]]\n",
      "[[4. 1. 2.]\n",
      " [1. 3. 4.]\n",
      " [2. 1. 3.]]\n",
      "[[0. 1. 0.]\n",
      " [0. 0. 1.]\n",
      " [1. 0. 0.]]\n",
      "[[1.     0.     0.    ]\n",
      " [0.25   1.     0.    ]\n",
      " [0.5    0.1818 1.    ]]\n",
      "[[4.     1.     2.    ]\n",
      " [0.     2.75   3.5   ]\n",
      " [0.     0.     1.3636]]\n"
     ]
    }
   ],
   "source": [
    "np.set_printoptions(suppress=True)\n",
    "\n",
    "A = np.array([[1,3,4],[2,1,3],[4,1,2]])\n",
    "\n",
    "print(A)\n",
    "\n",
    "P, L, U = la.lu(A)\n",
    "print(np.dot(P.T, A))\n",
    "print\n",
    "print(np.dot(L, U))\n",
    "print(P)\n",
    "print(L)\n",
    "print(U)"
   ]
  },
  {
   "cell_type": "markdown",
   "id": "cf3a2d18-995d-4986-8209-c9eb8ded63bc",
   "metadata": {},
   "source": [
    "## Cholesky Decomposition"
   ]
  },
  {
   "cell_type": "code",
   "execution_count": 22,
   "id": "4a4c96b1-8873-410e-a04c-ae03cbc282ec",
   "metadata": {},
   "outputs": [
    {
     "name": "stdout",
     "output_type": "stream",
     "text": [
      "[[ 1.  3.  5.]\n",
      " [ 3. 13. 23.]\n",
      " [ 5. 23. 42.]]\n",
      "[[1. 3. 5.]\n",
      " [0. 2. 4.]\n",
      " [0. 0. 1.]]\n",
      "[[ 1  3  5]\n",
      " [ 3 13 23]\n",
      " [ 5 23 42]]\n"
     ]
    }
   ],
   "source": [
    "A = np.array([[1,3,5],[3,13,23],[5,23,42]])\n",
    "L = la.cholesky(A)\n",
    "print(np.dot(L.T, L))\n",
    "\n",
    "print(L)\n",
    "print(A)"
   ]
  },
  {
   "cell_type": "markdown",
   "id": "27cd09f2-27d2-4f94-92c1-324d58f0dc42",
   "metadata": {},
   "source": [
    "## Eigendecomposition"
   ]
  },
  {
   "cell_type": "code",
   "execution_count": 23,
   "id": "678ac997-9e0d-477b-992a-1ed53d132380",
   "metadata": {},
   "outputs": [
    {
     "name": "stdout",
     "output_type": "stream",
     "text": [
      "[[ 0.+0.j  1.+0.j  1.+0.j]\n",
      " [ 2.+0.j  1.+0.j -0.+0.j]\n",
      " [ 3.+0.j  4.+0.j  5.+0.j]]\n",
      "[ 5.8541+0.j -0.8541+0.j  1.    +0.j]\n"
     ]
    }
   ],
   "source": [
    "A = np.array([[0,1,1],[2,1,0],[3,4,5]])\n",
    "\n",
    "u, V = la.eig(A)\n",
    "print(np.dot(V,np.dot(np.diag(u), la.inv(V))))\n",
    "print(u)"
   ]
  },
  {
   "cell_type": "code",
   "execution_count": 24,
   "id": "031cd9c1-7d17-4284-b148-f53bbf41bf77",
   "metadata": {},
   "outputs": [
    {
     "name": "stdout",
     "output_type": "stream",
     "text": [
      "[[ 0  1]\n",
      " [-1  0]]\n",
      "[[ 0.+0.j  1.+0.j]\n",
      " [-1.+0.j  0.+0.j]]\n",
      "[0.+1.j 0.-1.j]\n"
     ]
    }
   ],
   "source": [
    "A = np.array([[0,1],[-1,0]])\n",
    "print(A)\n",
    "\n",
    "u, V = la.eig(A)\n",
    "print(np.dot(V,np.dot(np.diag(u), la.inv(V))))\n",
    "print(u)"
   ]
  },
  {
   "cell_type": "code",
   "execution_count": 25,
   "id": "759b586c-f390-4f2a-9e6f-bd3708c59827",
   "metadata": {},
   "outputs": [
    {
     "name": "stdout",
     "output_type": "stream",
     "text": [
      "[ 5.8541+0.j -0.8541+0.j  1.    +0.j]\n",
      "[ 5.8541 -0.8541  1.    ]\n"
     ]
    }
   ],
   "source": [
    "# If you know the eigenvalues must be real\n",
    "# because A is a positive definite (e.g. covariance) matrix\n",
    "# use real_if_close\n",
    "\n",
    "A = np.array([[0,1,1],[2,1,0],[3,4,5]])\n",
    "u, V = la.eig(A)\n",
    "print(u)\n",
    "print(np.real_if_close(u))"
   ]
  },
  {
   "cell_type": "markdown",
   "id": "3cf9cb4e-f55b-4999-a57f-b6bcd1275224",
   "metadata": {},
   "source": [
    "## Stabilty and Condition Number"
   ]
  },
  {
   "cell_type": "markdown",
   "id": "29885432-646f-474a-b50e-a5f84c0a8c91",
   "metadata": {},
   "source": [
    "Example:\n",
    "\n",
    "$\n",
    "\\left[\n",
    "\\begin{matrix}\n",
    "8 & 6 & 4 & 1\\\\\n",
    "1 & 4 & 5 & 1\\\\\n",
    "8 & 4 & 1 & 1\\\\\n",
    "1 & 4 & 3 & 6\\\\\n",
    "\\end{matrix}\n",
    "\\right]\n",
    "x = \n",
    "\\begin{bmatrix}\n",
    "19\\\\11\\\\14\\\\14\n",
    "\\end{bmatrix}\n",
    "$\n"
   ]
  },
  {
   "cell_type": "code",
   "execution_count": 26,
   "id": "4a17fe78-48e7-47ff-8af4-d5311be8e73d",
   "metadata": {},
   "outputs": [
    {
     "data": {
      "text/plain": [
       "array([1., 1., 1., 1.])"
      ]
     },
     "execution_count": 26,
     "metadata": {},
     "output_type": "execute_result"
    }
   ],
   "source": [
    "A = np.array([[8,6,4,1],[1,4,5,1],[8,4,1,1],[1,4,3,6]])\n",
    "b = np.array([19,11,14,14])\n",
    "la.solve(A,b)"
   ]
  },
  {
   "cell_type": "code",
   "execution_count": 27,
   "id": "bc28039c-2e8f-40b8-8842-78e6a147a986",
   "metadata": {},
   "outputs": [
    {
     "data": {
      "text/plain": [
       "array([-2.34 ,  9.745, -4.85 , -1.34 ])"
      ]
     },
     "execution_count": 27,
     "metadata": {},
     "output_type": "execute_result"
    }
   ],
   "source": [
    "b = np.array([19.01,11.05,14.07,14.05])\n",
    "la.solve(A,b)"
   ]
  },
  {
   "cell_type": "code",
   "execution_count": 28,
   "id": "d0bbdcda-e9dd-44bd-8abe-7e6b3d4fde28",
   "metadata": {},
   "outputs": [
    {
     "name": "stdout",
     "output_type": "stream",
     "text": [
      "[15.5457  6.9002  3.8363  0.0049]\n",
      "3198.6725811997335\n"
     ]
    }
   ],
   "source": [
    "U, s, V = np.linalg.svd(A)\n",
    "print(s)\n",
    "print(max(s)/min(s))"
   ]
  },
  {
   "cell_type": "markdown",
   "id": "2a424c1f-3cc6-47ae-ada3-b716e72fad6f",
   "metadata": {},
   "source": [
    "## Exercises"
   ]
  },
  {
   "cell_type": "markdown",
   "id": "de1aa307-b9a9-495c-8bbc-5f6a3c66b249",
   "metadata": {},
   "source": [
    "#### 1. Compute the LU decomposition of the following matrix by hand and using numpy\n",
    "$$\n",
    "\\left[\n",
    "\\begin{matrix}\n",
    "1 & 2 & 3\\\\\n",
    "2 & -4 & 6\\\\\n",
    "3 & -9 & -3\\\\\n",
    "\\end{matrix}\n",
    "\\right]\n",
    "$$\n",
    "Solution:"
   ]
  },
  {
   "cell_type": "code",
   "execution_count": 54,
   "id": "76c66b6d-56d2-4815-b746-ca4ef2811d86",
   "metadata": {},
   "outputs": [
    {
     "name": "stdout",
     "output_type": "stream",
     "text": [
      "[[ 1.  2.  3.]\n",
      " [ 2. -4.  6.]\n",
      " [ 3. -9. -3.]]\n",
      "[[1.    0.    0.   ]\n",
      " [2.    1.    0.   ]\n",
      " [3.    1.875 1.   ]]\n",
      "[[  1   2   3]\n",
      " [  0  -8   0]\n",
      " [  0   0 -12]]\n"
     ]
    }
   ],
   "source": [
    "np.set_printoptions(suppress=True)\n",
    "\n",
    "A = np.array([[1,2,3],[2,-4,6],[3,-9,-3]])\n",
    "\n",
    "L = np.array([[1,0,0],[2,1,0],[3,15/8,1]])\n",
    "U = np.array([[1,2,3],[0,-8,0],[0,0,-12]])\n",
    "print(L.dot(U))\n",
    "print(L)\n",
    "print(U)"
   ]
  },
  {
   "cell_type": "code",
   "execution_count": 57,
   "id": "f5d4e84d-079a-4d44-b952-14d1d1cb8cf2",
   "metadata": {},
   "outputs": [
    {
     "data": {
      "text/plain": [
       "(array([[0., 1., 0.],\n",
       "        [0., 0., 1.],\n",
       "        [1., 0., 0.]]),\n",
       " array([[1.    , 0.    , 0.    ],\n",
       "        [0.3333, 1.    , 0.    ],\n",
       "        [0.6667, 0.4   , 1.    ]]),\n",
       " array([[ 3. , -9. , -3. ],\n",
       "        [ 0. ,  5. ,  4. ],\n",
       "        [ 0. ,  0. ,  6.4]]))"
      ]
     },
     "execution_count": 57,
     "metadata": {},
     "output_type": "execute_result"
    }
   ],
   "source": [
    "import scipy.linalg as sp_linalg\n",
    "P,L,U= sp_linalg.lu(A)\n",
    "P, L, U"
   ]
  },
  {
   "cell_type": "code",
   "execution_count": 60,
   "id": "6f88209e-0da8-4587-9c3b-542b4e1fe9da",
   "metadata": {},
   "outputs": [
    {
     "data": {
      "text/plain": [
       "array([[ 1.,  2.,  3.],\n",
       "       [ 2., -4.,  6.],\n",
       "       [ 3., -9., -3.]])"
      ]
     },
     "execution_count": 60,
     "metadata": {},
     "output_type": "execute_result"
    }
   ],
   "source": [
    "P@L@U"
   ]
  },
  {
   "cell_type": "markdown",
   "id": "dee4885d-854d-4c1e-be86-f7c69a4a8425",
   "metadata": {},
   "source": [
    "#### 2. Compute the Cholesky decomposition of the following matrix by hand and using numpy\n",
    "$$\n",
    "\\left[\n",
    "\\begin{matrix}\n",
    "1 & 2 & 3\\\\\n",
    "2 & -4 & 6\\\\\n",
    "3 & -9 & -3\\\\\n",
    "\\end{matrix}\n",
    "\\right]\n",
    "$$\n",
    "Solution:"
   ]
  },
  {
   "cell_type": "code",
   "execution_count": 70,
   "id": "6136e1c3-c99c-4621-8eea-c497688e4197",
   "metadata": {},
   "outputs": [
    {
     "name": "stdout",
     "output_type": "stream",
     "text": [
      "[[ 1.  3.  5.]\n",
      " [ 3. 13. 23.]\n",
      " [ 5. 23. 42.]]\n",
      "[[1. 3. 5.]\n",
      " [0. 2. 4.]\n",
      " [0. 0. 1.]]\n",
      "[[ 1  3  5]\n",
      " [ 3 13 23]\n",
      " [ 5 23 42]]\n"
     ]
    }
   ],
   "source": [
    "\n",
    "A = np.array([[1,2,3],[2,-4,6],[3,-9,-3]])\n",
    "\n",
    "#L = la.cholesky(A)\n",
    "L = sp_linalg.cholesky(A)\n",
    "print(np.dot(L.T, L))\n",
    "\n",
    "print(L)\n",
    "print(A)"
   ]
  },
  {
   "cell_type": "markdown",
   "id": "8e2fcf43-911b-4405-b9ee-4e0bac4cce57",
   "metadata": {},
   "source": [
    "#### 3. Write a function in Python to solve a system\n",
    "\n",
    "$$Ax=b$$\n",
    "\n",
    "using SVD decomposition. Your function should take A and b as input and return x.\n",
    "\n",
    "Your function should include the following:\n",
    "\n",
    "First, check that A is invertible - return error message if it is not\n",
    "Invert A using SVD and solve\n",
    "return x\n",
    "Test your function for correctness."
   ]
  },
  {
   "cell_type": "code",
   "execution_count": 63,
   "id": "e891189f-9972-44ef-8cfd-95ee17a75e55",
   "metadata": {},
   "outputs": [],
   "source": [
    "def svdsolver(A,b):\n",
    "    U, s, V = np.linalg.svd(A)\n",
    "    if np.prod(s) == 0:\n",
    "        print(\"Matrix is singular\")\n",
    "    else:\n",
    "        return np.dot(np.dot((V.T).dot(np.diag(s**(-1))), U.T),b)"
   ]
  },
  {
   "cell_type": "code",
   "execution_count": 64,
   "id": "ab5f48ec-2c38-472a-9b94-e8fca549ae10",
   "metadata": {},
   "outputs": [
    {
     "name": "stdout",
     "output_type": "stream",
     "text": [
      "[ 5. -2.]\n",
      "[ 5. -2.]\n"
     ]
    }
   ],
   "source": [
    "A = np.array([[1,1],[1,2]])\n",
    "b = np.array([3,1])\n",
    "print(np.linalg.solve(A,b))\n",
    "print(svdsolver(A,b))"
   ]
  }
 ],
 "metadata": {
  "kernelspec": {
   "display_name": "Python 3",
   "language": "python",
   "name": "python3"
  },
  "language_info": {
   "codemirror_mode": {
    "name": "ipython",
    "version": 3
   },
   "file_extension": ".py",
   "mimetype": "text/x-python",
   "name": "python",
   "nbconvert_exporter": "python",
   "pygments_lexer": "ipython3",
   "version": "3.8.8"
  }
 },
 "nbformat": 4,
 "nbformat_minor": 5
}
