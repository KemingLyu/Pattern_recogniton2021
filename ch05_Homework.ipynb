{
 "cells": [
  {
   "cell_type": "markdown",
   "id": "9469fcec-0317-40ee-80f0-a34728427c83",
   "metadata": {},
   "source": [
    "### Polynomial regression 預測 google"
   ]
  },
  {
   "cell_type": "code",
   "execution_count": 83,
   "id": "c6f2fb21-84ce-4c44-a671-91ed3a2e1601",
   "metadata": {},
   "outputs": [],
   "source": [
    "%matplotlib qt\n",
    "import yfinance as yf\n",
    "import numpy as np\n",
    "import pandas as pd\n",
    "import matplotlib.pyplot as plt"
   ]
  },
  {
   "cell_type": "code",
   "execution_count": 41,
   "id": "c8b6bef7-1b1b-41bd-9480-ea856967e61b",
   "metadata": {},
   "outputs": [],
   "source": [
    "from sklearn.preprocessing import PolynomialFeatures\n",
    "from sklearn.linear_model import LinearRegression\n",
    "from sklearn.pipeline import make_pipeline"
   ]
  },
  {
   "cell_type": "code",
   "execution_count": 54,
   "id": "12c16f5b-f04a-4fda-92fd-2bca6e440623",
   "metadata": {},
   "outputs": [],
   "source": [
    "tk = yf.Ticker('Googl')\n",
    "#tk"
   ]
  },
  {
   "cell_type": "code",
   "execution_count": 74,
   "id": "ff9e3c04-e348-4f5c-90a8-dc2291634b84",
   "metadata": {
    "tags": []
   },
   "outputs": [],
   "source": [
    "# period=日期範圍 (1d,5d,1mo,3mo,6mo,1y,2y,5y,10y,ytd,max)\n",
    "# interval=頻率 (1m,2m,5m,15m,30m,60m,90m,1h,1d,5d,1wk,1mo,3mo)\n",
    "\n",
    "tkHist = tk.history(period='6mo')\n",
    "#tkHist"
   ]
  },
  {
   "cell_type": "code",
   "execution_count": 90,
   "id": "2a5d116b-e44b-47f5-b56b-0cd3a4b1da56",
   "metadata": {
    "tags": []
   },
   "outputs": [],
   "source": [
    "#第一天當作 0\n",
    "days = (tkHist.index - tkHist.index[0]).days\n",
    "\n",
    "x = np.array(days).reshape(-1, 1)\n",
    "\n",
    "y = tkHist.Open.values\n",
    "\n",
    "fig, ax= plt.subplots(3,3)\n",
    "\n",
    "#fig.set_size_inches(12,6) # width, height in inches\n",
    "\n",
    "for p in range(1,10):\n",
    "    # p 表示次方, 從1到10次方\n",
    "    poly_model = make_pipeline(PolynomialFeatures(p), LinearRegression())\n",
    "    \n",
    "    poly_model.fit(x, y)\n",
    "\n",
    "    yfit = poly_model.predict(x)\n",
    "    \n",
    "    i, j = (p-1)//3, (p-1)%3\n",
    "    \n",
    "    ax[i,j].plot(tkHist.index, y)\n",
    "    ax[i,j].plot(tkHist.index, yfit, label=p)\n",
    "    ax[i,j].grid(True)\n",
    "    ax[i,j].legend()\n",
    "    \n",
    "plt.show()"
   ]
  },
  {
   "cell_type": "code",
   "execution_count": 92,
   "id": "34a82cfe-33ec-47a4-8149-a83870ea2bcb",
   "metadata": {
    "tags": []
   },
   "outputs": [],
   "source": [
    "plt.plot(tkHist.index, y)\n",
    "\n",
    "for p in range(1,11):\n",
    "    # p 表示次方, 從1到10次方\n",
    "    poly_model = make_pipeline(PolynomialFeatures(p), LinearRegression())\n",
    "    \n",
    "    poly_model.fit(x, y)\n",
    "\n",
    "    yfit = poly_model.predict(x)\n",
    "    \n",
    "    plt.plot(tkHist.index, yfit, label=p)\n",
    "    \n",
    "plt.grid(True)   \n",
    "plt.legend()\n",
    "plt.show()"
   ]
  },
  {
   "cell_type": "code",
   "execution_count": null,
   "id": "a7ab888b-527e-46a3-aab3-a7e57fb8b12d",
   "metadata": {},
   "outputs": [],
   "source": []
  }
 ],
 "metadata": {
  "kernelspec": {
   "display_name": "Python 3 (ipykernel)",
   "language": "python",
   "name": "python3"
  },
  "language_info": {
   "codemirror_mode": {
    "name": "ipython",
    "version": 3
   },
   "file_extension": ".py",
   "mimetype": "text/x-python",
   "name": "python",
   "nbconvert_exporter": "python",
   "pygments_lexer": "ipython3",
   "version": "3.8.8"
  }
 },
 "nbformat": 4,
 "nbformat_minor": 5
}
