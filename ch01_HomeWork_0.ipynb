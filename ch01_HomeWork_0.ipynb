{
 "cells": [
  {
   "cell_type": "markdown",
   "id": "aa9ab2d3-5e8f-48cf-8e3e-f91c92bca51e",
   "metadata": {},
   "source": [
    "# ch01_HomeWork_0"
   ]
  },
  {
   "cell_type": "markdown",
   "id": "de0f8387-b560-48de-a744-5d86d475d150",
   "metadata": {},
   "source": [
    "自己 出 3, 5, 10 變數線性方程組共3題， 以numpy 求解 (含驗算)， \n",
    "\n",
    "並撰寫文件(含心得討論)。 \n",
    " "
   ]
  },
  {
   "cell_type": "code",
   "execution_count": 7,
   "id": "f0943d91-884a-4411-9699-5495cfb97881",
   "metadata": {},
   "outputs": [],
   "source": [
    "import numpy as np"
   ]
  },
  {
   "cell_type": "markdown",
   "id": "bff7b6a4-c24b-49da-84a7-3f4289aa33f7",
   "metadata": {},
   "source": [
    "## 3 變數"
   ]
  },
  {
   "cell_type": "code",
   "execution_count": 63,
   "id": "d8166566-8a2e-4f0b-89ab-b99c96f45e01",
   "metadata": {},
   "outputs": [
    {
     "name": "stdout",
     "output_type": "stream",
     "text": [
      "n= 3,  \n",
      "A= [[ 0 -5 -2]\n",
      " [-2  2  4]\n",
      " [-2  0 -3]] \n",
      "b= [[0]\n",
      " [3]\n",
      " [4]] \n",
      "x= [[-1.75806452]\n",
      " [ 0.06451613]\n",
      " [-0.16129032]]\n"
     ]
    }
   ],
   "source": [
    "n= 3\n",
    "\n",
    "np.random.seed(0) #設隨機種子碼，使產生的方程式固定\n",
    "\n",
    "A= np.random.randint(-5,5,size=(n,n))  #產生n*n的矩陣，數字範圍在(-5,5)\n",
    "\n",
    "np.random.seed(1) #設隨機種子碼，使產生的方程式固定\n",
    "\n",
    "b= np.random.randint(-5,5,size=(n,1))  #產生1*n的矩陣，數字範圍在(-5,5)\n",
    " \n",
    "x= np.linalg.solve(A, b) #解方程式\n",
    "\n",
    "print(f'n= {n},  \\nA= {A} \\nb= {b} \\nx= {x}') #顯示結果"
   ]
  },
  {
   "cell_type": "code",
   "execution_count": 64,
   "id": "54362b4e-5601-4b9c-8df6-a06330721be3",
   "metadata": {},
   "outputs": [
    {
     "data": {
      "text/plain": [
       "array([[0.],\n",
       "       [3.],\n",
       "       [4.]])"
      ]
     },
     "execution_count": 64,
     "metadata": {},
     "output_type": "execute_result"
    }
   ],
   "source": [
    "#驗算\n",
    "A @ x"
   ]
  },
  {
   "cell_type": "markdown",
   "id": "187d5bc7-94b9-4f6e-a31c-485dd2c14e02",
   "metadata": {},
   "source": [
    "## 5 變數"
   ]
  },
  {
   "cell_type": "code",
   "execution_count": 73,
   "id": "b0eede7d-f44c-4495-9fd2-ef28c181ad9f",
   "metadata": {},
   "outputs": [
    {
     "name": "stdout",
     "output_type": "stream",
     "text": [
      "n= 5,  \n",
      "A= [[ 3  3  1 -3  3]\n",
      " [ 2 -3 -4  0 -1]\n",
      " [-1  0  2 -2  1]\n",
      " [-1 -2  2  1 -4]\n",
      " [-2  0  3 -1  1]] \n",
      "b= [[ 3]\n",
      " [ 4]\n",
      " [-2]\n",
      " [ 3]\n",
      " [ 3]] \n",
      "x= [[ 6.13235294]\n",
      " [-6.04411765]\n",
      " [ 5.38235294]\n",
      " [ 5.75      ]\n",
      " [ 4.86764706]]\n"
     ]
    }
   ],
   "source": [
    "n= 5 \n",
    "\n",
    "np.random.seed(2) \n",
    "\n",
    "A= np.random.randint(-5,5,size=(n,n)) \n",
    "\n",
    "np.random.seed(3)\n",
    "\n",
    "b= np.random.randint(-5,5,size=(n,1)) \n",
    "\n",
    "x= np.linalg.solve(A, b) \n",
    "\n",
    "print(f'n= {n},  \\nA= {A} \\nb= {b} \\nx= {x}') "
   ]
  },
  {
   "cell_type": "code",
   "execution_count": 75,
   "id": "3f34a3c1-0835-43a9-928e-19156f9558f1",
   "metadata": {},
   "outputs": [
    {
     "data": {
      "text/plain": [
       "array([[ 3.],\n",
       "       [ 4.],\n",
       "       [-2.],\n",
       "       [ 3.],\n",
       "       [ 3.]])"
      ]
     },
     "execution_count": 75,
     "metadata": {},
     "output_type": "execute_result"
    }
   ],
   "source": [
    "#驗算\n",
    "A @ x #  == b"
   ]
  },
  {
   "cell_type": "markdown",
   "id": "b13daf0b-a659-49ca-860c-1d08cd847132",
   "metadata": {},
   "source": [
    "## 10 變數"
   ]
  },
  {
   "cell_type": "code",
   "execution_count": 76,
   "id": "be7e083a-3659-48cb-8930-c0a83224c18f",
   "metadata": {},
   "outputs": [
    {
     "name": "stdout",
     "output_type": "stream",
     "text": [
      "n= 10,  \n",
      "A= [[ 3  4 -2  3  3 -5  0 -2  4  4]\n",
      " [ 0  2  1 -5 -1  2  3 -4  1 -3]\n",
      " [-3 -4 -2  0  3 -4  3  2  3 -4]\n",
      " [-5  0 -1 -4  0 -1  2  1 -5 -5]\n",
      " [ 4 -3 -1  0  3  3  2  0 -4 -4]\n",
      " [-4  0  0  2 -1 -2 -5 -5 -5 -5]\n",
      " [-3 -3  2 -5  0 -5 -4 -1 -4 -3]\n",
      " [-3 -1  3 -5  1 -5 -1 -4  0 -4]\n",
      " [ 3  3  2 -5 -5  4 -4  2  3  2]\n",
      " [-1 -5 -5 -1 -2 -5  3 -3  2 -3]] \n",
      "b= [[ 2]\n",
      " [ 0]\n",
      " [-4]\n",
      " [ 3]\n",
      " [ 2]\n",
      " [ 3]\n",
      " [-3]\n",
      " [ 4]\n",
      " [ 2]\n",
      " [ 2]] \n",
      "x= [[ 5.32709399]\n",
      " [ 3.2380935 ]\n",
      " [ 6.57094315]\n",
      " [ 4.47347373]\n",
      " [-7.44088003]\n",
      " [-6.07124059]\n",
      " [ 4.54256673]\n",
      " [ 3.40883883]\n",
      " [-1.82289057]\n",
      " [-5.28412846]]\n"
     ]
    }
   ],
   "source": [
    "n= 10 \n",
    "\n",
    "np.random.seed(3) \n",
    "\n",
    "A= np.random.randint(-5,5,size=(n,n)) \n",
    "\n",
    "np.random.seed(4) \n",
    "\n",
    "b= np.random.randint(-5,5,size=(n,1)) \n",
    "\n",
    "x= np.linalg.solve(A, b) \n",
    "\n",
    "print(f'n= {n},  \\nA= {A} \\nb= {b} \\nx= {x}') "
   ]
  },
  {
   "cell_type": "code",
   "execution_count": 80,
   "id": "3c8f897f-764c-4453-9ea8-2f2f4e5d32cd",
   "metadata": {},
   "outputs": [
    {
     "data": {
      "text/plain": [
       "array([[ 2.],\n",
       "       [ 0.],\n",
       "       [-4.],\n",
       "       [ 3.],\n",
       "       [ 2.],\n",
       "       [ 3.],\n",
       "       [-3.],\n",
       "       [ 4.],\n",
       "       [ 2.],\n",
       "       [ 2.]])"
      ]
     },
     "execution_count": 80,
     "metadata": {},
     "output_type": "execute_result"
    }
   ],
   "source": [
    "#驗算\n",
    "A @ x  #== b"
   ]
  }
 ],
 "metadata": {
  "kernelspec": {
   "display_name": "Python 3",
   "language": "python",
   "name": "python3"
  },
  "language_info": {
   "codemirror_mode": {
    "name": "ipython",
    "version": 3
   },
   "file_extension": ".py",
   "mimetype": "text/x-python",
   "name": "python",
   "nbconvert_exporter": "python",
   "pygments_lexer": "ipython3",
   "version": "3.8.8"
  }
 },
 "nbformat": 4,
 "nbformat_minor": 5
}
